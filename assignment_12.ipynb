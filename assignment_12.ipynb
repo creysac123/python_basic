{
 "cells": [
  {
   "cell_type": "markdown",
   "id": "e72f1baa-e613-46c2-956b-f9f97a337162",
   "metadata": {},
   "source": [
    "### 1. In what modes should the PdfFileReader() and PdfFileWriter() File objects will be opened?"
   ]
  },
  {
   "cell_type": "markdown",
   "id": "71a5f942-c52c-4738-95c2-b1b03843d59f",
   "metadata": {},
   "source": [
    "Open the file object for PdfFileReader() in binary mode ('rb') using open() to correctly read the PDF file.\n",
    "\n",
    "Open the file object for PdfFileWriter() in binary mode ('wb') using open() to write or modify the PDF file."
   ]
  },
  {
   "cell_type": "markdown",
   "id": "ea2a615b-060b-4af2-a549-564063af0066",
   "metadata": {},
   "source": [
    "### 2. From a PdfFileReader object, how do you get a Page object for page 5?"
   ]
  },
  {
   "cell_type": "markdown",
   "id": "caeca646-e220-4f4e-b931-75871574b4e2",
   "metadata": {},
   "source": [
    "Calling pdfReader.getPage(4) will return a Page object , since page 0 is the first page."
   ]
  },
  {
   "cell_type": "markdown",
   "id": "bae096da-8f5a-45b6-89d4-2fbda77d9d13",
   "metadata": {},
   "source": [
    "### 3. What PdfFileReader variable stores the number of pages in the PDF document?"
   ]
  },
  {
   "cell_type": "markdown",
   "id": "70b4d919-e6b2-443f-bade-be0e8d6b773c",
   "metadata": {},
   "source": [
    "The number_of_Pages variable stores an integer of the number of pages in the PdfFileReader object."
   ]
  },
  {
   "cell_type": "markdown",
   "id": "f359caad-1b7d-4844-b20f-37fc3731a3ec",
   "metadata": {},
   "source": [
    "### 4.If a PdfFileReader object’s PDF is encrypted with the password swordfish, what must you do before you can obtain Page objects from it?"
   ]
  },
  {
   "cell_type": "markdown",
   "id": "c332a4d2-2a44-4bfa-90b6-eb707f166765",
   "metadata": {},
   "source": [
    "By Calling pdfReader.decrypt('swordfish')"
   ]
  },
  {
   "cell_type": "markdown",
   "id": "1f31c9c7-ea22-4426-8c62-37dd056545da",
   "metadata": {},
   "source": [
    "### 5. What methods do you use to rotate a page?"
   ]
  },
  {
   "cell_type": "markdown",
   "id": "8c1ef5bc-ef97-4156-8b4a-a61403fb4b9c",
   "metadata": {},
   "source": [
    "To rotate a page in PyPDF2:\n",
    "\n",
    "Use rotateClockwise(angle) to rotate the page clockwise by the specified angle in degrees.\n",
    "\n",
    "Use rotateCounterClockwise(angle) to rotate the page counter-clockwise by the specified angle in degrees.\n",
    "\n",
    "Use rotateClockwise90() to rotate the page 90 degrees clockwise.\n",
    "\n",
    "Use rotateCounterClockwise90() to rotate the page 90 degrees counter-clockwise."
   ]
  },
  {
   "cell_type": "markdown",
   "id": "e717b438-e13d-41b6-b5e2-6c937defd05e",
   "metadata": {},
   "source": [
    "### 6. What is the difference between a Run object and a Paragraph object?"
   ]
  },
  {
   "cell_type": "markdown",
   "id": "7244d0be-713b-4ba5-89e9-29c191fb8d29",
   "metadata": {},
   "source": [
    "In python-docx, a Paragraph object represents a block of text with formatting properties, while a Run object represents a formatted segment of text within a paragraph. Paragraphs can contain multiple Runs."
   ]
  },
  {
   "cell_type": "markdown",
   "id": "e2d389ee-01d7-471a-b53e-16c958659f92",
   "metadata": {},
   "source": [
    "### 7. How do you obtain a list of Paragraph objects for a Document object that’s stored in a variable named doc?"
   ]
  },
  {
   "cell_type": "markdown",
   "id": "3bdc3b42-5dbd-401f-be7d-b310a7d56af6",
   "metadata": {},
   "source": [
    "To obtain a list of Paragraph objects from a Document object stored in a variable named doc, you can use the paragraphs attribute of the Document object. It provides access to all the paragraphs in the document."
   ]
  },
  {
   "cell_type": "code",
   "execution_count": null,
   "id": "db5781b9-6521-4dab-9114-fb01769e4f59",
   "metadata": {},
   "outputs": [],
   "source": [
    "para= doc.paragraphs"
   ]
  },
  {
   "cell_type": "markdown",
   "id": "cd51f523-32f0-4912-afe4-1c44bd79585d",
   "metadata": {},
   "source": [
    "### 8. What type of object has bold, underline, italic, strike, and outline variables?"
   ]
  },
  {
   "cell_type": "markdown",
   "id": "a93e557f-5d04-4136-9033-2b2b0652d7cd",
   "metadata": {},
   "source": [
    "The `Run` object in python-docx has variables like `bold`, `underline`, `italic`, `strike`, and `outline` that represent formatting attributes. These variables allow you to check and manipulate the formatting of a specific run of text in a Word document."
   ]
  },
  {
   "cell_type": "markdown",
   "id": "f4140110-473b-4b81-87eb-68f972af0e32",
   "metadata": {},
   "source": [
    "### 9. What is the difference between False, True, and None for the bold variable?"
   ]
  },
  {
   "cell_type": "markdown",
   "id": "5ab2eb05-2ad1-46b7-9937-635b9e6676fa",
   "metadata": {},
   "source": [
    "By setting the bold variable to False or True, you can control whether a specific run of text appears in a bold font style or not. Using None allows the text to inherit the formatting from the document or previous runs."
   ]
  },
  {
   "cell_type": "markdown",
   "id": "32ded864-659f-477c-99ed-ef1acc0fc8b2",
   "metadata": {},
   "source": [
    "### 10. How do you create a Document object for a new Word document?"
   ]
  },
  {
   "cell_type": "code",
   "execution_count": null,
   "id": "ec59c0f4-403a-46a1-b600-f3350a7dd151",
   "metadata": {},
   "outputs": [],
   "source": [
    "# Example Program\n",
    "from docx import Document\n",
    "document = Document()\n",
    "document.add_paragraph(\"iNeuron Full Stack DataScience Course\")\n",
    "document.save('mydocument.docx')"
   ]
  },
  {
   "cell_type": "markdown",
   "id": "449e796b-fa17-4148-869c-2084f626046f",
   "metadata": {},
   "source": [
    "### 11. How do you add a paragraph with the text &#39;Hello, there!&#39; to a Document object stored in a variable named doc?"
   ]
  },
  {
   "cell_type": "code",
   "execution_count": 7,
   "id": "9e1b4672-0c3c-4a9d-8d23-2a85724ab7e7",
   "metadata": {},
   "outputs": [],
   "source": [
    "from docx import Document\n",
    "\n",
    "doc = Document()  # Create a new Document object\n",
    "\n",
    "paragraph = doc.add_paragraph('Hello, there!')  # Add a paragraph with the specified text\n",
    "\n",
    "doc.save('document.docx')  # Save the document to a file\n"
   ]
  },
  {
   "cell_type": "markdown",
   "id": "7d69b682-726a-4138-9d66-61a0573bf6ea",
   "metadata": {},
   "source": [
    "### 12. What integers represent the levels of headings available in Word documents?"
   ]
  },
  {
   "cell_type": "markdown",
   "id": "cb88f4c0-5bff-4583-9d7b-e4301b2fdab5",
   "metadata": {},
   "source": [
    "##### The integer 0 makes the heading the Title style, which is used for the top of the document. Integers 1 to 4 are for various heading levels, with 1 being the main heading and 4 the lowest subheading."
   ]
  },
  {
   "cell_type": "code",
   "execution_count": null,
   "id": "ccf9ccba-8634-46cb-9c09-b3f6b5a54cbc",
   "metadata": {},
   "outputs": [],
   "source": []
  }
 ],
 "metadata": {
  "kernelspec": {
   "display_name": "Python 3 (ipykernel)",
   "language": "python",
   "name": "python3"
  },
  "language_info": {
   "codemirror_mode": {
    "name": "ipython",
    "version": 3
   },
   "file_extension": ".py",
   "mimetype": "text/x-python",
   "name": "python",
   "nbconvert_exporter": "python",
   "pygments_lexer": "ipython3",
   "version": "3.10.6"
  }
 },
 "nbformat": 4,
 "nbformat_minor": 5
}
