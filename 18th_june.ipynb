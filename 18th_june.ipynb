{
 "cells": [
  {
   "cell_type": "markdown",
   "id": "f0f1bff7",
   "metadata": {},
   "source": [
    "### 1. What is the role of the 'else' block in a try-except statement? Provide an example scenario where it would be useful."
   ]
  },
  {
   "cell_type": "markdown",
   "id": "ceabf814",
   "metadata": {},
   "source": [
    "The else block in a `try-except` statement is executed if the code within the `try` block does not raise an exception. It is useful when you want to run some code only if no exceptions were raised in the `try` block. "
   ]
  },
  {
   "cell_type": "markdown",
   "id": "a183f161",
   "metadata": {},
   "source": [
    "### 2. Can a try-except block be nested inside another try-except block? Explain with an example."
   ]
  },
  {
   "cell_type": "markdown",
   "id": "add40a26",
   "metadata": {},
   "source": [
    "Yes, a `try-except` block can be nested inside another `try-except` block. This is known as a nested `try-except` block."
   ]
  },
  {
   "cell_type": "code",
   "execution_count": 1,
   "id": "8f5fc0dd",
   "metadata": {},
   "outputs": [
    {
     "name": "stdout",
     "output_type": "stream",
     "text": [
      "Error: Cannot divide by zero\n",
      "Error: Cannot convert string to integer\n"
     ]
    }
   ],
   "source": [
    "try:\n",
    "    # Outer try block\n",
    "    x = 5 / 0\n",
    "except ZeroDivisionError:\n",
    "    print(\"Error: Cannot divide by zero\")\n",
    "    try:\n",
    "        # Inner try block\n",
    "        y = int(\"hello\")\n",
    "    except ValueError:\n",
    "        print(\"Error: Cannot convert string to integer\")\n"
   ]
  },
  {
   "cell_type": "markdown",
   "id": "0cb44ef8",
   "metadata": {},
   "source": [
    "### 3. How can you create a custom exception class in Python? Provide an example that demonstrates its usage."
   ]
  },
  {
   "cell_type": "code",
   "execution_count": 3,
   "id": "96f293c5",
   "metadata": {},
   "outputs": [
    {
     "name": "stdout",
     "output_type": "stream",
     "text": [
      "Caught an exception: This is a custom error\n"
     ]
    }
   ],
   "source": [
    "# Define a custom exception class\n",
    "class MyCustomError(Exception):\n",
    "    pass\n",
    "\n",
    "# Use the custom exception\n",
    "try:\n",
    "    raise MyCustomError(\"This is a custom error\")\n",
    "except MyCustomError as e:\n",
    "    print(\"Caught an exception:\", e)\n"
   ]
  },
  {
   "cell_type": "markdown",
   "id": "2f81f6a2",
   "metadata": {},
   "source": [
    "In Python, you can create a custom exception by defining a new class that inherits from the built-in Exception class or one of its subclasses."
   ]
  },
  {
   "cell_type": "markdown",
   "id": "ebb2b42c",
   "metadata": {},
   "source": [
    "###  4. What are some common exceptions that are built-in to Python?"
   ]
  },
  {
   "cell_type": "markdown",
   "id": "ee7ddf14",
   "metadata": {},
   "source": [
    "Python has many built-in exceptions that can be raised when errors occur during program execution. Some common built-in exceptions include:\n",
    "- `ArithmeticError`: Raised when an error occurs in numeric calculations².\n",
    "- `AssertionError`: Raised when an `assert` statement fails².\n",
    "- `AttributeError`: Raised when attribute reference or assignment fails².\n",
    "- `EOFError`: Raised when the `input()` method hits an \"end of file\" condition (EOF)².\n",
    "- `FloatingPointError`: Raised when a floating point calculation fails².\n",
    "- `ImportError`: Raised when an imported module does not exist².\n",
    "- `IndexError`: Raised when an index of a sequence does not exist².\n",
    "- `KeyError`: Raised when a key does not exist in a dictionary².\n",
    "- `MemoryError`: Raised when a program runs out of memory².\n",
    "- `NameError`: Raised when a variable does not exist².\n",
    "- `OSError`: Raised when a system-related operation causes an error².\n",
    "- `OverflowError`: Raised when the result of a numeric calculation is too large².\n",
    "- `RuntimeError`: Raised when an error occurs that does not belong to any specific exceptions².\n",
    "- `SyntaxError`: Raised when a syntax error occurs².\n",
    "- `TypeError`: Raised when two different types are combined².\n",
    "- `ValueError`: Raised when there is a wrong value in a specified data type².\n",
    "- `ZeroDivisionError`: Raised when the second operator in a division is zero².\n"
   ]
  },
  {
   "cell_type": "markdown",
   "id": "7521b714",
   "metadata": {},
   "source": [
    "### 5. What is logging in Python, and why is it important in software development?"
   ]
  },
  {
   "cell_type": "markdown",
   "id": "6f0fa249",
   "metadata": {},
   "source": [
    "Logging is a means of tracking events that happen when software runs. It is important for software development, debugging, and running. Python has a built-in module called `logging` which allows writing status messages to a file or any other output streams. Logs can help analyze the history of the program, providing insights, patterns, and trends. Logs are designed to enhance communication between users and the application software. They are indispensable when it comes to addressing software issues and helping the developers to know the health status of the application. Logs are also pivotal to the performance of an application."
   ]
  },
  {
   "cell_type": "markdown",
   "id": "60bab4ba",
   "metadata": {},
   "source": [
    "### 6. Explain the purpose of log levels in Python logging and provide examples of when each log level would be appropriate."
   ]
  },
  {
   "cell_type": "markdown",
   "id": "a77458fa",
   "metadata": {},
   "source": [
    "Log levels in Python logging indicate the severity of events being logged. The purpose of log levels is to allow developers to categorize log messages according to their importance and filter log output based on the desired level of detail. Here are the standard log levels in Python:\n",
    "- `DEBUG` (10): Used for detailed diagnostic information.\n",
    "- `INFO` (20): Used for general informational messages.\n",
    "- `WARNING` (30): Used to indicate potential problems or issues.\n",
    "- `ERROR` (40): Used to indicate serious problems that prevent the program from performing some function.\n",
    "- `CRITICAL` (50): Used to indicate very serious problems that may cause the program to terminate.\n",
    "\n",
    "By using these log levels appropriately, developers can control the verbosity of log output and quickly identify and diagnose problems in their programs."
   ]
  },
  {
   "cell_type": "markdown",
   "id": "ff24344b",
   "metadata": {},
   "source": [
    "### 7. What are log formatters in Python logging, and how can you customise the log message format using formatters?"
   ]
  },
  {
   "cell_type": "markdown",
   "id": "ceb4eca4",
   "metadata": {},
   "source": [
    "A log formatter in Python is used to configure the final structure and content of the logs. To define the format of a log, we use the `Formatter()` method or subclass the `logging.Formatter` class. Here is an example that demonstrates how to customize the log message format using formatters:\n",
    "\n",
    "```python\n",
    "import logging\n",
    "\n",
    "# Create a custom formatter\n",
    "formatter = logging.Formatter('%(asctime)s - %(name)s - %(levelname)s - %(message)s')\n",
    "\n",
    "# Create a logger and set its level\n",
    "logger = logging.getLogger('my_logger')\n",
    "logger.setLevel(logging.DEBUG)\n",
    "\n",
    "# Create a handler, set its level and formatter, and add it to the logger\n",
    "handler = logging.StreamHandler()\n",
    "handler.setLevel(logging.DEBUG)\n",
    "handler.setFormatter(formatter)\n",
    "logger.addHandler(handler)\n",
    "\n",
    "# Log some messages\n",
    "logger.debug('This is a debug message')\n",
    "logger.info('This is an info message')\n",
    "logger.warning('This is a warning message')\n",
    "logger.error('This is an error message')\n",
    "logger.critical('This is a critical message')\n",
    "```\n",
    "\n",
    "In this example, we create a custom formatter by instantiating the `logging.Formatter` class with a format string that specifies how we want our log messages to be structured. We then create a logger and set its level to `DEBUG`, which means that it will log all messages with a level of `DEBUG` or higher. Next, we create a handler, set its level and formatter, and add it to the logger. Finally, we use the logger to log some messages with different levels."
   ]
  },
  {
   "cell_type": "markdown",
   "id": "91c70dd0",
   "metadata": {},
   "source": [
    "### 8. How can you set up logging to capture log messages from multiple modules or classes in a Python application?"
   ]
  },
  {
   "cell_type": "code",
   "execution_count": 4,
   "id": "af46f3c1",
   "metadata": {},
   "outputs": [
    {
     "name": "stderr",
     "output_type": "stream",
     "text": [
      "INFO:__main__:This is an info message from main\n",
      "INFO:mymodule:This is an info message from myfunction in mymodule\n"
     ]
    }
   ],
   "source": [
    "# mymodule.py\n",
    "import logging\n",
    "\n",
    "logger = logging.getLogger(__name__)\n",
    "\n",
    "def myfunction():\n",
    "    logger.info(\"This is an info message from myfunction in mymodule\")\n",
    "\n",
    "# main.py\n",
    "import logging\n",
    "import mymodule\n",
    "\n",
    "logger = logging.getLogger(__name__)\n",
    "\n",
    "logging.basicConfig(level=logging.INFO)\n",
    "\n",
    "logger.info(\"This is an info message from main\")\n",
    "mymodule.myfunction()\n"
   ]
  },
  {
   "cell_type": "markdown",
   "id": "11b2f74b",
   "metadata": {},
   "source": [
    "### 9. What is the difference between the logging and print statements in Python? When should you use logging over print statements in a real-world application?"
   ]
  },
  {
   "cell_type": "markdown",
   "id": "423cd2d2",
   "metadata": {},
   "source": [
    "The `logging` and `print` statements in Python serve different purposes. The `print` statement outputs text to the console, mainly used for debugging. The `logging` module provides a flexible way to emit log messages to different output destinations and can be used to record events of varying severity during program execution. In a real-world application, it is generally recommended to use the `logging` module over `print` statements for several reasons, such as the ability to categorize log messages by severity, filter log output, and easily direct log output to different destinations. Additionally, using the `logging` module makes it easier to manage and analyze log output, as well as to diagnose and debug issues in production code."
   ]
  },
  {
   "cell_type": "markdown",
   "id": "e1e5a69b",
   "metadata": {},
   "source": [
    "### 10. Write a Python program that logs a message to a file named \"app.log\" with the following requirements:\n",
    "-  The log message should be \"Hello, World!\"\n",
    "-  The log level should be set to \"INFO.\""
   ]
  },
  {
   "cell_type": "code",
   "execution_count": 6,
   "id": "bd897dcd",
   "metadata": {},
   "outputs": [
    {
     "name": "stderr",
     "output_type": "stream",
     "text": [
      "INFO:root:Hello, World!\n"
     ]
    }
   ],
   "source": [
    "import logging\n",
    "\n",
    "logging.basicConfig(filename='app.log', level=logging.INFO)\n",
    "\n",
    "# Log the message with INFO level\n",
    "logging.info('Hello, World!')\n",
    "logging.shutdown()\n"
   ]
  },
  {
   "cell_type": "markdown",
   "id": "1c93cf61",
   "metadata": {},
   "source": [
    "### 11. Create a Python program that logs an error message to the console and a file named \"errors.log\" if an exception occurs during the program's execution. The error message should include the exception type and a timestamp."
   ]
  },
  {
   "cell_type": "code",
   "execution_count": 7,
   "id": "a7c83971",
   "metadata": {},
   "outputs": [
    {
     "name": "stderr",
     "output_type": "stream",
     "text": [
      "ERROR:root:division by zero - Exception occurred at 2023-09-01 12:59:16.026483\n"
     ]
    },
    {
     "name": "stdout",
     "output_type": "stream",
     "text": [
      "Error: division by zero\n"
     ]
    }
   ],
   "source": [
    "import logging\n",
    "import datetime\n",
    "\n",
    "logging.basicConfig(filename='errors.log', level=logging.ERROR, format='%(asctime)s - %(levelname)s: %(message)s')\n",
    "\n",
    "try:\n",
    "    result = 10 / 0  # Example: Division by zero to trigger an exception\n",
    "except Exception as e:\n",
    "    logging.error(f'{str(e)} - Exception occurred at {datetime.datetime.now()}')\n",
    "\n",
    "    print(f'Error: {str(e)}')\n",
    "\n",
    "logging.shutdown()\n"
   ]
  },
  {
   "cell_type": "code",
   "execution_count": null,
   "id": "e3e2edc1",
   "metadata": {},
   "outputs": [],
   "source": []
  }
 ],
 "metadata": {
  "kernelspec": {
   "display_name": "Python 3 (ipykernel)",
   "language": "python",
   "name": "python3"
  },
  "language_info": {
   "codemirror_mode": {
    "name": "ipython",
    "version": 3
   },
   "file_extension": ".py",
   "mimetype": "text/x-python",
   "name": "python",
   "nbconvert_exporter": "python",
   "pygments_lexer": "ipython3",
   "version": "3.9.12"
  }
 },
 "nbformat": 4,
 "nbformat_minor": 5
}
