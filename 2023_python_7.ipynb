{
 "cells": [
  {
   "cell_type": "markdown",
   "id": "be5276e8",
   "metadata": {},
   "source": [
    "### Q.1. Create two int type variables, apply addition, subtraction, division and multiplicationsand store the results in variables. Then print the data in the following format by calling the variables:\n",
    "\n",
    "- First variable is __ & second variable is __.\n",
    "- Addition: __ + __ = __\n",
    "- Subtraction: __ - __ = __\n",
    "- Multiplication: __ * __ = __\n",
    "- Division: __ / __ = __"
   ]
  },
  {
   "cell_type": "code",
   "execution_count": 1,
   "id": "e6efc9bd",
   "metadata": {},
   "outputs": [
    {
     "name": "stdout",
     "output_type": "stream",
     "text": [
      "First variable is 10 & second variable is 5.\n",
      "Addition: 10 + 5 = 15\n",
      "Subtraction: 10 - 5 = 5\n",
      "Multiplication: 10 * 5 = 50\n",
      "Division: 10 / 5 = 2.0\n"
     ]
    }
   ],
   "source": [
    "# Create two int type variables\n",
    "num1 = 10\n",
    "num2 = 5\n",
    "\n",
    "# Perform the operations and store the results in variables\n",
    "addition_result = num1 + num2\n",
    "subtraction_result = num1 - num2\n",
    "multiplication_result = num1 * num2\n",
    "division_result = num1 / num2\n",
    "\n",
    "# Print the results in the desired format\n",
    "print(f\"First variable is {num1} & second variable is {num2}.\")\n",
    "print(f\"Addition: {num1} + {num2} = {addition_result}\")\n",
    "print(f\"Subtraction: {num1} - {num2} = {subtraction_result}\")\n",
    "print(f\"Multiplication: {num1} * {num2} = {multiplication_result}\")\n",
    "print(f\"Division: {num1} / {num2} = {division_result}\")\n"
   ]
  },
  {
   "cell_type": "markdown",
   "id": "b1d616fa",
   "metadata": {},
   "source": [
    "### Q.2. What is the difference between the following operators:\n",
    "\n",
    "(i) ‘/’ & ‘//’\n",
    "\n",
    "(ii) ‘**’ & ‘^’"
   ]
  },
  {
   "cell_type": "markdown",
   "id": "5f7d555b",
   "metadata": {},
   "source": [
    "#### (i) Difference between '/' and '//':\n",
    "\n",
    "/ is for floating-point division.\n",
    "\n",
    "// is for floor division (integer division).\n",
    "\n",
    "#### (ii) Difference between ** and ^:\n",
    "\n",
    "** is the exponentiation operator.\n",
    "\n",
    "^ is the bitwise XOR operator."
   ]
  },
  {
   "cell_type": "code",
   "execution_count": 2,
   "id": "3cc46442",
   "metadata": {},
   "outputs": [
    {
     "name": "stdout",
     "output_type": "stream",
     "text": [
      "2.5\n",
      "2\n"
     ]
    }
   ],
   "source": [
    "# Floating-point division\n",
    "result1 = 5 / 2\n",
    "print(result1)  # Output: 2.5\n",
    "\n",
    "# Floor division (integer division)\n",
    "result2 = 5 // 2\n",
    "print(result2)  # Output: 2\n"
   ]
  },
  {
   "cell_type": "code",
   "execution_count": 3,
   "id": "4aa0f835",
   "metadata": {},
   "outputs": [
    {
     "name": "stdout",
     "output_type": "stream",
     "text": [
      "8\n",
      "1\n"
     ]
    }
   ],
   "source": [
    "# Exponentiation\n",
    "result1 = 2 ** 3\n",
    "print(result1)  # Output: 8\n",
    "\n",
    "# Bitwise XOR\n",
    "result2 = 2 ^ 3\n",
    "print(result2)  # Output: 1\n"
   ]
  },
  {
   "cell_type": "markdown",
   "id": "717dd02a",
   "metadata": {},
   "source": [
    "### Q.3. List the logical operators."
   ]
  },
  {
   "cell_type": "markdown",
   "id": "0a5cb6ea",
   "metadata": {},
   "source": [
    "The logical operators in Python are:\n",
    "\n",
    "1. `and`: The `and` operator returns `True` if both operands are `True`, otherwise, it returns `False`.\n",
    "\n",
    "2. `or`: The `or` operator returns `True` if at least one of the operands is `True`, otherwise, it returns `False`.\n",
    "\n",
    "3. `not`: The `not` operator returns the opposite boolean value of the operand. If the operand is `True`, it returns `False`, and if the operand is `False`, it returns `True`.\n",
    "\n",
    "Logical operators are often used to combine conditions and make decisions based on multiple conditions in Python programs. They are commonly used in if-statements and while-loops to control the flow of the program based on boolean expressions."
   ]
  },
  {
   "cell_type": "markdown",
   "id": "a50e4297",
   "metadata": {},
   "source": [
    "### Q.4. Explain right shift operator and left shift operator with examples."
   ]
  },
  {
   "cell_type": "markdown",
   "id": "7fe8bd45",
   "metadata": {},
   "source": [
    "**Right Shift Operator (`>>`):**\n",
    "- The right shift operator shifts the bits of an integer to the right by a specified number of positions, discarding the rightmost bits.\n",
    "- Example: `x = 16; result = x >> 3` gives `result = 2` (binary `00000010`).\n",
    "\n",
    "**Left Shift Operator (`<<`):**\n",
    "- The left shift operator shifts the bits of an integer to the left by a specified number of positions, filling the rightmost bits with zeros.\n",
    "- Example: `y = 5; result = y << 2` gives `result = 20` (binary `00010100`).\n",
    "\n",
    "These bitwise operators are used in low-level programming scenarios for efficient manipulation of binary data."
   ]
  },
  {
   "cell_type": "code",
   "execution_count": 4,
   "id": "8b71b7aa",
   "metadata": {},
   "outputs": [
    {
     "name": "stdout",
     "output_type": "stream",
     "text": [
      "2\n"
     ]
    }
   ],
   "source": [
    "# Right shift 3 positions\n",
    "x = 16       \n",
    "result = x >> 3\n",
    "print(result)  \n"
   ]
  },
  {
   "cell_type": "code",
   "execution_count": 5,
   "id": "0b6d357a",
   "metadata": {},
   "outputs": [
    {
     "name": "stdout",
     "output_type": "stream",
     "text": [
      "20\n"
     ]
    }
   ],
   "source": [
    "# Left shift 2 positions\n",
    "y = 5        \n",
    "result = y << 2\n",
    "print(result)  \n"
   ]
  },
  {
   "cell_type": "markdown",
   "id": "94a34efa",
   "metadata": {},
   "source": [
    "### Q.5. Create a list containing int type data of length 15. Then write a code to check if 10 is present in the list or not."
   ]
  },
  {
   "cell_type": "code",
   "execution_count": 18,
   "id": "0e0bdb75",
   "metadata": {},
   "outputs": [
    {
     "name": "stdout",
     "output_type": "stream",
     "text": [
      "10 is present in the list.\n"
     ]
    }
   ],
   "source": [
    "import numpy as np\n",
    "\n",
    "my_list = list(np.random.randint(1,50,15))\n",
    "\n",
    "# Check if 10 is present in the list\n",
    "if 10 in my_list:\n",
    "    print(\"10 is present in the list.\")\n",
    "else:\n",
    "    print(\"10 is not present in the list.\")\n"
   ]
  }
 ],
 "metadata": {
  "kernelspec": {
   "display_name": "Python 3 (ipykernel)",
   "language": "python",
   "name": "python3"
  },
  "language_info": {
   "codemirror_mode": {
    "name": "ipython",
    "version": 3
   },
   "file_extension": ".py",
   "mimetype": "text/x-python",
   "name": "python",
   "nbconvert_exporter": "python",
   "pygments_lexer": "ipython3",
   "version": "3.9.12"
  }
 },
 "nbformat": 4,
 "nbformat_minor": 5
}
