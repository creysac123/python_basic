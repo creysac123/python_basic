{
 "cells": [
  {
   "cell_type": "markdown",
   "id": "3966584e-6c2b-40c3-8887-424403ab74db",
   "metadata": {},
   "source": [
    "1.What is the name of the feature responsible for generating Regex objects?\n",
    "\n",
    "In Python, the feature responsible for generating Regex objects is the re module. \n",
    "To work with regex patterns, you can use the re.compile() function, which compiles a regular expression pattern into a Regex object that can be used for matching and searching operations."
   ]
  },
  {
   "cell_type": "code",
   "execution_count": 2,
   "id": "6912be06-fe5f-44a3-aa18-f37dc783514b",
   "metadata": {},
   "outputs": [
    {
     "name": "stdout",
     "output_type": "stream",
     "text": [
      "['2', '3']\n"
     ]
    }
   ],
   "source": [
    "import re\n",
    "\n",
    "pattern = r'\\d+' \n",
    "\n",
    "regex = re.compile(pattern)\n",
    "\n",
    "text = \"I have 2 apples and 3 eggs.\"\n",
    "matches = regex.findall(text) \n",
    "\n",
    "print(matches) \n"
   ]
  },
  {
   "cell_type": "markdown",
   "id": "2733e089-f95e-4fd2-80af-1006587fd8c6",
   "metadata": {},
   "source": [
    "2. Why do raw strings often appear in Regex objects?\n",
    "\n",
    "Raw strings (r prefix) are often used in Regex objects to prevent unintended interpretation of backslashes. "
   ]
  },
  {
   "cell_type": "markdown",
   "id": "44a4c989-f8b2-46b9-b11d-4fbf2e8be9a4",
   "metadata": {},
   "source": [
    "3. What is the return value of the search() method?\n",
    "\n",
    "The return value of the search() method is a match object,  or it returns None if no match is found."
   ]
  },
  {
   "cell_type": "code",
   "execution_count": 3,
   "id": "ffc73fee-8392-4d98-8c47-0651afb5869e",
   "metadata": {},
   "outputs": [
    {
     "name": "stdout",
     "output_type": "stream",
     "text": [
      "Pattern found!\n",
      "Matched string: apple\n",
      "Start index: 10\n",
      "End index: 15\n"
     ]
    }
   ],
   "source": [
    "pattern = r\"apple\"\n",
    "text = \"I have an apple and a banana.\"\n",
    "\n",
    "match = re.search(pattern, text)\n",
    "\n",
    "if match:\n",
    "    print(\"Pattern found!\")\n",
    "    print(\"Matched string:\", match.group())  \n",
    "    print(\"Start index:\", match.start())     \n",
    "    print(\"End index:\", match.end())         \n",
    "else:\n",
    "    print(\"Pattern not found.\")"
   ]
  },
  {
   "cell_type": "markdown",
   "id": "897efee8-83c6-4e9c-a4e1-03573f411a72",
   "metadata": {},
   "source": [
    "4. From a Match item, how do you get the actual strings that match the pattern?\n",
    "\n",
    "To obtain the actual strings that match the pattern from a match object, you can use the group() method."
   ]
  },
  {
   "cell_type": "code",
   "execution_count": 4,
   "id": "3d43779d-8aef-4c5d-bac2-08a8b2a9d086",
   "metadata": {},
   "outputs": [
    {
     "name": "stdout",
     "output_type": "stream",
     "text": [
      "42\n"
     ]
    }
   ],
   "source": [
    "pattern = r'\\d+' \n",
    "text = 'I have 42 apples and 3 bananas.'\n",
    "\n",
    "match = re.search(pattern, text)\n",
    "\n",
    "if match:\n",
    "    matched_string = match.group()\n",
    "    print(matched_string)  \n"
   ]
  },
  {
   "cell_type": "markdown",
   "id": "5b77ca7f-f090-489d-8463-567c8bc37fdb",
   "metadata": {},
   "source": [
    "5. In the regex which created from the r'(\\d\\d\\d)-(\\d\\d\\d-\\d\\d\\d\\d)', what does group zero cover? Group 2? Group 1?\n",
    "\n",
    "group zero: the entire match\n",
    "group one: the first capturing group\n",
    "group two: the second capturing group"
   ]
  },
  {
   "cell_type": "code",
   "execution_count": 5,
   "id": "ec2698bf-8f7d-49ea-86e0-b957ba2443cd",
   "metadata": {},
   "outputs": [
    {
     "name": "stdout",
     "output_type": "stream",
     "text": [
      "Full match: 123-456-7890\n",
      "Group 1: 123\n",
      "Group 2: 456-7890\n"
     ]
    }
   ],
   "source": [
    "pattern = r'(\\d\\d\\d)-(\\d\\d\\d-\\d\\d\\d\\d)'\n",
    "text = 'Phone numbers: 123-456-7890, 987-654-3210'\n",
    "\n",
    "match = re.search(pattern, text)\n",
    "\n",
    "if match:\n",
    "    full_match = match.group(0) \n",
    "    group1 = match.group(1)      \n",
    "    group2 = match.group(2)      \n",
    "\n",
    "    print(\"Full match:\", full_match)\n",
    "    print(\"Group 1:\", group1)\n",
    "    print(\"Group 2:\", group2)\n"
   ]
  },
  {
   "cell_type": "markdown",
   "id": "8f2fc6b0-c5dc-4a6b-9905-291639551f51",
   "metadata": {},
   "source": [
    "6. In standard expression syntax, parentheses and intervals have distinct meanings. How can you tell a regex that you want it to fit real parentheses and periods?\n",
    "\n",
    "Use \\( to match the opening parenthesis.\n",
    "\n",
    "Use \\) to match the closing parenthesis.\n",
    "\n",
    "Use \\. to match any single character."
   ]
  },
  {
   "cell_type": "code",
   "execution_count": 7,
   "id": "9034390d-f932-4867-9f98-38c1990a6f6d",
   "metadata": {},
   "outputs": [
    {
     "name": "stdout",
     "output_type": "stream",
     "text": [
      "Pattern matched!\n",
      "(John).Doe\n"
     ]
    }
   ],
   "source": [
    "pattern = r'\\(John\\)\\.Doe'\n",
    "text = '(John).Doe'\n",
    "\n",
    "match = re.search(pattern, text)\n",
    "\n",
    "if match:\n",
    "    print(\"Pattern matched!\")\n",
    "else:\n",
    "    print(\"Pattern not found.\")\n",
    "print(match.group())"
   ]
  },
  {
   "cell_type": "markdown",
   "id": "fd3b4cb8-7bce-4e8b-9794-32bab6d89a64",
   "metadata": {},
   "source": [
    "7. The findall() method returns a string list or a list of string tuples. What causes it to return one of the two options?\n",
    "\n",
    "The findall() method in Python's regular expression module (re) returns either a list of strings or a list of string tuples based on the presence of capturing groups in the regular expression pattern."
   ]
  },
  {
   "cell_type": "code",
   "execution_count": 8,
   "id": "632a2c2e-edcb-4cac-955a-ad90a45e716d",
   "metadata": {},
   "outputs": [
    {
     "name": "stdout",
     "output_type": "stream",
     "text": [
      "Matches without groups: ['123', '456', '789']\n",
      "Matches with groups: [('456', '789')]\n"
     ]
    }
   ],
   "source": [
    "pattern_no_groups = r'\\d+'              \n",
    "pattern_with_groups = r'(\\d+)-(\\d+)'    \n",
    "text = 'Numbers: 123, 456-789'\n",
    "\n",
    "matches_no_groups = re.findall(pattern_no_groups, text)\n",
    "matches_with_groups = re.findall(pattern_with_groups, text)\n",
    "\n",
    "print(\"Matches without groups:\", matches_no_groups)\n",
    "print(\"Matches with groups:\", matches_with_groups)\n"
   ]
  },
  {
   "cell_type": "markdown",
   "id": "964f1d10-03eb-4237-a30e-d38c18cb3818",
   "metadata": {},
   "source": [
    "8. In standard expressions, what does the | character mean?\n",
    "\n",
    "| means \"or\"."
   ]
  },
  {
   "cell_type": "markdown",
   "id": "947051c5-a70e-4f40-8bbd-14a2b5e40bca",
   "metadata": {},
   "source": [
    "9. In regular expressions, what does the character ? stand for?\n",
    "\n",
    "In regular Expressions, ? characters represents zero or one match of the preceeding group."
   ]
  },
  {
   "cell_type": "code",
   "execution_count": 20,
   "id": "7b446e13-eacd-4479-be65-9a6e9a12554d",
   "metadata": {},
   "outputs": [
    {
     "name": "stdout",
     "output_type": "stream",
     "text": [
      "Matched: color\n"
     ]
    }
   ],
   "source": [
    "pattern = r'colou?r'\n",
    "text1 = 'color'\n",
    "\n",
    "match = re.search(pattern, text1)\n",
    "\n",
    "if match:\n",
    "    print(\"Matched:\", match.group())\n",
    "else:\n",
    "    print(\"Not matched.\")"
   ]
  },
  {
   "cell_type": "markdown",
   "id": "fb3f6766-365b-49d7-bcd4-2568f6029050",
   "metadata": {},
   "source": [
    "10.In regular expressions, what is the difference between the + and * characters?\n",
    "\n",
    "In Regular Expressions, * Represents Zero ore more occurances of the preceeding group, whereas + represents one or more occurances of the preceeding group."
   ]
  },
  {
   "cell_type": "code",
   "execution_count": 23,
   "id": "49af0ff0-8d49-4616-aa82-1d410cfbf10d",
   "metadata": {},
   "outputs": [
    {
     "name": "stdout",
     "output_type": "stream",
     "text": [
      "<re.Match object; span=(0, 12), match='Data Science'>\n",
      "<re.Match object; span=(0, 12), match='Data Science'>\n"
     ]
    }
   ],
   "source": [
    "match_1 = re.search(\"Data (Sc)+ience\",\"Data Science program\")\n",
    "print(match_1)\n",
    "match_2 = re.search(\"Data (Sc)*ience\",\"Data Science program\")\n",
    "print(match_2)"
   ]
  },
  {
   "cell_type": "markdown",
   "id": "9eda4850-8604-4324-973d-3d5721fa6065",
   "metadata": {},
   "source": [
    "11. What is the difference between {4} and {4,5} in regular expression?\n",
    "\n",
    "{4} means that its preceeding group should repeat 4 times. where as {4,5} means that its preceeding group should repeat mininum 4 times and maximum 5 times inclusively"
   ]
  },
  {
   "cell_type": "code",
   "execution_count": 24,
   "id": "58d80c21-07fd-43d3-97bc-d7c366687628",
   "metadata": {},
   "outputs": [
    {
     "name": "stdout",
     "output_type": "stream",
     "text": [
      "HaHaHa\n",
      "None\n"
     ]
    }
   ],
   "source": [
    "reg = re.compile(r'(Ha){3}')\n",
    "m1 = reg.search('HaHaHa')\n",
    "m2 = reg.search('Ha')\n",
    "print(m1.group())\n",
    "print(m2)"
   ]
  },
  {
   "cell_type": "markdown",
   "id": "66a750c7-8e9f-4fc8-965d-191f58dcb77b",
   "metadata": {},
   "source": [
    "12. What do you mean by the \\d, \\w, and \\s shorthand character classes signify in regular expressions?\n",
    "\n",
    "\\w – Matches a word character equivalent to [a-zA-Z0-9_]\n",
    "\n",
    "\\d – Matches digit character equivalent to [0-9]\n",
    "\n",
    "\\s – Matches whitespace character (space, tab, newline, etc.)"
   ]
  },
  {
   "cell_type": "markdown",
   "id": "c40b6c0c-9194-4a70-b792-61d26cf2c021",
   "metadata": {},
   "source": [
    "13. What do means by \\D, \\W, and \\S shorthand character classes signify in regular expressions?\n",
    "\n",
    "\\W – Matches any non-alphanumeric character equivalent to [^a-zA-Z0-9_]\n",
    "\n",
    "\\D – Matches any non-digit character, this is equivalent to the set class [^0-9]\n",
    "\n",
    "\\S – Matches any non-whitespace character"
   ]
  },
  {
   "cell_type": "markdown",
   "id": "2f4453d7-cfe6-4350-bc6f-8bab85841f83",
   "metadata": {},
   "source": [
    "14. What is the difference between .*? and .*?\n",
    ".* is a Greedy mode, which returns the longest string that meets the condition. \n",
    "\n",
    "Whereas .*? is a non greedy mode which returns the shortest string that meets the condition."
   ]
  },
  {
   "cell_type": "markdown",
   "id": "376d413b-8558-4d85-b728-1a6c5c43f238",
   "metadata": {},
   "source": [
    "15. What is the syntax for matching both numbers and lowercase letters with a character class?\n",
    "\n",
    "The Synatax is Either [a-z0-9] or [0-9a-z]"
   ]
  },
  {
   "cell_type": "markdown",
   "id": "754c07e3-fc24-4e22-87f3-37b57a0b7981",
   "metadata": {},
   "source": [
    "16. What is the procedure for making a normal expression in regax case insensitive?\n",
    "\n",
    "We can pass re.IGNORECASE as a flag to make a noraml expression case insensitive"
   ]
  },
  {
   "cell_type": "markdown",
   "id": "f251f8dd-0ff0-4865-851d-61c6b6490780",
   "metadata": {},
   "source": [
    "17. What does the . character normally match? What does it match if re.DOTALL is passed as 2nd argument in re.compile()?\n",
    "\n",
    "Without re.DOTALL: The dot (.) matches any character except a newline.\n",
    "With re.DOTALL: The dot (.) matches any character, including newline characters."
   ]
  },
  {
   "cell_type": "markdown",
   "id": "fd6f57c2-930d-460c-8291-693e0627a507",
   "metadata": {},
   "source": [
    "18. If numReg = re.compile(r'\\d+'), what will numRegex.sub('X', '11 drummers, 10 pipers, five rings, 4 hen') return?\n",
    "\n",
    "Ouput will be 'X drummers, X pipers, five rings, X hen'"
   ]
  },
  {
   "cell_type": "code",
   "execution_count": 2,
   "id": "f2c79425-3ed3-4194-8eb7-b3aac452a226",
   "metadata": {},
   "outputs": [
    {
     "data": {
      "text/plain": [
       "'X drummers, X pipers, five rings, X hen'"
      ]
     },
     "execution_count": 2,
     "metadata": {},
     "output_type": "execute_result"
    }
   ],
   "source": [
    "import re\n",
    "numReg = re.compile(r'\\d+')\n",
    "numReg.sub('X', '11 drummers, 10 pipers, five rings, 4 hen')"
   ]
  },
  {
   "cell_type": "markdown",
   "id": "cdda98f0-c27f-435d-b2c2-f549854102ad",
   "metadata": {},
   "source": [
    "19. What does passing re.VERBOSE as the 2nd argument to re.compile() allow to do?\n",
    "\n",
    "Passing re.VERBOSE as the second argument to re.compile() allows you to write more readable and organized regular expressions by ignoring whitespace and adding comments."
   ]
  },
  {
   "cell_type": "code",
   "execution_count": 5,
   "id": "bf5e8287-85bf-4614-a28e-73ea74137b5b",
   "metadata": {},
   "outputs": [
    {
     "name": "stdout",
     "output_type": "stream",
     "text": [
      "123-4567\n"
     ]
    }
   ],
   "source": [
    "pattern = re.compile(r\"\"\"\n",
    "    \\d{3}  # Match three digits\n",
    "    -      # Match a hyphen\n",
    "    \\d{4}  # Match four digits\n",
    "\"\"\", re.VERBOSE)\n",
    "\n",
    "result = pattern.search(\"Phone number: 123-4567\")\n",
    "print(result.group())  # Output: 123-4567\n"
   ]
  },
  {
   "cell_type": "markdown",
   "id": "99f85174-4854-473a-9ac4-f952ff28ef80",
   "metadata": {},
   "source": [
    "20. How would you write a regex that match a number with comma for every three digits? It must match the given following:\n",
    "'42','1,234', '6,368,745'\n",
    "but not the following: '12,34,567' (which has only two digits between the commas) '1234' (which lacks commas)\n",
    "\n"
   ]
  },
  {
   "cell_type": "code",
   "execution_count": 8,
   "id": "d9306968-4aa3-48fb-825c-b799790dd441",
   "metadata": {},
   "outputs": [
    {
     "name": "stdout",
     "output_type": "stream",
     "text": [
      "42 is a valid number.\n",
      "1,234 is a valid number.\n",
      "6,368,745 is a valid number.\n",
      "12,34,567 is not a valid number.\n",
      "1234 is not a valid number.\n"
     ]
    }
   ],
   "source": [
    "pattern = re.compile(r\"\\d{1,3}(?:,\\d{3})*$\")\n",
    "\n",
    "numbers = ['42', '1,234', '6,368,745','12,34,567','1234']\n",
    "\n",
    "for number in numbers:\n",
    "    if pattern.match(number):\n",
    "        print(f\"{number} is a valid number.\")\n",
    "    else:\n",
    "        print(f\"{number} is not a valid number.\")\n"
   ]
  },
  {
   "cell_type": "markdown",
   "id": "3ca549d1-32eb-4c0c-b849-aa3aa1b44295",
   "metadata": {},
   "source": [
    "21. How would you write a regex that matches the full name of someone whose last name is Watanabe? You can assume that the first name that comes before it will always be one word that begins with a capital letter. The regex must match the following:\n",
    "'Haruto Watanabe'\n",
    "\n",
    "'Alice Watanabe'\n",
    "\n",
    "'RoboCop Watanabe'\n",
    "\n",
    "but not the following:\n",
    "\n",
    "'haruto Watanabe' (where the first name is not capitalized)\n",
    "\n",
    "'Mr. Watanabe' (where the preceding word has a nonletter character)\n",
    "\n",
    "'Watanabe' (which has no first name)\n",
    "\n",
    "'Haruto watanabe' (where Watanabe is not capitalized)\n"
   ]
  },
  {
   "cell_type": "code",
   "execution_count": 10,
   "id": "8684ce77-ece0-4fd8-8797-42be949f38e1",
   "metadata": {},
   "outputs": [
    {
     "name": "stdout",
     "output_type": "stream",
     "text": [
      "Haruto Watanabe is a valid name.\n",
      "Alice Watanabe is a valid name.\n",
      "RoboCop Watanabe is a valid name.\n",
      "haruto Watanabe is not a valid name.\n",
      "Mr. Watanabe is not a valid name.\n",
      "Watanabe is not a valid name.\n",
      "Haruto watanabe is not a valid name.\n"
     ]
    }
   ],
   "source": [
    "pattern = re.compile(r\"^[A-Z][a-zA-Z]*\\sWatanabe$\")\n",
    "\n",
    "names = ['Haruto Watanabe', 'Alice Watanabe', 'RoboCop Watanabe', 'haruto Watanabe', 'Mr. Watanabe', 'Watanabe', 'Haruto watanabe']\n",
    "\n",
    "for name in names:\n",
    "    if pattern.match(name):\n",
    "        print(f\"{name} is a valid name.\")\n",
    "    else:\n",
    "        print(f\"{name} is not a valid name.\")"
   ]
  },
  {
   "cell_type": "markdown",
   "id": "8278c35d-7f9b-4dae-8a29-6a3c808e2c12",
   "metadata": {},
   "source": [
    "22. How would you write a regex that matches a sentence where the first word is either Alice, Bob,or Carol; the second word is either eats, pets, or throws; the third word is apples, cats, or baseballs; and the sentence ends with a period? This regex should be case-insensitive. It must match the following:\n",
    "'Alice eats apples.'\n",
    "\n",
    "'Bob pets cats.'\n",
    "\n",
    "'Carol throws baseballs.'\n",
    "\n",
    "'Alice throws Apples.'\n",
    "\n",
    "'BOB EATS CATS.'\n",
    "\n",
    "but not the following:\n",
    "\n",
    "'RoboCop eats apples.'\n",
    "\n",
    "'ALICE THROWS FOOTBALLS.'\n",
    "\n",
    "'Carol eats 7 cats.'"
   ]
  },
  {
   "cell_type": "code",
   "execution_count": 11,
   "id": "59245c2e-09fe-49f4-a7ce-c736cb72c66b",
   "metadata": {},
   "outputs": [
    {
     "name": "stdout",
     "output_type": "stream",
     "text": [
      "Alice eats apples. is a valid sentence.\n",
      "Bob pets cats. is a valid sentence.\n",
      "Carol throws baseballs. is a valid sentence.\n",
      "Alice throws Apples. is a valid sentence.\n",
      "BOB EATS CATS. is a valid sentence.\n",
      "RoboCop eats apples. is not a valid sentence.\n",
      "ALICE THROWS FOOTBALLS. is not a valid sentence.\n",
      "Carol eats 7 cats. is not a valid sentence.\n"
     ]
    }
   ],
   "source": [
    "pattern = re.compile(r\"^(Alice|Bob|Carol)\\s+(eats|pets|throws)\\s+(apples|cats|baseballs)\\.$\", re.IGNORECASE)\n",
    "\n",
    "sentences = [\n",
    "    'Alice eats apples.',\n",
    "    'Bob pets cats.',\n",
    "    'Carol throws baseballs.',\n",
    "    'Alice throws Apples.',\n",
    "    'BOB EATS CATS.',\n",
    "    'RoboCop eats apples.',\n",
    "    'ALICE THROWS FOOTBALLS.',\n",
    "    'Carol eats 7 cats.'\n",
    "]\n",
    "\n",
    "for sentence in sentences:\n",
    "    if pattern.match(sentence):\n",
    "        print(f\"{sentence} is a valid sentence.\")\n",
    "    else:\n",
    "        print(f\"{sentence} is not a valid sentence.\")"
   ]
  },
  {
   "cell_type": "code",
   "execution_count": null,
   "id": "74d9e08f-a6bf-439c-9bc0-2701cd79cd25",
   "metadata": {},
   "outputs": [],
   "source": []
  }
 ],
 "metadata": {
  "kernelspec": {
   "display_name": "Python 3 (ipykernel)",
   "language": "python",
   "name": "python3"
  },
  "language_info": {
   "codemirror_mode": {
    "name": "ipython",
    "version": 3
   },
   "file_extension": ".py",
   "mimetype": "text/x-python",
   "name": "python",
   "nbconvert_exporter": "python",
   "pygments_lexer": "ipython3",
   "version": "3.10.6"
  }
 },
 "nbformat": 4,
 "nbformat_minor": 5
}
