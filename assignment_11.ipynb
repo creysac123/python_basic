{
 "cells": [
  {
   "cell_type": "markdown",
   "id": "2453f0c7-fd4e-4d5c-8a03-7f601c2da5b9",
   "metadata": {},
   "source": [
    "### 1. Create an assert statement that throws an AssertionError if the variable spam is a negative integer."
   ]
  },
  {
   "cell_type": "code",
   "execution_count": 1,
   "id": "770d76e3-9f54-4f5b-b2b4-fc0d2544fc2a",
   "metadata": {},
   "outputs": [
    {
     "ename": "AssertionError",
     "evalue": "Variable spam should not be a negative integer.",
     "output_type": "error",
     "traceback": [
      "\u001b[0;31m---------------------------------------------------------------------------\u001b[0m",
      "\u001b[0;31mAssertionError\u001b[0m                            Traceback (most recent call last)",
      "Cell \u001b[0;32mIn [1], line 3\u001b[0m\n\u001b[1;32m      1\u001b[0m spam \u001b[38;5;241m=\u001b[39m \u001b[38;5;241m-\u001b[39m\u001b[38;5;241m5\u001b[39m \n\u001b[0;32m----> 3\u001b[0m \u001b[38;5;28;01massert\u001b[39;00m spam \u001b[38;5;241m>\u001b[39m\u001b[38;5;241m=\u001b[39m \u001b[38;5;241m0\u001b[39m, \u001b[38;5;124m\"\u001b[39m\u001b[38;5;124mVariable spam should not be a negative integer.\u001b[39m\u001b[38;5;124m\"\u001b[39m\n",
      "\u001b[0;31mAssertionError\u001b[0m: Variable spam should not be a negative integer."
     ]
    }
   ],
   "source": [
    "spam = -5 \n",
    "\n",
    "assert spam >= 0, \"Variable spam should not be a negative integer.\"\n"
   ]
  },
  {
   "cell_type": "markdown",
   "id": "a906b3f1-87f5-4693-ad01-584ce2f0aaf7",
   "metadata": {},
   "source": [
    "### 2. Write an assert statement that triggers an AssertionError if the variables eggs and bacon contain strings that are the same as each other, even if their cases are different (that is, &#39;hello&#39; and &#39;hello&#39; are considered the same, and &#39;goodbye&#39; and &#39;GOODbye&#39; are also considered the same)."
   ]
  },
  {
   "cell_type": "code",
   "execution_count": 2,
   "id": "7e83f9f4-4566-443b-b706-925544684d1a",
   "metadata": {},
   "outputs": [
    {
     "ename": "AssertionError",
     "evalue": "Variables eggs and bacon should not have the same value (case-insensitive).",
     "output_type": "error",
     "traceback": [
      "\u001b[0;31m---------------------------------------------------------------------------\u001b[0m",
      "\u001b[0;31mAssertionError\u001b[0m                            Traceback (most recent call last)",
      "Cell \u001b[0;32mIn [2], line 4\u001b[0m\n\u001b[1;32m      1\u001b[0m eggs \u001b[38;5;241m=\u001b[39m \u001b[38;5;124m\"\u001b[39m\u001b[38;5;124mhello\u001b[39m\u001b[38;5;124m\"\u001b[39m  \n\u001b[1;32m      2\u001b[0m bacon \u001b[38;5;241m=\u001b[39m \u001b[38;5;124m\"\u001b[39m\u001b[38;5;124mHELLO\u001b[39m\u001b[38;5;124m\"\u001b[39m  \n\u001b[0;32m----> 4\u001b[0m \u001b[38;5;28;01massert\u001b[39;00m eggs\u001b[38;5;241m.\u001b[39mlower() \u001b[38;5;241m!=\u001b[39m bacon\u001b[38;5;241m.\u001b[39mlower(), \u001b[38;5;124m\"\u001b[39m\u001b[38;5;124mVariables eggs and bacon should not have the same value (case-insensitive).\u001b[39m\u001b[38;5;124m\"\u001b[39m\n",
      "\u001b[0;31mAssertionError\u001b[0m: Variables eggs and bacon should not have the same value (case-insensitive)."
     ]
    }
   ],
   "source": [
    "eggs = \"hello\"  \n",
    "bacon = \"HELLO\"  \n",
    "\n",
    "assert eggs.lower() != bacon.lower(), \"Variables eggs and bacon should not have the same value (case-insensitive).\"\n"
   ]
  },
  {
   "cell_type": "markdown",
   "id": "1155a547-9ca2-43a3-a49c-a1ccafabe8d9",
   "metadata": {},
   "source": [
    "### 3. Create an assert statement that throws an AssertionError every time."
   ]
  },
  {
   "cell_type": "code",
   "execution_count": null,
   "id": "07dc64b4-8003-4549-909b-f366e60ec860",
   "metadata": {},
   "outputs": [
    {
     "ename": "AssertionError",
     "evalue": "This assert statement will always raise an AssertionError.",
     "output_type": "error",
     "traceback": [
      "\u001b[0;31m---------------------------------------------------------------------------\u001b[0m",
      "\u001b[0;31mAssertionError\u001b[0m                            Traceback (most recent call last)",
      "Cell \u001b[0;32mIn [3], line 1\u001b[0m\n\u001b[0;32m----> 1\u001b[0m \u001b[38;5;28;01massert\u001b[39;00m \u001b[38;5;28;01mFalse\u001b[39;00m, \u001b[38;5;124m\"\u001b[39m\u001b[38;5;124mThis assert statement will always raise an AssertionError.\u001b[39m\u001b[38;5;124m\"\u001b[39m\n",
      "\u001b[0;31mAssertionError\u001b[0m: This assert statement will always raise an AssertionError."
     ]
    }
   ],
   "source": [
    "assert False, \"This assert statement will always raise an AssertionError.\"\n"
   ]
  },
  {
   "cell_type": "markdown",
   "id": "e662daca-70eb-417f-8a46-3582a19560cd",
   "metadata": {},
   "source": [
    "### 4. What are the two lines that must be present in your software in order to call logging.debug()?"
   ]
  },
  {
   "cell_type": "code",
   "execution_count": 5,
   "id": "f0f58f98-93ef-49b9-9aaa-1121db388044",
   "metadata": {},
   "outputs": [
    {
     "name": "stderr",
     "output_type": "stream",
     "text": [
      "DEBUG:root:This is a debug message.\n"
     ]
    }
   ],
   "source": [
    "import logging\n",
    "\n",
    "logging.basicConfig(level=logging.DEBUG)\n",
    "\n",
    "def some_function():\n",
    "    logging.debug(\"This is a debug message.\")\n",
    "\n",
    "some_function()"
   ]
  },
  {
   "cell_type": "markdown",
   "id": "cbad1dc7-f029-4ec0-9603-4d808c085485",
   "metadata": {},
   "source": [
    "### 5. What are the two lines that your program must have in order to have logging.debug() send a logging message to a file named programLog.txt?"
   ]
  },
  {
   "cell_type": "code",
   "execution_count": 6,
   "id": "96651381-ab1f-4751-8d2e-1c58d77a7cae",
   "metadata": {},
   "outputs": [],
   "source": [
    " import logging\n",
    "\n",
    "logging.basicConfig(filename='programLog.txt', level=logging.DEBUG)\n"
   ]
  },
  {
   "cell_type": "markdown",
   "id": "64a5a617-b44b-46b6-92a6-6308a07bb2cc",
   "metadata": {},
   "source": [
    "### 6. What are the five levels of logging?"
   ]
  },
  {
   "cell_type": "markdown",
   "id": "adf1d1c2-7073-4572-8d03-c841a8c990a0",
   "metadata": {},
   "source": [
    "DEBUG: Detailed information, typically useful for debugging purposes.\n",
    "\n",
    "INFO: General information about the program's execution.\n",
    "\n",
    "WARNING: Indicates a potential issue or something that could cause problems in the future.\n",
    "\n",
    "ERROR: Indicates an error or exception that caused a specific function or operation to fail.\n",
    "\n",
    "CRITICAL: Indicates a critical error or a severe issue that may prevent the program from continuing to run."
   ]
  },
  {
   "cell_type": "markdown",
   "id": "e4894e03-0e12-4fd7-b52c-174f9c4d6dbd",
   "metadata": {},
   "source": [
    "### 7. What line of code would you add to your software to disable all logging messages?"
   ]
  },
  {
   "cell_type": "code",
   "execution_count": 7,
   "id": "3cf01a06-b39b-4e4e-850c-5c05dc47c258",
   "metadata": {},
   "outputs": [],
   "source": [
    "logging.disable(logging.CRITICAL)\n"
   ]
  },
  {
   "cell_type": "markdown",
   "id": "80e436b3-529c-486d-8922-bbb2883cd764",
   "metadata": {},
   "source": [
    "### 8.Why is using logging messages better than using print() to display the same message?"
   ]
  },
  {
   "cell_type": "markdown",
   "id": "40a99040-9de6-4d2c-8461-ce889ff83c0c",
   "metadata": {},
   "source": [
    "Post devlopment of your code, you can disable logging messages without removing the logging function, whereas you need to manually remove print() statements, which is tedious activity. and also print is used when you want to display any particular message or help whereas logging is used to record all events like error, info, debug messages, timestamps."
   ]
  },
  {
   "cell_type": "markdown",
   "id": "ccbaee12-9f13-47f9-8ca8-db0c45e9b024",
   "metadata": {},
   "source": [
    "### 9. What are the differences between the Step Over, Step In, and Step Out buttons in the debugger?"
   ]
  },
  {
   "cell_type": "markdown",
   "id": "717b5576-a1d9-4be6-9633-8d479e1538d0",
   "metadata": {},
   "source": [
    "Step Over: Executes the current line and moves to the next line, treating function calls as a single line.\n",
    "\n",
    "Step In: Moves to the next line and enters any encountered function call, allowing for detailed debugging inside the function.\n",
    "\n",
    "Step Out: Continues execution until the current function is completed, returning to the calling line, ideal for quickly moving out of a function."
   ]
  },
  {
   "cell_type": "markdown",
   "id": "5a0f7807-c893-4506-9968-ea08379152b7",
   "metadata": {},
   "source": [
    "10.After you click Continue, when will the debugger stop ?¶"
   ]
  },
  {
   "cell_type": "markdown",
   "id": "07986414-1217-4b98-9265-e15c4d72b153",
   "metadata": {},
   "source": [
    "By clicking Continue, you instruct the debugger to allow the program to run freely until it reaches a predefined stopping point, such as a breakpoint that you have set in the code."
   ]
  },
  {
   "cell_type": "markdown",
   "id": "c5ca45a4-cb9c-46f4-a038-bdfbf8ac81aa",
   "metadata": {},
   "source": [
    "### 11. What is the concept of a breakpoint?"
   ]
  },
  {
   "cell_type": "markdown",
   "id": "02b025fb-8f06-4619-b349-052697cc98b2",
   "metadata": {},
   "source": [
    "An intentional stopping point or pause put into program for debugging purpose."
   ]
  },
  {
   "cell_type": "code",
   "execution_count": null,
   "id": "7ccc4a8f-7248-4254-bd7b-9948ae17f739",
   "metadata": {},
   "outputs": [],
   "source": []
  }
 ],
 "metadata": {
  "kernelspec": {
   "display_name": "Python 3 (ipykernel)",
   "language": "python",
   "name": "python3"
  },
  "language_info": {
   "codemirror_mode": {
    "name": "ipython",
    "version": 3
   },
   "file_extension": ".py",
   "mimetype": "text/x-python",
   "name": "python",
   "nbconvert_exporter": "python",
   "pygments_lexer": "ipython3",
   "version": "3.10.6"
  }
 },
 "nbformat": 4,
 "nbformat_minor": 5
}
