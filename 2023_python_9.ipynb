{
 "cells": [
  {
   "cell_type": "markdown",
   "id": "4b01146f",
   "metadata": {},
   "source": [
    "### 1. What is a lambda function in Python, and how does it differ from a regular function?"
   ]
  },
  {
   "cell_type": "markdown",
   "id": "0701d47f",
   "metadata": {},
   "source": [
    "1. Lambda Function in Python:\n",
    "\n",
    "- A lambda function is an anonymous function defined using the lambda keyword.\n",
    "- It can take any number of arguments but can only have one expression.\n",
    "- The result of the expression is automatically returned.\n",
    "\n",
    "2. Difference from a Regular Function:\n",
    "\n",
    "- Regular functions are defined using the def keyword and have a name.\n",
    "- Lambda functions have no name and are typically used for short, one-line operations."
   ]
  },
  {
   "cell_type": "markdown",
   "id": "5fbb9cf9",
   "metadata": {},
   "source": [
    "### 2. Can a lambda function in Python have multiple arguments? If yes, how can you define and use them?"
   ]
  },
  {
   "cell_type": "markdown",
   "id": "d2bbe2b7",
   "metadata": {},
   "source": [
    "Lambda Function with Multiple Arguments:\n",
    "\n",
    "- Yes, a lambda function in Python can have multiple arguments.\n",
    "- The arguments are defined after the lambda keyword, separated by commas, and followed by a colon.\n",
    "- The expression following the colon uses these arguments."
   ]
  },
  {
   "cell_type": "code",
   "execution_count": 2,
   "id": "25a46020",
   "metadata": {},
   "outputs": [
    {
     "data": {
      "text/plain": [
       "8"
      ]
     },
     "execution_count": 2,
     "metadata": {},
     "output_type": "execute_result"
    }
   ],
   "source": [
    "add = lambda x, y: x + y\n",
    "result = add(3, 5)  \n",
    "result"
   ]
  },
  {
   "cell_type": "markdown",
   "id": "f88e1938",
   "metadata": {},
   "source": [
    "### 3. How are lambda functions typically used in Python? Provide an example use case."
   ]
  },
  {
   "cell_type": "markdown",
   "id": "d3201115",
   "metadata": {},
   "source": [
    "Typical Use of Lambda Functions:\n",
    "\n",
    "- Lambda functions are commonly used for short tasks where defining a regular function is unnecessary.\n",
    "- They are often used with built-in functions like map(), filter(), and sorted()."
   ]
  },
  {
   "cell_type": "code",
   "execution_count": 4,
   "id": "db09c24f",
   "metadata": {},
   "outputs": [
    {
     "data": {
      "text/plain": [
       "[2, 4, 6, 8]"
      ]
     },
     "execution_count": 4,
     "metadata": {},
     "output_type": "execute_result"
    }
   ],
   "source": [
    "# Using map() with a lambda function to double each element in a list\n",
    "numbers = [1, 2, 3, 4]\n",
    "doubled_numbers = list(map(lambda x: x * 2, numbers))\n",
    "# Output: [2, 4, 6, 8]\n",
    "doubled_numbers"
   ]
  },
  {
   "cell_type": "markdown",
   "id": "a2b7eead",
   "metadata": {},
   "source": [
    "### 4. What are the advantages and limitations of lambda functions compared to regular functions in Python?"
   ]
  },
  {
   "cell_type": "markdown",
   "id": "e0c178eb",
   "metadata": {},
   "source": [
    "**Advantages:**\n",
    "- Concise and short syntax for simple operations.\n",
    "- Convenient for one-time or temporary tasks.\n",
    "\n",
    "**Limitations:**\n",
    "- Limited to a single expression.\n",
    "- Lack of a name makes them less readable for complex operations."
   ]
  },
  {
   "cell_type": "markdown",
   "id": "411d9853",
   "metadata": {},
   "source": [
    "### 5. Are lambda functions in Python able to access variables defined outside of their own scope? Explain with an example."
   ]
  },
  {
   "cell_type": "markdown",
   "id": "8d565f00",
   "metadata": {},
   "source": [
    "- Yes, lambda functions can access variables defined outside their own scope.\n",
    "- These variables are known as \"closed-over\" variables."
   ]
  },
  {
   "cell_type": "code",
   "execution_count": 5,
   "id": "43d543fd",
   "metadata": {},
   "outputs": [
    {
     "data": {
      "text/plain": [
       "18"
      ]
     },
     "execution_count": 5,
     "metadata": {},
     "output_type": "execute_result"
    }
   ],
   "source": [
    "x = 10\n",
    "y = 5\n",
    "add = lambda z: x + y + z\n",
    "result = add(3)  \n",
    "result"
   ]
  },
  {
   "cell_type": "markdown",
   "id": "27e97709",
   "metadata": {},
   "source": [
    "### 6. Write a lambda function to calculate the square of a given number."
   ]
  },
  {
   "cell_type": "code",
   "execution_count": 8,
   "id": "c9e30c2f",
   "metadata": {},
   "outputs": [
    {
     "data": {
      "text/plain": [
       "16"
      ]
     },
     "execution_count": 8,
     "metadata": {},
     "output_type": "execute_result"
    }
   ],
   "source": [
    "a=4\n",
    "square=lambda a:a**2\n",
    "square(a)"
   ]
  },
  {
   "cell_type": "markdown",
   "id": "0e3878f4",
   "metadata": {},
   "source": [
    "### 7. Create a lambda function to find the maximum value in a list of integers."
   ]
  },
  {
   "cell_type": "code",
   "execution_count": 17,
   "id": "5afbba44",
   "metadata": {},
   "outputs": [
    {
     "name": "stdout",
     "output_type": "stream",
     "text": [
      "[23, 93, 18, 74, 71, 55, 36, 32, 27, 1]\n"
     ]
    },
    {
     "data": {
      "text/plain": [
       "93"
      ]
     },
     "execution_count": 17,
     "metadata": {},
     "output_type": "execute_result"
    }
   ],
   "source": [
    "import numpy as np\n",
    "from functools import reduce\n",
    "lst=list(np.random.randint(1,99,10))\n",
    "print(lst)\n",
    "maxint=lambda lst: reduce(lambda a,b:a if a>b else b,lst)\n",
    "maxint(lst)"
   ]
  },
  {
   "cell_type": "markdown",
   "id": "0395c181",
   "metadata": {},
   "source": [
    "### 8. Implement a lambda function to filter out all the even numbers from a list of integers."
   ]
  },
  {
   "cell_type": "code",
   "execution_count": 20,
   "id": "8e8d042e",
   "metadata": {},
   "outputs": [
    {
     "data": {
      "text/plain": [
       "[2, 4, 6, 8, 10, 12, 14]"
      ]
     },
     "execution_count": 20,
     "metadata": {},
     "output_type": "execute_result"
    }
   ],
   "source": [
    "lst=list(range(1,15))\n",
    "even=lambda lst: list(filter(lambda a: a%2==0,lst))\n",
    "even(lst)"
   ]
  },
  {
   "cell_type": "markdown",
   "id": "4672eb99",
   "metadata": {},
   "source": [
    "### 9. Write a lambda function to sort a list of strings in ascending order based on the length of each string."
   ]
  },
  {
   "cell_type": "code",
   "execution_count": 30,
   "id": "ead2151e",
   "metadata": {},
   "outputs": [
    {
     "data": {
      "text/plain": [
       "['date', 'apple', 'grape', 'banana', 'cherry']"
      ]
     },
     "execution_count": 30,
     "metadata": {},
     "output_type": "execute_result"
    }
   ],
   "source": [
    "words = ['apple', 'banana', 'cherry', 'date', 'grape']\n",
    "sort=lambda words: sorted(words,key=lambda s:len(s))\n",
    "sort(words)"
   ]
  },
  {
   "cell_type": "markdown",
   "id": "7d9ca742",
   "metadata": {},
   "source": [
    "### 10. Create a lambda function that takes two lists as input and returns a new list containing the common elements between the two lists."
   ]
  },
  {
   "cell_type": "code",
   "execution_count": 37,
   "id": "59a8611f",
   "metadata": {},
   "outputs": [
    {
     "name": "stdout",
     "output_type": "stream",
     "text": [
      "['orange', 'grape']\n"
     ]
    }
   ],
   "source": [
    "common_elements = lambda lst1, lst2: list(filter(lambda x: x in lst2, lst1))\n",
    "\n",
    "words1 = ['apple', 'banana', 'orange', 'grape']\n",
    "words2 = ['orange', 'grape', 'pear', 'mango']\n",
    "common_words = common_elements(words1, words2)\n",
    "print(common_words)  # Output: ['orange', 'grape']\n"
   ]
  },
  {
   "cell_type": "markdown",
   "id": "f962e655",
   "metadata": {},
   "source": [
    "### 11. Write a recursive function to calculate the factorial of a given positive integer."
   ]
  },
  {
   "cell_type": "code",
   "execution_count": 1,
   "id": "7265370d",
   "metadata": {},
   "outputs": [
    {
     "data": {
      "text/plain": [
       "120"
      ]
     },
     "execution_count": 1,
     "metadata": {},
     "output_type": "execute_result"
    }
   ],
   "source": [
    "def fac(n):\n",
    "    return 1 if n==0 else n*fac(n-1)\n",
    "\n",
    "fac(5)"
   ]
  },
  {
   "cell_type": "markdown",
   "id": "783adc4e",
   "metadata": {},
   "source": [
    "### 12. Implement a recursive function to compute the nth Fibonacci number."
   ]
  },
  {
   "cell_type": "code",
   "execution_count": 41,
   "id": "fce1992e",
   "metadata": {},
   "outputs": [
    {
     "data": {
      "text/plain": [
       "6765"
      ]
     },
     "execution_count": 41,
     "metadata": {},
     "output_type": "execute_result"
    }
   ],
   "source": [
    "def fib(n):\n",
    "    return n if n<=1 else fib(n-1)+fib(n-2)\n",
    "\n",
    "fib(20)"
   ]
  },
  {
   "cell_type": "markdown",
   "id": "72596807",
   "metadata": {},
   "source": [
    "### 13. Create a recursive function to find the sum of all the elements in a given list."
   ]
  },
  {
   "cell_type": "code",
   "execution_count": 5,
   "id": "63f1c22f",
   "metadata": {},
   "outputs": [
    {
     "data": {
      "text/plain": [
       "15"
      ]
     },
     "execution_count": 5,
     "metadata": {},
     "output_type": "execute_result"
    }
   ],
   "source": [
    "def sumof(lst:list):\n",
    "    return lst[0] if len(lst)==1 else lst[0]+sumof(lst[1:])\n",
    "\n",
    "sumof([1,2,3,4,5])"
   ]
  },
  {
   "cell_type": "markdown",
   "id": "6029ab3b",
   "metadata": {},
   "source": [
    "### 14. Write a recursive function to determine whether a given string is a palindrome."
   ]
  },
  {
   "cell_type": "code",
   "execution_count": 6,
   "id": "570e3190",
   "metadata": {},
   "outputs": [
    {
     "data": {
      "text/plain": [
       "True"
      ]
     },
     "execution_count": 6,
     "metadata": {},
     "output_type": "execute_result"
    }
   ],
   "source": [
    "def palindrome(a):\n",
    "    if len(a)<=1:\n",
    "        return True\n",
    "    return a[0]==a[-1] and palindrome(a[1:-1])\n",
    "palindrome('madam')"
   ]
  },
  {
   "cell_type": "markdown",
   "id": "34d79e30",
   "metadata": {},
   "source": [
    "### 15. Implement a recursive function to find the greatest common divisor (GCD) of two positive integers."
   ]
  },
  {
   "cell_type": "code",
   "execution_count": 16,
   "id": "27231903",
   "metadata": {},
   "outputs": [
    {
     "data": {
      "text/plain": [
       "1"
      ]
     },
     "execution_count": 16,
     "metadata": {},
     "output_type": "execute_result"
    }
   ],
   "source": [
    "def gcd(a,b):\n",
    "    return a if b==0 else gcd(b,a%b)\n",
    "\n",
    "gcd(4,17)"
   ]
  },
  {
   "cell_type": "code",
   "execution_count": null,
   "id": "debe252b",
   "metadata": {},
   "outputs": [],
   "source": []
  }
 ],
 "metadata": {
  "kernelspec": {
   "display_name": "Python 3 (ipykernel)",
   "language": "python",
   "name": "python3"
  },
  "language_info": {
   "codemirror_mode": {
    "name": "ipython",
    "version": 3
   },
   "file_extension": ".py",
   "mimetype": "text/x-python",
   "name": "python",
   "nbconvert_exporter": "python",
   "pygments_lexer": "ipython3",
   "version": "3.9.12"
  }
 },
 "nbformat": 4,
 "nbformat_minor": 5
}
