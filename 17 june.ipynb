{
 "cells": [
  {
   "cell_type": "markdown",
   "id": "aac3423b",
   "metadata": {},
   "source": [
    "### 1. What is the role of try and exception block?"
   ]
  },
  {
   "cell_type": "markdown",
   "id": "9e473c80",
   "metadata": {},
   "source": [
    "The try and except block in Python is used to handle errors and exceptions that may occur during the execution of a program. The try block contains the code that you want to test for errors, while the except block contains the code that will be executed if an error occurs in the try block."
   ]
  },
  {
   "cell_type": "markdown",
   "id": "a1c963eb",
   "metadata": {},
   "source": [
    "### 2. What is the syntax for a basic try-except block?"
   ]
  },
  {
   "cell_type": "markdown",
   "id": "69bc3512",
   "metadata": {},
   "source": [
    "```python\n",
    "try:\n",
    "    # code that may raise an exception\n",
    "except ExceptionType:\n",
    "    # code to handle the exception\n",
    "```\n",
    "\n",
    "The `try` block contains the code that you want to test for errors, while the `except` block contains the code that will be executed if an error occurs in the `try` block. You can specify the type of exception that you want to catch by replacing `ExceptionType` with the name of the exception¹."
   ]
  },
  {
   "cell_type": "markdown",
   "id": "0d158186",
   "metadata": {},
   "source": [
    "### 3. What happens if an exception occurs inside a try block and there is no matching except block?"
   ]
  },
  {
   "cell_type": "markdown",
   "id": "456f5ae7",
   "metadata": {},
   "source": [
    "If an exception occurs inside a `try` block and there is no matching `except` block, the exception is not handled by the `try` block and is propagated to the next level of the call stack. If there is no matching `except` block at any level of the call stack, the program will terminate and an error message will be displayed⁵."
   ]
  },
  {
   "cell_type": "markdown",
   "id": "9ae8d049",
   "metadata": {},
   "source": [
    "### 4. What is the difference between using a bare except block and specifying a specific exception type?"
   ]
  },
  {
   "cell_type": "markdown",
   "id": "0fa2eca7",
   "metadata": {},
   "source": [
    "A bare `except` block can catch any and all kinds of exceptions, while an `except ExceptionType` block will only catch exceptions of the specified type or its subclasses. It is almost always better to specify an explicit exception type to avoid catching unexpected exceptions that can hide bugs or make it harder to debug programs.\n"
   ]
  },
  {
   "cell_type": "markdown",
   "id": "55ec456f",
   "metadata": {},
   "source": [
    "### 5. Can you have nested try-except blocks in Python? If yes, then give an example."
   ]
  },
  {
   "cell_type": "markdown",
   "id": "c35783e8",
   "metadata": {},
   "source": [
    "Yes, you can have nested try-except blocks in Python. This means that you can have a try-except block inside another try-except block. Here’s an example that demonstrates how to use nested try-except blocks:"
   ]
  },
  {
   "cell_type": "code",
   "execution_count": 5,
   "id": "d68c23a3",
   "metadata": {},
   "outputs": [
    {
     "data": {
      "text/plain": [
       "'None'"
      ]
     },
     "execution_count": 5,
     "metadata": {},
     "output_type": "execute_result"
    }
   ],
   "source": [
    "def divide(x, y):\n",
    "    try:\n",
    "        out = x / y\n",
    "    except ZeroDivisionError:\n",
    "        try:\n",
    "            out = x / 0\n",
    "        except ZeroDivisionError:\n",
    "            out = 'None'\n",
    "    return out\n",
    "divide(20,0)"
   ]
  },
  {
   "cell_type": "markdown",
   "id": "dbb47f71",
   "metadata": {},
   "source": [
    "### 6. Can we use multiple exception blocks, if yes then give an example."
   ]
  },
  {
   "cell_type": "code",
   "execution_count": 7,
   "id": "b49214ce",
   "metadata": {},
   "outputs": [
    {
     "name": "stdout",
     "output_type": "stream",
     "text": [
      "Error: Invalid input type. Both x and y must be numbers.\n"
     ]
    }
   ],
   "source": [
    "def divide(x, y):\n",
    "    try:\n",
    "        result = x / y\n",
    "    except ZeroDivisionError:\n",
    "        print(\"Error: Division by zero.\")\n",
    "        result = None\n",
    "    except TypeError:\n",
    "        print(\"Error: Invalid input type. Both x and y must be numbers.\")\n",
    "        result = None\n",
    "    return result\n",
    "divide(10,'a')"
   ]
  },
  {
   "cell_type": "markdown",
   "id": "1bef4257",
   "metadata": {},
   "source": [
    "### 7. Write the reason due to which following errors are raised:\n",
    "- a. EOFError\n",
    "- b. FloatingPointError\n",
    "- c. IndexError\n",
    "- d. MemoryError\n",
    "- e. OverflowError\n",
    "- f. TabError\n",
    "- g. ValueError"
   ]
  },
  {
   "cell_type": "markdown",
   "id": "f1c48b31",
   "metadata": {},
   "source": [
    "a. **EOFError**: This error is raised when one of the built-in functions (`input()` or `raw_input()`) hits an end-of-file condition (EOF) without reading any data. This usually happens when these functions are called and the user doesn't provide any input before pressing `ctrl+d` (for Unix) or `ctrl+z` (for Windows) to signal the end of the file.\n",
    "\n",
    "b. **FloatingPointError**: This error is not usually raised in Python. It's only raised when Python is started with the `-X` command line option `pydebug`, which enables built-in floating point error checking.\n",
    "\n",
    "c. **IndexError**: This error is raised when you try to access an index that does not exist in a sequence like a list, tuple, or string. For example, trying to access `my_list[10]` when `my_list` only has 5 elements will raise an `IndexError`.\n",
    "\n",
    "d. **MemoryError**: This error is raised when an operation runs out of memory. It's usually raised for large data structures when the system runs out of memory.\n",
    "\n",
    "e. **OverflowError**: This error is raised when the result of an arithmetic operation is too large to be represented. This can occur for long integer arithmetic operations where the result cannot be accommodated in memory.\n",
    "\n",
    "f. **TabError**: This error is raised when indentation contains mixed spaces and tabs, or when indentation is not a multiple of four spaces (when Python is run with the `-tt` option).\n",
    "\n",
    "g. **ValueError**: This error is raised when a built-in operation or function receives an argument that has the right type but an inappropriate value. For example, trying to convert a non-numeric string to an integer using `int('abc')` will raise a `ValueError`.\n",
    "\n",
    "Is there anything else you would like to know? 😊"
   ]
  },
  {
   "cell_type": "markdown",
   "id": "401dd56c",
   "metadata": {},
   "source": [
    "### 8. Write code for the following given scenario and add try-exception block to it.\n",
    "- a. Program to divide two numbers\n",
    "- b. Program to convert a string to an integer\n",
    "- c. Program to access an element in a list\n",
    "- d. Program to handle a specific exception\n",
    "- e. Program to handle any exception"
   ]
  },
  {
   "cell_type": "code",
   "execution_count": 6,
   "id": "b3752073",
   "metadata": {},
   "outputs": [
    {
     "name": "stdout",
     "output_type": "stream",
     "text": [
      "Error: Cannot divide by zero\n"
     ]
    }
   ],
   "source": [
    "# a. Program to divide two numbers\n",
    "def divide(a, b):\n",
    "    try:\n",
    "        result = a / b\n",
    "    except ZeroDivisionError:\n",
    "        print(\"Error: Cannot divide by zero\")\n",
    "    else:\n",
    "        print(f\"The result is {result}\")\n",
    "divide(20,0)"
   ]
  },
  {
   "cell_type": "code",
   "execution_count": 7,
   "id": "654f6a38",
   "metadata": {},
   "outputs": [
    {
     "name": "stdout",
     "output_type": "stream",
     "text": [
      "Error: Cannot convert string to integer\n"
     ]
    }
   ],
   "source": [
    "# b. Program to convert a string to an integer\n",
    "def str_to_int(s):\n",
    "    try:\n",
    "        result = int(s)\n",
    "    except ValueError:\n",
    "        print(\"Error: Cannot convert string to integer\")\n",
    "    else:\n",
    "        print(f\"The result is {result}\")\n",
    "\n",
    "str_to_int('cb')"
   ]
  },
  {
   "cell_type": "code",
   "execution_count": 8,
   "id": "fc66a75d",
   "metadata": {},
   "outputs": [
    {
     "name": "stdout",
     "output_type": "stream",
     "text": [
      "Error: Index out of range\n"
     ]
    }
   ],
   "source": [
    "# c. Program to access an element in a list\n",
    "def access_element(lst, index):\n",
    "    try:\n",
    "        result = lst[index]\n",
    "    except IndexError:\n",
    "        print(\"Error: Index out of range\")\n",
    "    else:\n",
    "        print(f\"The result is {result}\")\n",
    "        \n",
    "access_element(list(range(1,11)),21)"
   ]
  },
  {
   "cell_type": "code",
   "execution_count": 4,
   "id": "c0c89a80",
   "metadata": {},
   "outputs": [
    {
     "name": "stdout",
     "output_type": "stream",
     "text": [
      "Error: Cannot divide by zero\n"
     ]
    }
   ],
   "source": [
    "# d. Program to handle a specific exception\n",
    "try:\n",
    "    x = 5 / 0\n",
    "except ZeroDivisionError:\n",
    "    print(\"Error: Cannot divide by zero\")"
   ]
  },
  {
   "cell_type": "code",
   "execution_count": 5,
   "id": "57ad385c",
   "metadata": {},
   "outputs": [
    {
     "name": "stdout",
     "output_type": "stream",
     "text": [
      "An error occurred: division by zero\n"
     ]
    }
   ],
   "source": [
    "# e. Program to handle any exception\n",
    "try:\n",
    "    x = 5 / 0\n",
    "except Exception as e:\n",
    "    print(f\"An error occurred: {e}\")"
   ]
  },
  {
   "cell_type": "code",
   "execution_count": null,
   "id": "3e18c6e0",
   "metadata": {},
   "outputs": [],
   "source": []
  }
 ],
 "metadata": {
  "kernelspec": {
   "display_name": "Python 3 (ipykernel)",
   "language": "python",
   "name": "python3"
  },
  "language_info": {
   "codemirror_mode": {
    "name": "ipython",
    "version": 3
   },
   "file_extension": ".py",
   "mimetype": "text/x-python",
   "name": "python",
   "nbconvert_exporter": "python",
   "pygments_lexer": "ipython3",
   "version": "3.9.12"
  }
 },
 "nbformat": 4,
 "nbformat_minor": 5
}
