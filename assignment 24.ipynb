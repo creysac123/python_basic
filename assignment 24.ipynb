{
 "cells": [
  {
   "cell_type": "markdown",
   "id": "2b35a122-6cd5-4e27-9bc9-3715d0e0db4b",
   "metadata": {},
   "source": [
    "### 1. What is the relationship between def statements and lambda expressions ?"
   ]
  },
  {
   "cell_type": "markdown",
   "id": "ab36c67c-eb56-4ed9-8c5b-84e464cf4a93",
   "metadata": {},
   "source": [
    "`def` statements are used to define named functions with arbitrary complexity, while `lambda` expressions are used to create anonymous functions with a simpler and more concise syntax."
   ]
  },
  {
   "cell_type": "markdown",
   "id": "f56b02fa-dcb8-4e94-864f-7d2b854467b7",
   "metadata": {},
   "source": [
    "### 2. What is the benefit of lambda?"
   ]
  },
  {
   "cell_type": "markdown",
   "id": "c263bf33-e543-440d-91d7-1300c19fac75",
   "metadata": {},
   "source": [
    "Concise syntax for defining small functions.\n",
    "\n",
    "Anonymous function creation without the need for a specific name.\n",
    "\n",
    "Function composition and usage with higher-order functions.\n",
    "\n",
    "Inline usage within other expressions or function calls.\n",
    "\n",
    "Support for closures, capturing variables from the enclosing scope.\n",
    "\n",
    "Enhanced code readability in certain situations."
   ]
  },
  {
   "cell_type": "markdown",
   "id": "d4bf7691-ac97-45b2-96ad-0cd14d027101",
   "metadata": {},
   "source": [
    "### 3. Compare and contrast map, filter, and reduce."
   ]
  },
  {
   "cell_type": "markdown",
   "id": "73c929db-b7cf-40ab-8fe4-1fdecef45b1e",
   "metadata": {},
   "source": [
    "Map: Applies a function to each element of an iterable and returns an iterator with the transformed values.\n",
    "\n",
    "Filter: Selects elements from an iterable based on a condition or predicate function and returns an iterator with the filtered elements.\n",
    "\n",
    "Reduce: Applies a binary function to the elements of an iterable in a cumulative way, reducing them to a single value."
   ]
  },
  {
   "cell_type": "code",
   "execution_count": 2,
   "id": "d410e9d1-f954-48ae-b785-f05011cdac71",
   "metadata": {},
   "outputs": [
    {
     "name": "stdout",
     "output_type": "stream",
     "text": [
      "Map -> [2, 4, 6, 8, 10]\n",
      "Filter -> [1, 3, 5]\n",
      "Reduce -> 28\n"
     ]
    }
   ],
   "source": [
    "from functools import reduce\n",
    "# map function\n",
    "print('Map ->',list(map(lambda x:x+x, [1,2,3,4,5])))\n",
    "# fitler function\n",
    "print('Filter ->',list(filter(lambda x:x%2 !=0, [1,2,3,4,5])))\n",
    "# reduce function\n",
    "print('Reduce ->',reduce(lambda x,y:x+y, [1,2,3,4,5,6,7]))"
   ]
  },
  {
   "cell_type": "markdown",
   "id": "f301bc5e-0b44-45eb-88df-79c576198ac6",
   "metadata": {},
   "source": [
    "### 4. What are function annotations, and how are they used?"
   ]
  },
  {
   "cell_type": "markdown",
   "id": "fe905a3b-b28b-44cf-9e30-3889456762a9",
   "metadata": {},
   "source": [
    "Function annotations in Python allow associating metadata or type hints with function parameters and return values. They provide additional information about types or purposes without affecting the runtime behavior. Annotations are defined using the colon syntax and can be any expression. They are mainly used for documentation, type checking, and IDE support."
   ]
  },
  {
   "cell_type": "code",
   "execution_count": 3,
   "id": "8555fead-ec07-456a-b95b-981005f2c9fb",
   "metadata": {},
   "outputs": [],
   "source": [
    "def greet(name: str, age: int) -> str:\n",
    "    return f\"Hello, {name}! You are {age} years old.\"\n"
   ]
  },
  {
   "cell_type": "code",
   "execution_count": 4,
   "id": "96f22bab-f5eb-4e11-a8fb-d254372bb8ba",
   "metadata": {},
   "outputs": [
    {
     "name": "stdout",
     "output_type": "stream",
     "text": [
      "{'name': <class 'str'>, 'age': <class 'int'>, 'return': <class 'str'>}\n"
     ]
    }
   ],
   "source": [
    "annotations = greet.__annotations__\n",
    "print(annotations) \n"
   ]
  },
  {
   "cell_type": "markdown",
   "id": "89231103-ee1f-40c3-99d9-2d7366d99011",
   "metadata": {},
   "source": [
    "### 5. What are recursive functions, and how are they used?"
   ]
  },
  {
   "cell_type": "markdown",
   "id": "d020378f-2ce8-499a-9be9-57d86ce2ecb1",
   "metadata": {},
   "source": [
    "Recursive functions are functions that call themselves during their execution. They are used to solve problems by breaking them down into smaller, simpler instances of the same problem until a base case is reached, where the solution can be directly determined.\n",
    "\n"
   ]
  },
  {
   "cell_type": "code",
   "execution_count": 6,
   "id": "d514dc68-a7d8-4625-a2ce-66f8123de562",
   "metadata": {},
   "outputs": [
    {
     "data": {
      "text/plain": [
       "6"
      ]
     },
     "execution_count": 6,
     "metadata": {},
     "output_type": "execute_result"
    }
   ],
   "source": [
    "def factorial(n):\n",
    "    if n == 0:\n",
    "        return 1  # Base case: factorial of 0 is 1\n",
    "    else:\n",
    "        return n * factorial(n - 1)  # Recursive case: multiply n with factorial of (n-1)\n",
    "\n",
    "factorial(3)"
   ]
  },
  {
   "cell_type": "markdown",
   "id": "d991ea6f-1fab-4875-a40e-9708c4998907",
   "metadata": {},
   "source": [
    "### 6. What are some general design guidelines for coding functions?"
   ]
  },
  {
   "cell_type": "markdown",
   "id": "5a9ab102-8592-4f0f-9ba8-30d5d7a24336",
   "metadata": {},
   "source": [
    "Purpose: Clearly define the function's purpose and ensure it has a single responsibility.\n",
    "\n",
    "Naming: Use meaningful and descriptive names for functions.\n",
    "\n",
    "Length: Keep functions relatively short and focused.\n",
    "\n",
    "Parameters: Limit the number of parameters and consider bundling related parameters.\n",
    "\n",
    "Modularity: Encapsulate related functionality within functions for reusability.\n",
    "\n",
    "Documentation: Provide clear documentation, including docstrings and comments.\n",
    "\n",
    "Error Handling: Implement proper error handling and validation.\n",
    "\n",
    "Testing: Write test cases to validate function behavior.\n",
    "\n",
    "Purity: Aim for pure functions without side effects.\n",
    "\n",
    "Reusability: Design functions with reusability in mind."
   ]
  },
  {
   "cell_type": "markdown",
   "id": "bd65be7a-007d-4097-88cf-984be64b4e62",
   "metadata": {},
   "source": [
    "### 7. Name three or more ways that functions can communicate results to a caller."
   ]
  },
  {
   "cell_type": "markdown",
   "id": "0c7522e4-d3b3-41ec-b1b1-f51fd5cd718d",
   "metadata": {},
   "source": [
    "Functions can communicate results to a caller through:\n",
    "\n",
    "Return Value: Using the return statement to send a value back.\n"
   ]
  },
  {
   "cell_type": "code",
   "execution_count": 9,
   "id": "d8bf61df-26e9-4a30-90e1-af4994768495",
   "metadata": {},
   "outputs": [
    {
     "name": "stdout",
     "output_type": "stream",
     "text": [
      "12\n"
     ]
    }
   ],
   "source": [
    "def multiply(a, b):\n",
    "    return a * b\n",
    "\n",
    "result = multiply(3, 4)\n",
    "print(result)\n"
   ]
  },
  {
   "cell_type": "markdown",
   "id": "e9bf92b6-5a0a-4711-ab05-2622339004e8",
   "metadata": {},
   "source": [
    "Modifying Mutable Objects: Changing mutable objects passed as arguments."
   ]
  },
  {
   "cell_type": "code",
   "execution_count": 10,
   "id": "bef92cfb-7706-4280-a1af-1c2ab05ddbad",
   "metadata": {},
   "outputs": [
    {
     "name": "stdout",
     "output_type": "stream",
     "text": [
      "[1, 2, 3, 4]\n"
     ]
    }
   ],
   "source": [
    "def append_value(lst, value):\n",
    "    lst.append(value)\n",
    "\n",
    "my_list = [1, 2, 3]\n",
    "append_value(my_list, 4)\n",
    "print(my_list) \n"
   ]
  },
  {
   "cell_type": "markdown",
   "id": "d0910ca0-e7a4-4622-a199-5923ee2389a9",
   "metadata": {},
   "source": [
    "Global Variables: Accessing and modifying global variables."
   ]
  },
  {
   "cell_type": "code",
   "execution_count": 11,
   "id": "3b03afef-493f-4f55-b097-56e411f5221a",
   "metadata": {},
   "outputs": [
    {
     "name": "stdout",
     "output_type": "stream",
     "text": [
      "1\n"
     ]
    }
   ],
   "source": [
    "count = 0\n",
    "\n",
    "def increment_count():\n",
    "    global count\n",
    "    count += 1\n",
    "\n",
    "increment_count()\n",
    "print(count) \n"
   ]
  },
  {
   "cell_type": "markdown",
   "id": "5fea824d-1717-4ac8-8dde-72fd593fad5c",
   "metadata": {},
   "source": [
    "Exceptions: Raising exceptions to indicate errors or exceptional conditions."
   ]
  },
  {
   "cell_type": "code",
   "execution_count": 12,
   "id": "1205b8b8-c4b5-4d38-8c04-0bad40d3e9df",
   "metadata": {},
   "outputs": [
    {
     "name": "stdout",
     "output_type": "stream",
     "text": [
      "Cannot divide by zero\n"
     ]
    }
   ],
   "source": [
    "def divide(a, b):\n",
    "    if b == 0:\n",
    "        raise ValueError(\"Cannot divide by zero\")\n",
    "    return a / b\n",
    "\n",
    "try:\n",
    "    result = divide(10, 0)\n",
    "except ValueError as e:\n",
    "    print(e) \n"
   ]
  },
  {
   "cell_type": "code",
   "execution_count": null,
   "id": "da45b76e-a9e6-4820-af42-971a62a0cbab",
   "metadata": {},
   "outputs": [],
   "source": []
  }
 ],
 "metadata": {
  "kernelspec": {
   "display_name": "Python 3 (ipykernel)",
   "language": "python",
   "name": "python3"
  },
  "language_info": {
   "codemirror_mode": {
    "name": "ipython",
    "version": 3
   },
   "file_extension": ".py",
   "mimetype": "text/x-python",
   "name": "python",
   "nbconvert_exporter": "python",
   "pygments_lexer": "ipython3",
   "version": "3.10.6"
  }
 },
 "nbformat": 4,
 "nbformat_minor": 5
}
