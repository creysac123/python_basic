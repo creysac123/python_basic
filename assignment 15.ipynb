{
 "cells": [
  {
   "cell_type": "markdown",
   "id": "000a835f-a978-4ed3-bbaf-23a761b33742",
   "metadata": {},
   "source": [
    "### 1.How many seconds are in an hour? Use the interactive interpreter as a calculator and multiply the number of seconds in a minute (60) by the number of minutes in an hour (also 60)."
   ]
  },
  {
   "cell_type": "code",
   "execution_count": 1,
   "id": "c310bee0-4852-46a7-8b90-dd705f19a0b1",
   "metadata": {},
   "outputs": [
    {
     "data": {
      "text/plain": [
       "3600"
      ]
     },
     "execution_count": 1,
     "metadata": {},
     "output_type": "execute_result"
    }
   ],
   "source": [
    "seconds_in_minute = 60\n",
    "minutes_in_hour = 60\n",
    "\n",
    "seconds_in_hour = seconds_in_minute * minutes_in_hour\n",
    "seconds_in_hour\n"
   ]
  },
  {
   "cell_type": "markdown",
   "id": "12fe9178-7dd8-452d-bb69-4418d4ae64b3",
   "metadata": {},
   "source": [
    "### 2. Assign the result from the previous task (seconds in an hour) to a variable called seconds_per_hour."
   ]
  },
  {
   "cell_type": "code",
   "execution_count": 2,
   "id": "acc3d42f-e298-477b-ad4c-91327f406649",
   "metadata": {},
   "outputs": [],
   "source": [
    "seconds_per_hour = 3600"
   ]
  },
  {
   "cell_type": "markdown",
   "id": "96b02a45-d6b9-4215-994f-3776defa1832",
   "metadata": {},
   "source": [
    "### 3. How many seconds do you think there are in a day? Make use of the variables seconds per hour and minutes per hour."
   ]
  },
  {
   "cell_type": "code",
   "execution_count": 3,
   "id": "af4dad6f-ca51-4b59-94c9-55e258059bb7",
   "metadata": {},
   "outputs": [
    {
     "data": {
      "text/plain": [
       "86400"
      ]
     },
     "execution_count": 3,
     "metadata": {},
     "output_type": "execute_result"
    }
   ],
   "source": [
    "hours_per_day = 24\n",
    "minutes_per_hour = 60\n",
    "\n",
    "seconds_per_day = seconds_per_hour * hours_per_day\n",
    "seconds_per_day\n"
   ]
  },
  {
   "cell_type": "markdown",
   "id": "475ea2e4-2bb3-4d47-ac8b-e41987f775a3",
   "metadata": {},
   "source": [
    "### 4. Calculate seconds per day again, but this time save the result in a variable called seconds_per_day"
   ]
  },
  {
   "cell_type": "code",
   "execution_count": 5,
   "id": "731a95dd-d6f8-4a93-9053-47179d4f7733",
   "metadata": {},
   "outputs": [
    {
     "data": {
      "text/plain": [
       "86400"
      ]
     },
     "execution_count": 5,
     "metadata": {},
     "output_type": "execute_result"
    }
   ],
   "source": [
    "seconds_per_day = seconds_per_hour * hours_per_day\n",
    "seconds_per_day"
   ]
  },
  {
   "cell_type": "markdown",
   "id": "2a50714f-8b2b-4380-af40-f71d6c375372",
   "metadata": {},
   "source": [
    "### 5. Divide seconds_per_day by seconds_per_hour. Use floating-point (/) division."
   ]
  },
  {
   "cell_type": "code",
   "execution_count": 6,
   "id": "821a919f-61c0-47c2-9ff8-b81a37bf3ca2",
   "metadata": {},
   "outputs": [
    {
     "data": {
      "text/plain": [
       "24.0"
      ]
     },
     "execution_count": 6,
     "metadata": {},
     "output_type": "execute_result"
    }
   ],
   "source": [
    "seconds_per_day / seconds_per_hour"
   ]
  },
  {
   "cell_type": "markdown",
   "id": "c1c977e5-1957-43b7-bf49-785bdcb040ef",
   "metadata": {},
   "source": [
    "### 6. Divide seconds_per_day by seconds_per_hour, using integer (//) division. Did this number agree with the floating-point value from the previous question, aside from the final .0?"
   ]
  },
  {
   "cell_type": "code",
   "execution_count": 10,
   "id": "7b990123-45d0-4ed8-9de0-e8e37f435cd0",
   "metadata": {},
   "outputs": [
    {
     "name": "stdout",
     "output_type": "stream",
     "text": [
      "24\n",
      "yes this values agree with the floating point value from the previous question\n"
     ]
    }
   ],
   "source": [
    "print(seconds_per_day//seconds_per_hour)\n",
    "print('yes this values agree with the floating point value from the previous question')"
   ]
  },
  {
   "cell_type": "code",
   "execution_count": 12,
   "id": "db5ffc3d-67e2-48e4-8ece-afa8cbc8e664",
   "metadata": {},
   "outputs": [
    {
     "name": "stdout",
     "output_type": "stream",
     "text": [
      "2 3 5 7 11 13 17 19 23 29 "
     ]
    }
   ],
   "source": [
    "def genPrimes():\n",
    "    primes = []  \n",
    "    num = 2     \n",
    "    \n",
    "    while True:\n",
    "        is_prime = True\n",
    "        \n",
    "        for prime in primes:\n",
    "            if num % prime == 0:\n",
    "                is_prime = False\n",
    "                break\n",
    "\n",
    "        if is_prime:\n",
    "            primes.append(num)  \n",
    "            yield num         \n",
    "        \n",
    "        num += 1 \n",
    "\n",
    "prime_generator = genPrimes()\n",
    "\n",
    "for _ in range(10):\n",
    "    print(next(prime_generator),end=' ') "
   ]
  },
  {
   "cell_type": "code",
   "execution_count": null,
   "id": "99bb7d41-e651-4b96-b3a3-3c69a38fa6b9",
   "metadata": {},
   "outputs": [],
   "source": []
  }
 ],
 "metadata": {
  "kernelspec": {
   "display_name": "Python 3 (ipykernel)",
   "language": "python",
   "name": "python3"
  },
  "language_info": {
   "codemirror_mode": {
    "name": "ipython",
    "version": 3
   },
   "file_extension": ".py",
   "mimetype": "text/x-python",
   "name": "python",
   "nbconvert_exporter": "python",
   "pygments_lexer": "ipython3",
   "version": "3.10.6"
  }
 },
 "nbformat": 4,
 "nbformat_minor": 5
}
