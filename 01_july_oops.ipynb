{
 "cells": [
  {
   "cell_type": "markdown",
   "id": "fa76fe3e",
   "metadata": {},
   "source": [
    "### 1. What is the primary goal of Object-Oriented Programming (OOP)?"
   ]
  },
  {
   "cell_type": "markdown",
   "id": "d7fff94c",
   "metadata": {},
   "source": [
    "The primary goal of Object-Oriented Programming (OOP) is to design and structure software using objects, which encapsulate data and behavior. This approach promotes modularity, reusability, and easier maintenance of code. Objects interact through defined interfaces, enabling a more intuitive and organized way to model real-world entities and their relationships in software development."
   ]
  },
  {
   "cell_type": "markdown",
   "id": "99b18b01",
   "metadata": {},
   "source": [
    "### 2. What is an object in Python?"
   ]
  },
  {
   "cell_type": "markdown",
   "id": "eb1c1b78",
   "metadata": {},
   "source": [
    "In Python, an object is a self-contained unit that encapsulates data (attributes) and behavior (methods or functions) into a single entity. Everything in Python is an object, whether it's a simple data type like integers or strings, or more complex structures like lists, classes, and instances. Objects are instances of classes, which are user-defined blueprints that define the structure and behavior of the objects. This object-oriented approach allows for modular and organized code, enabling the creation of reusable and maintainable software components."
   ]
  },
  {
   "cell_type": "markdown",
   "id": "041bfbe1",
   "metadata": {},
   "source": [
    "### 3. What is a class in Python?"
   ]
  },
  {
   "cell_type": "markdown",
   "id": "a098643b",
   "metadata": {},
   "source": [
    "In Python, a class is a blueprint or template that defines the structure and behavior of objects. It serves as a blueprint for creating instances (objects) that share the same attributes and methods. A class encapsulates data (attributes) and functions (methods) that operate on that data. It provides a way to define the characteristics and actions of objects."
   ]
  },
  {
   "cell_type": "markdown",
   "id": "514e3382",
   "metadata": {},
   "source": [
    "### 4. What are attributes and methods in a class?"
   ]
  },
  {
   "cell_type": "markdown",
   "id": "12852531",
   "metadata": {},
   "source": [
    "Attributes are variables storing object data, while methods are functions performing actions on objects. They define an object's properties and behavior within a class, enabling structured and organized programming."
   ]
  },
  {
   "cell_type": "markdown",
   "id": "7173f292",
   "metadata": {},
   "source": [
    "### 5. What is the difference between class variables and instance variables in Python?"
   ]
  },
  {
   "cell_type": "markdown",
   "id": "380c2c19",
   "metadata": {},
   "source": [
    "Class variables are shared among all instances of a class. They're defined within the class but outside any methods. Instance variables, on the other hand, are unique to each instance of the class. They're defined within methods and are specific to the instance. Class variables hold attributes that are common to all instances, while instance variables hold attributes specific to each instance."
   ]
  },
  {
   "cell_type": "markdown",
   "id": "62a07f9c",
   "metadata": {},
   "source": [
    "### 6. What is the purpose of the self parameter in Python class methods?"
   ]
  },
  {
   "cell_type": "markdown",
   "id": "cfbe4220",
   "metadata": {},
   "source": [
    "The self parameter in Python class methods refers to the instance of the class on which the method is being called. It's a convention (though not a requirement) to name this parameter self to represent the instance itself. By using self, methods can access and manipulate the instance's attributes and methods, allowing them to operate on the specific data associated with that instance. This enables object-specific behavior and interaction within the class, ensuring that methods can differentiate between different instances and work with their unique data."
   ]
  },
  {
   "cell_type": "markdown",
   "id": "eb681f7a",
   "metadata": {},
   "source": [
    "### 7. For a library management system, you have to design the \"Book\" class with OOP principles in mind. The “Book” class will have following attributes:\n",
    "\n",
    "- a. title: Represents the title of the book.\n",
    "- b. author: Represents the author(s) of the book.\n",
    "- c. isbn: Represents the ISBN (International Standard Book Number) of the book.\n",
    "- d. publication_year: Represents the year of publication of the book.\n",
    "- e. available_copies: Represents the number of copies available for checkout.\n",
    "\n",
    "The class will also include the following methods:\n",
    "- a. check_out(self): Decrements the available copies by one if there are copies\n",
    "available for checkout.\n",
    "- b. return_book(self): Increments the available copies by one when a book is\n",
    "returned.\n",
    "- c. display_book_info(self): Displays the information about the book, including its\n",
    "attributes and the number of available copies."
   ]
  },
  {
   "cell_type": "code",
   "execution_count": 1,
   "id": "06b7969e",
   "metadata": {},
   "outputs": [
    {
     "name": "stdout",
     "output_type": "stream",
     "text": [
      "Book checked out successfully.\n",
      "Title: The Great Gatsby\n",
      "Author: F. Scott Fitzgerald\n",
      "ISBN: 978-3-16-148410-0\n",
      "Publication Year: 1925\n",
      "Available Copies: 4\n",
      "Book returned successfully.\n",
      "Title: The Great Gatsby\n",
      "Author: F. Scott Fitzgerald\n",
      "ISBN: 978-3-16-148410-0\n",
      "Publication Year: 1925\n",
      "Available Copies: 5\n"
     ]
    }
   ],
   "source": [
    "class Book:\n",
    "    def __init__(self, title, author, isbn, publication_year, available_copies):\n",
    "        self.title = title\n",
    "        self.author = author\n",
    "        self.isbn = isbn\n",
    "        self.publication_year = publication_year\n",
    "        self.available_copies = available_copies\n",
    "    \n",
    "    def check_out(self):\n",
    "        if self.available_copies > 0:\n",
    "            self.available_copies -= 1\n",
    "            print(\"Book checked out successfully.\")\n",
    "        else:\n",
    "            print(\"No available copies for checkout.\")\n",
    "    \n",
    "    def return_book(self):\n",
    "        self.available_copies += 1\n",
    "        print(\"Book returned successfully.\")\n",
    "    \n",
    "    def display_book_info(self):\n",
    "        print(\"Title:\", self.title)\n",
    "        print(\"Author:\", self.author)\n",
    "        print(\"ISBN:\", self.isbn)\n",
    "        print(\"Publication Year:\", self.publication_year)\n",
    "        print(\"Available Copies:\", self.available_copies)\n",
    "\n",
    "# Example usage:\n",
    "book1 = Book(\"The Great Gatsby\", \"F. Scott Fitzgerald\", \"978-3-16-148410-0\", 1925, 5)\n",
    "book1.check_out()\n",
    "book1.display_book_info()\n",
    "book1.return_book()\n",
    "book1.display_book_info()\n"
   ]
  },
  {
   "cell_type": "markdown",
   "id": "eca9f9dd",
   "metadata": {},
   "source": [
    "### 8. For a ticket booking system, you have to design the \"Ticket\" class with OOP principles in mind. The “Ticket” class should have the following attributes:\n",
    "- a. ticket_id: Represents the unique identifier for the ticket.\n",
    "- b. event_name: Represents the name of the event.\n",
    "- c. event_date: Represents the date of the event.\n",
    "- d. venue: Represents the venue of the event.\n",
    "- e. seat_number: Represents the seat number associated with the ticket.\n",
    "- f. price: Represents the price of the ticket.\n",
    "- g. is_reserved: Represents the reservation status of the ticket.\n",
    "\n",
    "The class also includes the following methods:\n",
    "- a. reserve_ticket(self): Marks the ticket as reserved if it is not already reserved.\n",
    "- b. cancel_reservation(self): Cancels the reservation of the ticket if it is already\n",
    "reserved.\n",
    "- c. display_ticket_info(self): Displays the information about the ticket, including its\n",
    "attributes and reservation status."
   ]
  },
  {
   "cell_type": "code",
   "execution_count": 10,
   "id": "d2238be5",
   "metadata": {},
   "outputs": [
    {
     "name": "stdout",
     "output_type": "stream",
     "text": [
      "Ticket reserved successfully.\n",
      "Ticket ID: 1\n",
      "Event Name: Concert\n",
      "Event Date: 2023-08-20\n",
      "Venue: Music Hall\n",
      "Seat Number: A1\n",
      "Price: 50.0\n",
      "Reservation Status: Reserved\n",
      "Reservation canceled successfully.\n",
      "Ticket ID: 1\n",
      "Event Name: Concert\n",
      "Event Date: 2023-08-20\n",
      "Venue: Music Hall\n",
      "Seat Number: A1\n",
      "Price: 50.0\n",
      "Reservation Status: Not Reserved\n"
     ]
    }
   ],
   "source": [
    "class Ticket:\n",
    "    def __init__(self,ticket_id,event_name,event_date,venue,seat_number,price,is_reserved=False):\n",
    "        self.ticket_id=ticket_id\n",
    "        self.event_name=event_name\n",
    "        self.event_date=event_date\n",
    "        self.venue=venue\n",
    "        self.seat_number=seat_number\n",
    "        self.price=price\n",
    "        self.is_reserved=is_reserved\n",
    "        \n",
    "    def reserve_ticket(self):\n",
    "        if not self.is_reserved:\n",
    "            self.is_reserved = True\n",
    "            print(\"Ticket reserved successfully.\")\n",
    "        else:\n",
    "            print(\"Ticket is already reserved.\")\n",
    "\n",
    "    def cancel_reservation(self):\n",
    "        if self.is_reserved:\n",
    "            self.is_reserved = False\n",
    "            print(\"Reservation canceled successfully.\")\n",
    "        else:\n",
    "            print(\"Ticket is not reserved.\")\n",
    "\n",
    "    def display_ticket_info(self):\n",
    "        print(\"Ticket ID:\", self.ticket_id)\n",
    "        print(\"Event Name:\", self.event_name)\n",
    "        print(\"Event Date:\", self.event_date)\n",
    "        print(\"Venue:\", self.venue)\n",
    "        print(\"Seat Number:\", self.seat_number)\n",
    "        print(\"Price:\", self.price)\n",
    "        print(\"Reservation Status:\", \"Reserved\" if self.is_reserved else \"Not Reserved\")\n",
    "\n",
    "# Example usage:\n",
    "ticket1 = Ticket(1, \"Concert\", \"2023-08-20\", \"Music Hall\", \"A1\", 50.00)\n",
    "ticket1.reserve_ticket()\n",
    "ticket1.display_ticket_info()\n",
    "ticket1.cancel_reservation()\n",
    "ticket1.display_ticket_info()"
   ]
  },
  {
   "cell_type": "markdown",
   "id": "0937560a",
   "metadata": {},
   "source": [
    "### You are creating a shopping cart for an e-commerce website. Using OOP to model the \"ShoppingCart\" functionality the class should contain following attributes and methods:\n",
    "- a. items: Represents the list of items in the shopping cart.\n",
    "\n",
    "The class also includes the following methods:\n",
    "\n",
    "- a. add_item(self, item): Adds an item to the shopping cart by appending it to the\n",
    "list of items.\n",
    "- b. remove_item(self, item): Removes an item from the shopping cart if it exists in\n",
    "the list.\n",
    "- c. view_cart(self): Displays the items currently present in the shopping cart.\n",
    "- d. clear_cart(self): Clears all items from the shopping cart by reassigning an\n",
    "empty list to the items attribute."
   ]
  },
  {
   "cell_type": "code",
   "execution_count": 11,
   "id": "b0820f40",
   "metadata": {},
   "outputs": [
    {
     "name": "stdout",
     "output_type": "stream",
     "text": [
      "Item added to the shopping cart.\n",
      "Item added to the shopping cart.\n",
      "Items in the shopping cart:\n",
      "- Shirt\n",
      "- Shoes\n",
      "Item removed from the shopping cart.\n",
      "Items in the shopping cart:\n",
      "- Shirt\n",
      "Shopping cart cleared.\n",
      "Shopping cart is empty.\n"
     ]
    }
   ],
   "source": [
    "class ShoppingCart:\n",
    "    def __init__(self):\n",
    "        self.items = []\n",
    "    \n",
    "    def add_item(self, item):\n",
    "        self.items.append(item)\n",
    "        print(\"Item added to the shopping cart.\")\n",
    "    \n",
    "    def remove_item(self, item):\n",
    "        if item in self.items:\n",
    "            self.items.remove(item)\n",
    "            print(\"Item removed from the shopping cart.\")\n",
    "        else:\n",
    "            print(\"Item not found in the shopping cart.\")\n",
    "    \n",
    "    def view_cart(self):\n",
    "        if self.items:\n",
    "            print(\"Items in the shopping cart:\")\n",
    "            for item in self.items:\n",
    "                print(\"- \" + item)\n",
    "        else:\n",
    "            print(\"Shopping cart is empty.\")\n",
    "    \n",
    "    def clear_cart(self):\n",
    "        self.items = []\n",
    "        print(\"Shopping cart cleared.\")\n",
    "\n",
    "# Example usage:\n",
    "cart = ShoppingCart()\n",
    "cart.add_item(\"Shirt\")\n",
    "cart.add_item(\"Shoes\")\n",
    "cart.view_cart()\n",
    "cart.remove_item(\"Shoes\")\n",
    "cart.view_cart()\n",
    "cart.clear_cart()\n",
    "cart.view_cart()\n",
    "\n",
    "    "
   ]
  },
  {
   "cell_type": "markdown",
   "id": "e9d26dd0",
   "metadata": {},
   "source": [
    "### 10. Imagine a school management system. You have to design the \"Student\" class using OOP concepts.The “Student” class has the following attributes:\n",
    "- a. name: Represents the name of the student.\n",
    "- b. age: Represents the age of the student.\n",
    "- c. grade: Represents the grade or class of the student.\n",
    "- d. student_id: Represents the unique identifier for the student.\n",
    "- e. attendance: Represents the attendance record of the student.\n",
    "\n",
    "The class should also include the following methods:\n",
    "\n",
    "- a. update_attendance(self, date, status): Updates the attendance record of the\n",
    "- student for a given date with the provided status (e.g., present or absent).\n",
    "- b. get_attendance(self): Returns the attendance record of the student.\n",
    "- c. get_average_attendance(self): Calculates and returns the average\n",
    "attendance percentage of the student based on their attendance record."
   ]
  },
  {
   "cell_type": "code",
   "execution_count": 12,
   "id": "82f35d59",
   "metadata": {},
   "outputs": [
    {
     "name": "stdout",
     "output_type": "stream",
     "text": [
      "Attendance updated for 2023-08-10\n",
      "Attendance updated for 2023-08-11\n",
      "Attendance updated for 2023-08-12\n",
      "Attendance: {'2023-08-10': 'present', '2023-08-11': 'absent', '2023-08-12': 'present'}\n",
      "Average Attendance: 66.66666666666666\n"
     ]
    }
   ],
   "source": [
    "class Student:\n",
    "    def __init__(self, name, age, grade, student_id):\n",
    "        self.name = name\n",
    "        self.age = age\n",
    "        self.grade = grade\n",
    "        self.student_id = student_id\n",
    "        self.attendance = {}\n",
    "    \n",
    "    def update_attendance(self, date, status):\n",
    "        self.attendance[date] = status\n",
    "        print(\"Attendance updated for\", date)\n",
    "    \n",
    "    def get_attendance(self):\n",
    "        return self.attendance\n",
    "    \n",
    "    def get_average_attendance(self):\n",
    "        if not self.attendance:\n",
    "            return 0\n",
    "        \n",
    "        total_days = len(self.attendance)\n",
    "        present_days = sum(status == 'present' for status in self.attendance.values())\n",
    "        average_attendance = (present_days / total_days) * 100\n",
    "        return average_attendance\n",
    "\n",
    "# Example usage:\n",
    "student1 = Student(\"John Doe\", 16, 10, \"12345\")\n",
    "student1.update_attendance(\"2023-08-10\", \"present\")\n",
    "student1.update_attendance(\"2023-08-11\", \"absent\")\n",
    "student1.update_attendance(\"2023-08-12\", \"present\")\n",
    "\n",
    "print(\"Attendance:\", student1.get_attendance())\n",
    "print(\"Average Attendance:\", student1.get_average_attendance())\n"
   ]
  },
  {
   "cell_type": "code",
   "execution_count": null,
   "id": "f0100a78",
   "metadata": {},
   "outputs": [],
   "source": []
  }
 ],
 "metadata": {
  "kernelspec": {
   "display_name": "Python 3 (ipykernel)",
   "language": "python",
   "name": "python3"
  },
  "language_info": {
   "codemirror_mode": {
    "name": "ipython",
    "version": 3
   },
   "file_extension": ".py",
   "mimetype": "text/x-python",
   "name": "python",
   "nbconvert_exporter": "python",
   "pygments_lexer": "ipython3",
   "version": "3.9.12"
  }
 },
 "nbformat": 4,
 "nbformat_minor": 5
}
