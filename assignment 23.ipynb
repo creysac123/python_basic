{
 "cells": [
  {
   "cell_type": "markdown",
   "id": "448d9918-ffa1-47f0-a092-595f60709591",
   "metadata": {},
   "source": [
    "### 1. What is the result of the code, and why?\n",
    "&gt;&gt;&gt; def func(a, b=6, c=8):\n",
    "\n",
    "print(a, b, c)\n",
    "\n",
    "&gt;&gt;&gt; func(1, 2)"
   ]
  },
  {
   "cell_type": "code",
   "execution_count": 1,
   "id": "c0eda184-274d-4cae-861b-6648f8cfae89",
   "metadata": {},
   "outputs": [
    {
     "name": "stdout",
     "output_type": "stream",
     "text": [
      "1 2 8\n"
     ]
    }
   ],
   "source": [
    "def func(a, b=6, c=8):\n",
    "    print(a, b, c)\n",
    "    \n",
    "func(1, 2)"
   ]
  },
  {
   "cell_type": "markdown",
   "id": "25a73610-5434-42da-9c72-3c9788cbc3fc",
   "metadata": {},
   "source": [
    "The result of the above code is 1 2 8. It is because the function uses the default value of c i.e 8 which is provided at the time of declaration."
   ]
  },
  {
   "cell_type": "markdown",
   "id": "2ae35921-821d-4f0b-bbba-5d55331f63a8",
   "metadata": {},
   "source": [
    "### 2. What is the result of this code, and why?\n",
    "\n",
    "&gt;&gt;&gt; def func(a, b, c=5):\n",
    "\n",
    "print(a, b, c)\n",
    "\n",
    "&gt;&gt;&gt; func(1, c=3, b=2)"
   ]
  },
  {
   "cell_type": "code",
   "execution_count": 2,
   "id": "010337b7-4537-4480-b2a0-227a52c0fbea",
   "metadata": {},
   "outputs": [
    {
     "name": "stdout",
     "output_type": "stream",
     "text": [
      "1 2 3\n"
     ]
    }
   ],
   "source": [
    "def func(a, b, c=5):\n",
    "    print(a, b, c)\n",
    "    \n",
    "func(1, c=3, b=2)"
   ]
  },
  {
   "cell_type": "markdown",
   "id": "78b6e028-5a4b-4c91-88af-2ba0f328d26e",
   "metadata": {},
   "source": [
    "The value passed to a is 1, b is 2, c is 3 irrespective of the order of values c and b passed, as long as you are using named arguments"
   ]
  },
  {
   "cell_type": "markdown",
   "id": "b72dca86-f9d0-4d9d-afc2-3824cfcc9ee7",
   "metadata": {},
   "source": [
    "### 3. How about this code: what is its result, and why?\n",
    "\n",
    "&gt;&gt;&gt; def func(a, *pargs):\n",
    "    \n",
    "print(a, pargs)\n",
    "\n",
    "&gt;&gt;&gt; func(1, 2, 3)"
   ]
  },
  {
   "cell_type": "code",
   "execution_count": 3,
   "id": "a580fa89-9b1c-46ea-95de-70ee8165fb6d",
   "metadata": {},
   "outputs": [
    {
     "name": "stdout",
     "output_type": "stream",
     "text": [
      "1 (2, 3)\n"
     ]
    }
   ],
   "source": [
    "def func(a, *pargs):\n",
    "    print(a,pargs)\n",
    "func(1,2,3)"
   ]
  },
  {
   "cell_type": "markdown",
   "id": "faf89573-58ce-4c27-8ea4-c195529a544e",
   "metadata": {},
   "source": [
    "### 4. What does this code print, and why?\n",
    "\n",
    "&gt;&gt;&gt; def func(a, **kargs):\n",
    "\n",
    "print(a, kargs)\n",
    "\n",
    "&gt;&gt;&gt; func(a=1, c=3, b=2)"
   ]
  },
  {
   "cell_type": "code",
   "execution_count": 1,
   "id": "4180c42f-7ae3-4f91-847a-de67a62ca413",
   "metadata": {},
   "outputs": [
    {
     "name": "stdout",
     "output_type": "stream",
     "text": [
      "1 {'c': 3, 'b': 2}\n"
     ]
    }
   ],
   "source": [
    "def func(a, **kargs):\n",
    "    print(a, kargs)\n",
    "\n",
    "func(a=1, c=3, b=2)"
   ]
  },
  {
   "cell_type": "markdown",
   "id": "97161cdc-5805-4092-82a0-390f10d83dc8",
   "metadata": {},
   "source": [
    "The result of the above code is 1 {'c': 3, 'b': 2}. **args stands for variable length keyword arguments. this format is used when we want pass key value pairs as input to a function. All these key value pairs will be stored in a dictionary"
   ]
  },
  {
   "cell_type": "markdown",
   "id": "ae4d9b0d-f623-433c-a4c4-1efe04eee85b",
   "metadata": {},
   "source": [
    "### 5. What gets printed by this, and explain?\n",
    "&gt;&gt;&gt; def func(a, b, c=8, d=5):\n",
    "\n",
    "print(a, b, c, d)\n",
    "\n",
    "&gt;&gt;&gt; func(1, *(5, 6))"
   ]
  },
  {
   "cell_type": "code",
   "execution_count": 2,
   "id": "b8caf8b8-8c56-4e7c-9971-b9b5f8a1c72a",
   "metadata": {},
   "outputs": [
    {
     "name": "stdout",
     "output_type": "stream",
     "text": [
      "1 5 6 5\n"
     ]
    }
   ],
   "source": [
    "def func(a, b, c=8, d=5):\n",
    "    print(a, b, c, d)\n",
    "    \n",
    "func(1, *(5, 6))"
   ]
  },
  {
   "cell_type": "markdown",
   "id": "b00d4e32-b504-4eaa-a261-63ab0b2b6f76",
   "metadata": {},
   "source": [
    "func(1, (5, 6)) will print 1 5 6 5 to the console. a will take the value of 1, d will default to 5 as it is not passed. (5, 6) will be read as comma seperated values and assigned to b, c respectively"
   ]
  },
  {
   "cell_type": "markdown",
   "id": "8c99ec16-667b-47e0-9904-f6e5a0ae086e",
   "metadata": {},
   "source": [
    "### 6. what is the result of this, and explain?\n",
    "\n",
    "&gt;&gt;&gt; def func(a, b, c): a = 2; b[0] = &#39;x&#39;; c[&#39;a&#39;] = &#39;y&#39;\n",
    "\n",
    "&gt;&gt;&gt; l=1; m=[1]; n={&#39;a&#39;:0}\n",
    "\n",
    "&gt;&gt;&gt; func(l, m, n)\n",
    "\n",
    "&gt;&gt;&gt; l, m, n"
   ]
  },
  {
   "cell_type": "code",
   "execution_count": 3,
   "id": "44b16628-c5d6-4a2e-ac97-681cb6f25ccf",
   "metadata": {},
   "outputs": [
    {
     "data": {
      "text/plain": [
       "(1, ['x'], {'a': 'y'})"
      ]
     },
     "execution_count": 3,
     "metadata": {},
     "output_type": "execute_result"
    }
   ],
   "source": [
    "def func(a, b, c): a = 2; b[0] = 'x'; c['a'] = 'y'\n",
    "l=1; m=[1]; n={'a':0}\n",
    "func(l, m, n)\n",
    "l,m,n"
   ]
  },
  {
   "cell_type": "markdown",
   "id": "ee06e10f-a664-46d2-8fb3-a994130d5bbc",
   "metadata": {},
   "source": [
    "Eventhough Python gives importance to indentation. its provides a facility to declare an entire function in one single line. where statements in a function body are sepereated by ;"
   ]
  },
  {
   "cell_type": "markdown",
   "id": "1803acf8-6e1c-408a-bb07-21c661481e46",
   "metadata": {},
   "source": [
    "When l,m,n are provided as inputs to the function. its modifies the values of l,m,n and sets the value of l=2 ,m=['x'] and n={'a':'y'}"
   ]
  },
  {
   "cell_type": "code",
   "execution_count": null,
   "id": "39566e50-20ac-4bc8-86fb-3d1aea9763f1",
   "metadata": {},
   "outputs": [],
   "source": []
  }
 ],
 "metadata": {
  "kernelspec": {
   "display_name": "Python 3 (ipykernel)",
   "language": "python",
   "name": "python3"
  },
  "language_info": {
   "codemirror_mode": {
    "name": "ipython",
    "version": 3
   },
   "file_extension": ".py",
   "mimetype": "text/x-python",
   "name": "python",
   "nbconvert_exporter": "python",
   "pygments_lexer": "ipython3",
   "version": "3.10.6"
  }
 },
 "nbformat": 4,
 "nbformat_minor": 5
}
