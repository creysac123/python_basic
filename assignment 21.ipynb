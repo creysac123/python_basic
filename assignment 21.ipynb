{
 "cells": [
  {
   "cell_type": "markdown",
   "id": "0a119640-5d4f-4ad9-ae85-184a1711b0ef",
   "metadata": {},
   "source": [
    "### 1. Add the current date to the text file today.txt as a string."
   ]
  },
  {
   "cell_type": "code",
   "execution_count": 1,
   "id": "dce7a52e-c26f-4220-b8fc-68eda70d7483",
   "metadata": {},
   "outputs": [],
   "source": [
    "from datetime import date\n",
    "\n",
    "current_date = date.today().strftime(\"%Y-%m-%d\")\n",
    "\n",
    "with open(\"today.txt\", \"a\") as file:\n",
    "    file.write(current_date + \"\\n\")\n"
   ]
  },
  {
   "cell_type": "markdown",
   "id": "02bc2327-52e9-43a8-8a9d-49db08ed15f0",
   "metadata": {},
   "source": [
    "### 2. Read the text file today.txt into the string today_string"
   ]
  },
  {
   "cell_type": "code",
   "execution_count": 23,
   "id": "4eb8cff2-cba6-4cfc-b206-3ae7ea7db25a",
   "metadata": {},
   "outputs": [
    {
     "name": "stdout",
     "output_type": "stream",
     "text": [
      "2023-06-24\n",
      "\n"
     ]
    }
   ],
   "source": [
    "with open(\"today.txt\", \"r\") as file:\n",
    "    today_string = file.read()\n",
    "\n",
    "print(today_string)\n"
   ]
  },
  {
   "cell_type": "markdown",
   "id": "3e17c1d9-25fb-4e8a-b7eb-05202b477250",
   "metadata": {},
   "source": [
    "### 3. Parse the date from today_string."
   ]
  },
  {
   "cell_type": "code",
   "execution_count": 24,
   "id": "6ba6122e-02b8-407f-bb7d-eb533e4e0f6b",
   "metadata": {},
   "outputs": [
    {
     "name": "stdout",
     "output_type": "stream",
     "text": [
      "2023-06-24\n"
     ]
    }
   ],
   "source": [
    "from datetime import datetime\n",
    "\n",
    "today_string = \"2023-06-24\"\n",
    "parsed_date = datetime.strptime(today_string, \"%Y-%m-%d\").date()\n",
    "\n",
    "print(parsed_date)\n"
   ]
  },
  {
   "cell_type": "markdown",
   "id": "dff767bc-1a73-4650-9979-6a6ad606cb93",
   "metadata": {},
   "source": [
    "### 4. List the files in your current directory"
   ]
  },
  {
   "cell_type": "code",
   "execution_count": 28,
   "id": "c2e13861-6d49-4f44-a2d7-9c05353236a3",
   "metadata": {},
   "outputs": [
    {
     "name": "stdout",
     "output_type": "stream",
     "text": [
      "python_programming_basic_10.ipynb   README.md   python_programming_basic_13.ipynb   python_programming_basic_1.ipynb   test.txt   sample-code.ipynb   assignment 18.ipynb   zoo.py   #The Batman 2021 Exclusive Wallpaper.jpg   assignment 17.ipynb   python_programming_basic_4.ipynb   python_programming_basic_8.ipynb   .git   assignment 19.ipynb   assignment 13.ipynb   assignment 15.ipynb   assignment_12.ipynb   document.docx   python_programming_basic_12.ipynb   python_programming_basic_5.ipynb   python_programming_basic_7.ipynb   Untitled1.ipynb   path   python_programming_basic_11.ipynb   python_programming_basic_9.ipynb   assignment_9.ipynb   __pycache__   books.db   assignment 16.ipynb   books.txt   Untitled.ipynb   .ipynb_checkpoints   assignment_8.ipynb   assignment_7.ipynb   assignment_10.ipynb   today.txt   output.csv   python_basic_7.ipynb   python_programming_basic_3.ipynb   books.csv   python_programming_basic_2.ipynb   assignment_11.ipynb   Untitled2.ipynb   python_programming_basic_6.ipynb   "
     ]
    }
   ],
   "source": [
    "import os\n",
    "\n",
    "current_directory = os.getcwd()\n",
    "files = os.listdir(current_directory)\n",
    "\n",
    "for file in files:\n",
    "    print(file, end=\"   \")\n"
   ]
  },
  {
   "cell_type": "markdown",
   "id": "0cc4773d-ab7b-489f-805f-cc496ddb18fb",
   "metadata": {},
   "source": [
    "### 5. Create a list of all of the files in your parent directory (minimum five files should be available)."
   ]
  },
  {
   "cell_type": "code",
   "execution_count": 30,
   "id": "9b835659-c72b-48a7-9aa4-847c024bf805",
   "metadata": {},
   "outputs": [
    {
     "name": "stdout",
     "output_type": "stream",
     "text": [
      ".profile\n",
      ".bash_logout\n",
      ".bashrc\n",
      ".wget-hsts\n"
     ]
    }
   ],
   "source": [
    "import os\n",
    "\n",
    "current_directory = os.getcwd()\n",
    "\n",
    "parent_directory = os.path.dirname(current_directory)\n",
    "\n",
    "files = os.listdir(parent_directory)\n",
    "\n",
    "file_list = [file for file in files if os.path.isfile(os.path.join(parent_directory, file))]\n",
    "\n",
    "for file in file_list:\n",
    "    print(file)\n"
   ]
  },
  {
   "cell_type": "markdown",
   "id": "e6f32530-650b-45f7-89fb-df8c77ab0570",
   "metadata": {},
   "source": [
    "### 6. Use multiprocessing to create three separate processes. Make each one wait a random number of seconds between one and five, print the current time, and then exit."
   ]
  },
  {
   "cell_type": "code",
   "execution_count": 31,
   "id": "8e9bcd8d-b220-47ef-863d-97dfd6750161",
   "metadata": {},
   "outputs": [
    {
     "name": "stdout",
     "output_type": "stream",
     "text": [
      "Process ID: 2005 | Current Time: 2023-06-24 07:09:23\n",
      "Process ID: 2006 | Current Time: 2023-06-24 07:09:25\n",
      "Process ID: 2007 | Current Time: 2023-06-24 07:09:27\n"
     ]
    }
   ],
   "source": [
    "import multiprocessing\n",
    "import random\n",
    "import time\n",
    "from datetime import datetime\n",
    "\n",
    "def worker():\n",
    "    wait_time = random.randint(1, 5)\n",
    "    time.sleep(wait_time)\n",
    "    current_time = datetime.now().strftime(\"%Y-%m-%d %H:%M:%S\")\n",
    "    print(f\"Process ID: {multiprocessing.current_process().pid} | Current Time: {current_time}\")\n",
    "\n",
    "if __name__ == '__main__':\n",
    "    processes = []\n",
    "    \n",
    "    for _ in range(3):\n",
    "        process = multiprocessing.Process(target=worker)\n",
    "        processes.append(process)\n",
    "        process.start()\n",
    "\n",
    "    for process in processes:\n",
    "        process.join()\n"
   ]
  },
  {
   "cell_type": "markdown",
   "id": "063682d0-7079-4bbc-ae83-679b43bbcee0",
   "metadata": {},
   "source": [
    "### 7. Create a date object of your day of birth."
   ]
  },
  {
   "cell_type": "code",
   "execution_count": 32,
   "id": "21a8c381-3420-4f6e-b05c-b990a9e946e8",
   "metadata": {},
   "outputs": [
    {
     "name": "stdout",
     "output_type": "stream",
     "text": [
      "1999-03-15\n"
     ]
    }
   ],
   "source": [
    "from datetime import date\n",
    "\n",
    "birth_date = date(1999, 3, 15)\n",
    "print(birth_date)\n"
   ]
  },
  {
   "cell_type": "markdown",
   "id": "a0b93e36-019e-47e9-aeaa-c665c9e9cf23",
   "metadata": {},
   "source": [
    "### 8. What day of the week was your day of birth?"
   ]
  },
  {
   "cell_type": "code",
   "execution_count": 34,
   "id": "9bfa62a4-f6bb-4fb8-ada7-64a504892d96",
   "metadata": {},
   "outputs": [
    {
     "data": {
      "text/plain": [
       "'Monday'"
      ]
     },
     "execution_count": 34,
     "metadata": {},
     "output_type": "execute_result"
    }
   ],
   "source": [
    "from datetime import datetime\n",
    "my_dob = datetime(1999,3,15)\n",
    "my_dob.strftime(\"%A\")"
   ]
  },
  {
   "cell_type": "markdown",
   "id": "1ec7797a-462e-49c5-9a85-8dc90294a189",
   "metadata": {},
   "source": [
    "#### 9. When will you be (or when were you) 10,000 days old?"
   ]
  },
  {
   "cell_type": "code",
   "execution_count": 35,
   "id": "d50eb0f1-404d-401e-9a2e-17eea79207c3",
   "metadata": {},
   "outputs": [
    {
     "name": "stdout",
     "output_type": "stream",
     "text": [
      "2026-07-31 00:00:00\n"
     ]
    }
   ],
   "source": [
    "from datetime import datetime, timedelta\n",
    "\n",
    "birth_date = datetime(1999, 3, 15) \n",
    "age_in_days = timedelta(days=10000)\n",
    "target_date = birth_date + age_in_days\n",
    "\n",
    "print(target_date)\n"
   ]
  },
  {
   "cell_type": "code",
   "execution_count": null,
   "id": "9bb129fc-e9e7-403e-836c-1f2da2630434",
   "metadata": {},
   "outputs": [],
   "source": []
  }
 ],
 "metadata": {
  "kernelspec": {
   "display_name": "Python 3 (ipykernel)",
   "language": "python",
   "name": "python3"
  },
  "language_info": {
   "codemirror_mode": {
    "name": "ipython",
    "version": 3
   },
   "file_extension": ".py",
   "mimetype": "text/x-python",
   "name": "python",
   "nbconvert_exporter": "python",
   "pygments_lexer": "ipython3",
   "version": "3.10.6"
  }
 },
 "nbformat": 4,
 "nbformat_minor": 5
}
