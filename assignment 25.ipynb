{
 "cells": [
  {
   "cell_type": "markdown",
   "id": "e2ddfcf7-036c-49d8-b348-f398241aaaaf",
   "metadata": {},
   "source": [
    "### 1) . What is the difference between enclosing a list comprehension in square brackets and parentheses?"
   ]
  },
  {
   "cell_type": "markdown",
   "id": "ed98b34d-b860-4529-a268-b4ebe22de176",
   "metadata": {},
   "source": [
    "square brackets [] produce a list directly, while parentheses () create a generator object that can be converted to a list or iterated over to obtain the actual values. "
   ]
  },
  {
   "cell_type": "code",
   "execution_count": 1,
   "id": "b5b3fba4-c050-4c17-a46f-b4c35ecf2ae9",
   "metadata": {},
   "outputs": [
    {
     "name": "stdout",
     "output_type": "stream",
     "text": [
      "[0, 1, 2, 3, 4]\n"
     ]
    }
   ],
   "source": [
    "numbers = [x for x in range(5)]\n",
    "print(numbers) "
   ]
  },
  {
   "cell_type": "code",
   "execution_count": 2,
   "id": "ddd67901-61a5-49ab-9852-bfdeae8fd563",
   "metadata": {},
   "outputs": [
    {
     "name": "stdout",
     "output_type": "stream",
     "text": [
      "<generator object <genexpr> at 0x7f54213b7a00>\n"
     ]
    }
   ],
   "source": [
    "numbers = (x for x in range(5))\n",
    "print(numbers)"
   ]
  },
  {
   "cell_type": "code",
   "execution_count": 3,
   "id": "bc0b9ce7-e7a2-4991-b601-178c3f2b35d8",
   "metadata": {},
   "outputs": [
    {
     "name": "stdout",
     "output_type": "stream",
     "text": [
      "[0, 1, 2, 3, 4]\n"
     ]
    }
   ],
   "source": [
    "numbers = (x for x in range(5))\n",
    "print(list(numbers))"
   ]
  },
  {
   "cell_type": "markdown",
   "id": "4761122f-a3f6-41f0-860b-dcf7cb27ab58",
   "metadata": {},
   "source": [
    "### 2) What is the relationship between generators and iterators?"
   ]
  },
  {
   "cell_type": "markdown",
   "id": "7084dc01-7ac3-413d-b18c-ac4326e3dd24",
   "metadata": {},
   "source": [
    "Generators are a type of iterator in Python. They can be created using generator functions or expressions. Generator functions use the yield statement to yield values one at a time, while generator expressions are similar to list comprehensions but enclosed in parentheses. Generators provide a convenient way to iterate over a sequence of elements on-demand, making them memory-efficient and useful in scenarios with large datasets."
   ]
  },
  {
   "cell_type": "code",
   "execution_count": 13,
   "id": "f52d9a2a-874d-4e67-a50c-8bb429a55ef1",
   "metadata": {},
   "outputs": [
    {
     "name": "stdout",
     "output_type": "stream",
     "text": [
      "0\n",
      "1\n",
      "2\n",
      "3\n",
      "4\n",
      "5\n",
      "0,1,2,3,4,5,"
     ]
    }
   ],
   "source": [
    "def count_up_to(n):\n",
    "    i = 0\n",
    "    while i <= n:\n",
    "        yield i\n",
    "        i += 1\n",
    "\n",
    "for num in count_up_to(5):\n",
    "    print(num) \n",
    "\n",
    "numbers = (x for x in range(6))\n",
    "\n",
    "for num in numbers:\n",
    "    print(num, end=',') \n"
   ]
  },
  {
   "cell_type": "markdown",
   "id": "4bd24406-a105-43ab-889f-fa655c7971e2",
   "metadata": {},
   "source": [
    "### 3) What are the signs that a function is a generator function?"
   ]
  },
  {
   "cell_type": "markdown",
   "id": "a9400428-83c1-4d29-84db-68ad7fc24e34",
   "metadata": {},
   "source": [
    "Contains the yield statement: Generator functions use the yield statement to yield values one at a time, distinguishing them from regular functions.\n",
    "\n",
    "Returns a generator object: When invoked, a generator function returns a generator object, which is an iterator that can be iterated over using loops or other iterator-related constructs.\n",
    "\n",
    "Suspends and resumes execution: Generator functions can suspend their execution using yield, allowing them to generate values on-demand and resume execution from where they left off."
   ]
  },
  {
   "cell_type": "markdown",
   "id": "f8d863d9-97e0-4c3b-9776-9e04c836ba88",
   "metadata": {},
   "source": [
    "### 4) What is the purpose of a yield statement?"
   ]
  },
  {
   "cell_type": "markdown",
   "id": "56096903-f7b0-4b22-834c-5ee81ef04069",
   "metadata": {},
   "source": [
    "The yield statement in a generator function combines value yielding and function resumption. It allows for the generation of values on-demand, enabling efficient and memory-friendly iteration over large or infinite sequences."
   ]
  },
  {
   "cell_type": "markdown",
   "id": "631b66da-230f-4de4-804e-18a6feb25a2e",
   "metadata": {},
   "source": [
    "### 5) What is the relationship between map calls and list comprehensions? Make a comparison and contrast between the two."
   ]
  },
  {
   "cell_type": "markdown",
   "id": "35540904-b7d0-431b-a3ec-22519efd09ff",
   "metadata": {},
   "source": [
    "`map()` and list comprehensions both transform elements in an iterable, but differ in syntax, functionality, and flexibility. \n",
    "\n",
    " `map()` applies a function to corresponding elements and returns a map object.\n",
    " \n",
    " List comprehensions use concise syntax with brackets and support conditional statements and multiple iterations.\n",
    "\n",
    "`map()` is suitable for simple transformations across multiple iterables, while list comprehensions offer greater flexibility for complex operations and filtering."
   ]
  },
  {
   "cell_type": "code",
   "execution_count": null,
   "id": "7c26d600-ba28-4cfa-9fc0-e75fb5fdd8d5",
   "metadata": {},
   "outputs": [],
   "source": []
  }
 ],
 "metadata": {
  "kernelspec": {
   "display_name": "Python 3 (ipykernel)",
   "language": "python",
   "name": "python3"
  },
  "language_info": {
   "codemirror_mode": {
    "name": "ipython",
    "version": 3
   },
   "file_extension": ".py",
   "mimetype": "text/x-python",
   "name": "python",
   "nbconvert_exporter": "python",
   "pygments_lexer": "ipython3",
   "version": "3.10.6"
  }
 },
 "nbformat": 4,
 "nbformat_minor": 5
}
