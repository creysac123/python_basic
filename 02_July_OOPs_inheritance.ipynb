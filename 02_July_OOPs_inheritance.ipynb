{
 "cells": [
  {
   "cell_type": "markdown",
   "id": "e53b5708",
   "metadata": {},
   "source": [
    "##  02_July_OOPs_inheritance "
   ]
  },
  {
   "cell_type": "markdown",
   "id": "e7f6c97a",
   "metadata": {},
   "source": [
    "### 1. Explain what inheritance is in object-oriented programming and why it is used."
   ]
  },
  {
   "cell_type": "markdown",
   "id": "f1b79bbd",
   "metadata": {},
   "source": [
    "- Inheritance in object-oriented programming allows child classes to inherit properties and behaviors from parent classes. It's used for code reuse, extensibility, hierarchy, and polymorphism. This simplifies code, promotes organization, and improves maintainability."
   ]
  },
  {
   "cell_type": "markdown",
   "id": "acbfa685",
   "metadata": {},
   "source": [
    "### 2. Discuss the concept of single inheritance and multiple inheritance, highlighting their differences and advantages."
   ]
  },
  {
   "cell_type": "markdown",
   "id": "d370dd91",
   "metadata": {},
   "source": [
    "**Single Inheritance:**\n",
    "- Inherits from one parent class.\n",
    "- Simpler and avoids the Diamond Problem.\n",
    "- Limits code reusability.\n",
    "\n",
    "**Multiple Inheritance:**\n",
    "- Inherits from multiple parent classes.\n",
    "- Enhances code reusability and flexibility.\n",
    "- Potential for the Diamond Problem and increased complexity."
   ]
  },
  {
   "cell_type": "markdown",
   "id": "ba9b0910",
   "metadata": {},
   "source": [
    "### 3. Explain the terms \"base class\" and \"derived class\" in the context of inheritance."
   ]
  },
  {
   "cell_type": "markdown",
   "id": "f66a110d",
   "metadata": {},
   "source": [
    "**Base Class:**\n",
    "- A **base class**, also known as a **parent class** or **superclass**, is the class that provides the properties and methods to be inherited by other classes.\n",
    "- It serves as the foundation for creating derived classes and defines the common attributes and behaviors that are shared by those derived classes.\n",
    "- In the context of inheritance, the base class is the class from which other classes derive their features.\n",
    "\n",
    "**Derived Class:**\n",
    "- A **derived class**, also known as a **child class** or **subclass**, is the class that inherits properties and methods from a base class.\n",
    "- It builds upon the attributes and behaviors of the base class and can add its own attributes and methods or override existing ones.\n",
    "- Inheritance allows the derived class to reuse and extend the functionality of the base class, promoting code reusability and customization."
   ]
  },
  {
   "cell_type": "markdown",
   "id": "f9bddc42",
   "metadata": {},
   "source": [
    "### 4. What is the significance of the \"protected\" access modifier in inheritance? How does it differ from \"private\" and \"public\" modifiers?"
   ]
  },
  {
   "cell_type": "markdown",
   "id": "acfa92b5",
   "metadata": {},
   "source": [
    "**Significance of \"protected\" Access Modifier in Inheritance:**\n",
    "- The \"protected\" access modifier in inheritance allows class members (fields and methods) to be accessible by derived classes within the same class hierarchy.\n",
    "- It promotes code reusability by enabling derived classes to access and customize inherited members.\n",
    "- While \"protected\" provides this level of access, it restricts direct access from code outside the class hierarchy, maintaining encapsulation.\n",
    "\n",
    "**Differences from \"private\" and \"public\" Modifiers:**\n",
    "- **Private:** Members with \"private\" access are only accessible within the defining class. They are not visible to derived classes or external code. This offers strong encapsulation and hides implementation details.\n",
    "- **Public:** Members with \"public\" access are accessible from any part of the program, including derived classes and external code. There are no access restrictions, allowing for full visibility and interaction.\n",
    "\n",
    "In summary, the \"protected\" access modifier strikes a balance between \"private\" and \"public.\" It enables customization by derived classes while restricting access from external code, making it useful for controlled inheritance and promoting code reusability."
   ]
  },
  {
   "cell_type": "markdown",
   "id": "7e17a7aa",
   "metadata": {},
   "source": [
    "### 5. What is the purpose of the \"super\" keyword in inheritance? Provide an example."
   ]
  },
  {
   "cell_type": "markdown",
   "id": "04bf4d7d",
   "metadata": {},
   "source": [
    "The \"super\" keyword in inheritance is used to call a method or constructor from the parent class (superclass). It allows a derived class to access and invoke methods or constructors defined in its parent class. \n",
    "**Purpose of the \"super\" Keyword:**\n",
    "- The \"super\" keyword is used to access and invoke methods or constructors from the parent class (superclass) in inheritance.\n",
    "- It allows a derived class to reuse and extend the functionality of its parent class.\n",
    "- \"super\" is particularly useful when the parent and child classes have methods or constructors with the same name, helping to disambiguate and specify which one to call.\n",
    "**Example in Python:**\n",
    "Suppose we have a Python class hierarchy with a parent class `Vehicle` and a child class `Car`. The child class wants to invoke the constructor of the parent class using the \"super\" keyword.\n",
    "\n",
    "```python\n",
    "class Vehicle:\n",
    "    def __init__(self, brand):\n",
    "        self.brand = brand\n",
    "\n",
    "class Car(Vehicle):\n",
    "    def __init__(self, brand, model):\n",
    "        super().__init__(brand)  # Call the constructor of the parent class\n",
    "        self.model = model\n",
    "\n",
    "# Create an instance of the Car class\n",
    "my_car = Car(\"Toyota\", \"Camry\")\n",
    "\n",
    "# Access attributes\n",
    "print(f\"Brand: {my_car.brand}, Model: {my_car.model}\")\n",
    "```\n",
    "In this example, the \"super\" keyword is used in the `Car` class's constructor to invoke the constructor of the `Vehicle` class. This allows the \"brand\" attribute to be initialized from the parent class, and the \"model\" attribute is set in the child class."
   ]
  },
  {
   "cell_type": "markdown",
   "id": "a76b8f6e",
   "metadata": {},
   "source": [
    "### 6. Create a base class called \"Vehicle\" with attributes like \"make\", \"model\", and \"year\". Then, create a derived class called \"Car\" that inherits from \"Vehicle\" and adds an attribute called \"fuel_type\". Implement appropriate methods in both classes."
   ]
  },
  {
   "cell_type": "code",
   "execution_count": 3,
   "id": "0eb6db5e",
   "metadata": {},
   "outputs": [
    {
     "name": "stdout",
     "output_type": "stream",
     "text": [
      "Make: Toyota, Model: Camry, Year: 2023, Fuel Type: Gasoline\n"
     ]
    }
   ],
   "source": [
    "class Vehicle:\n",
    "    def __init__(self, make, model, year):\n",
    "        self.make = make\n",
    "        self.model = model\n",
    "        self.year = year\n",
    "\n",
    "    def display_info(self):\n",
    "        return f\"Make: {self.make}, Model: {self.model}, Year: {self.year}\"\n",
    "\n",
    "class Car(Vehicle):\n",
    "    def __init__(self, make, model, year, fuel_type):\n",
    "        super().__init__(make, model, year)\n",
    "        self.fuel_type = fuel_type\n",
    "\n",
    "    def display_info(self):\n",
    "        vehicle_info = super().display_info()  # Call the base class method\n",
    "        return f\"{vehicle_info}, Fuel Type: {self.fuel_type}\"\n",
    "\n",
    "# Create a Car instance\n",
    "my_car = Car(\"Toyota\", \"Camry\", 2023, \"Gasoline\")\n",
    "\n",
    "# Access and display attributes\n",
    "print(my_car.display_info())"
   ]
  },
  {
   "cell_type": "markdown",
   "id": "9d46f32e",
   "metadata": {},
   "source": [
    "### 7. Create a base class called \"Employee\" with attributes like \"name\" and \"salary.\" Derive two classes, \"Manager\" and \"Developer,\" from \"Employee.\" Add an additional attribute called \"department\" for the \"Manager\" class and \"programming_language\" for the \"Developer\" class."
   ]
  },
  {
   "cell_type": "code",
   "execution_count": 4,
   "id": "72732b2b",
   "metadata": {},
   "outputs": [
    {
     "name": "stdout",
     "output_type": "stream",
     "text": [
      "Name: Alice, Salary: 75000, Department: Marketing\n",
      "Name: Bob, Salary: 65000, Programming Language: Python\n"
     ]
    }
   ],
   "source": [
    "class Employee:\n",
    "    def __init__(self, name, salary):\n",
    "        self.name = name\n",
    "        self.salary = salary\n",
    "\n",
    "class Manager(Employee):\n",
    "    def __init__(self, name, salary, department):\n",
    "        super().__init__(name, salary)\n",
    "        self.department = department\n",
    "\n",
    "    def display_info(self):\n",
    "        return f\"Name: {self.name}, Salary: {self.salary}, Department: {self.department}\"\n",
    "\n",
    "class Developer(Employee):\n",
    "    def __init__(self, name, salary, programming_language):\n",
    "        super().__init__(name, salary)\n",
    "        self.programming_language = programming_language\n",
    "\n",
    "    def display_info(self):\n",
    "        return f\"Name: {self.name}, Salary: {self.salary}, Programming Language: {self.programming_language}\"\n",
    "\n",
    "# Create instances of Manager and Developer\n",
    "manager = Manager(\"Alice\", 75000, \"Marketing\")\n",
    "developer = Developer(\"Bob\", 65000, \"Python\")\n",
    "\n",
    "# Access and display attributes\n",
    "print(manager.display_info())\n",
    "print(developer.display_info())\n"
   ]
  },
  {
   "cell_type": "markdown",
   "id": "f225eac9",
   "metadata": {},
   "source": [
    "### 8. Design a base class called \"Shape\" with attributes like \"colour\" and \"border_width.\" Create derived classes, \"Rectangle\" and \"Circle,\" that inherit from \"Shape\" and add specific attributes like \"length\" and \"width\" for the \"Rectangle\" class and \"radius\" for the \"Circle\" class."
   ]
  },
  {
   "cell_type": "code",
   "execution_count": 5,
   "id": "2a5b6773",
   "metadata": {},
   "outputs": [
    {
     "name": "stdout",
     "output_type": "stream",
     "text": [
      "Colour: Blue, Border Width: 2, Length: 10, Width: 5\n",
      "Colour: Red, Border Width: 1, Radius: 7\n"
     ]
    }
   ],
   "source": [
    "class Shape:\n",
    "    def __init__(self, colour, border_width):\n",
    "        self.colour = colour\n",
    "        self.border_width = border_width\n",
    "\n",
    "class Rectangle(Shape):\n",
    "    def __init__(self, colour, border_width, length, width):\n",
    "        super().__init__(colour, border_width)\n",
    "        self.length = length\n",
    "        self.width = width\n",
    "\n",
    "    def display_info(self):\n",
    "        return f\"Colour: {self.colour}, Border Width: {self.border_width}, Length: {self.length}, Width: {self.width}\"\n",
    "\n",
    "class Circle(Shape):\n",
    "    def __init__(self, colour, border_width, radius):\n",
    "        super().__init__(colour, border_width)\n",
    "        self.radius = radius\n",
    "\n",
    "    def display_info(self):\n",
    "        return f\"Colour: {self.colour}, Border Width: {self.border_width}, Radius: {self.radius}\"\n",
    "\n",
    "# Create instances of Rectangle and Circle\n",
    "rectangle = Rectangle(\"Blue\", 2, 10, 5)\n",
    "circle = Circle(\"Red\", 1, 7)\n",
    "\n",
    "# Access and display attributes\n",
    "print(rectangle.display_info())\n",
    "print(circle.display_info())\n"
   ]
  },
  {
   "cell_type": "markdown",
   "id": "19bf964e",
   "metadata": {},
   "source": [
    "### 9. Create a base class called \"Device\" with attributes like \"brand\" and \"model.\" Derive two classes, \"Phone\" and \"Tablet,\" from \"Device.\" Add specific attributes like \"screen_size\" for the \"Phone\" class and \"battery_capacity\" for the \"Tablet\" class."
   ]
  },
  {
   "cell_type": "code",
   "execution_count": 6,
   "id": "1e7bc4d3",
   "metadata": {},
   "outputs": [
    {
     "name": "stdout",
     "output_type": "stream",
     "text": [
      "Brand: Apple, Model: iPhone 13, Screen Size: 6.1\n",
      "Brand: Apple, Model: iPad Pro, Battery Capacity: 10,090 mAh\n"
     ]
    }
   ],
   "source": [
    "class Device:\n",
    "    def __init__(self, brand, model):\n",
    "        self.brand = brand\n",
    "        self.model = model\n",
    "\n",
    "class Phone(Device):\n",
    "    def __init__(self, brand, model, screen_size):\n",
    "        super().__init__(brand, model)\n",
    "        self.screen_size = screen_size\n",
    "\n",
    "    def display_info(self):\n",
    "        return f\"Brand: {self.brand}, Model: {self.model}, Screen Size: {self.screen_size}\"\n",
    "\n",
    "class Tablet(Device):\n",
    "    def __init__(self, brand, model, battery_capacity):\n",
    "        super().__init__(brand, model)\n",
    "        self.battery_capacity = battery_capacity\n",
    "\n",
    "    def display_info(self):\n",
    "        return f\"Brand: {self.brand}, Model: {self.model}, Battery Capacity: {self.battery_capacity}\"\n",
    "\n",
    "# Create instances of Phone and Tablet\n",
    "iphone = Phone(\"Apple\", \"iPhone 13\", 6.1)\n",
    "ipad = Tablet(\"Apple\", \"iPad Pro\", \"10,090 mAh\")\n",
    "\n",
    "# Access and display attributes\n",
    "print(iphone.display_info())\n",
    "print(ipad.display_info())\n"
   ]
  },
  {
   "cell_type": "markdown",
   "id": "c635b754",
   "metadata": {},
   "source": [
    "### 10. Create a base class called \"BankAccount\" with attributes like \"account_number\" and \"balance.\" Derive two classes, \"SavingsAccount\" and \"CheckingAccount,\" from \"BankAccount.\" Add specific methods like \"calculate_interest\" for the \"SavingsAccount\" class and \"deduct_fees\" for the \"CheckingAccount\" class."
   ]
  },
  {
   "cell_type": "code",
   "execution_count": 7,
   "id": "f90ad2fe",
   "metadata": {},
   "outputs": [
    {
     "name": "stdout",
     "output_type": "stream",
     "text": [
      "Account Number: SA123, Balance: $5125.0\n",
      "Account Number: CA456, Balance: $2990\n"
     ]
    }
   ],
   "source": [
    "class BankAccount:\n",
    "    def __init__(self, account_number, balance):\n",
    "        self.account_number = account_number\n",
    "        self.balance = balance\n",
    "\n",
    "class SavingsAccount(BankAccount):\n",
    "    def calculate_interest(self, interest_rate):\n",
    "        interest = (self.balance * interest_rate) / 100\n",
    "        self.balance += interest\n",
    "\n",
    "    def display_info(self):\n",
    "        return f\"Account Number: {self.account_number}, Balance: ${self.balance}\"\n",
    "\n",
    "class CheckingAccount(BankAccount):\n",
    "    def deduct_fees(self, fee_amount):\n",
    "        self.balance -= fee_amount\n",
    "\n",
    "    def display_info(self):\n",
    "        return f\"Account Number: {self.account_number}, Balance: ${self.balance}\"\n",
    "\n",
    "# Create instances of SavingsAccount and CheckingAccount\n",
    "savings_account = SavingsAccount(\"SA123\", 5000)\n",
    "checking_account = CheckingAccount(\"CA456\", 3000)\n",
    "\n",
    "# Perform operations and display account information\n",
    "savings_account.calculate_interest(2.5)  # 2.5% interest rate\n",
    "checking_account.deduct_fees(10)  # $10 fee\n",
    "\n",
    "print(savings_account.display_info())\n",
    "print(checking_account.display_info())\n"
   ]
  },
  {
   "cell_type": "code",
   "execution_count": null,
   "id": "d2c01be8",
   "metadata": {},
   "outputs": [],
   "source": []
  }
 ],
 "metadata": {
  "kernelspec": {
   "display_name": "Python 3 (ipykernel)",
   "language": "python",
   "name": "python3"
  },
  "language_info": {
   "codemirror_mode": {
    "name": "ipython",
    "version": 3
   },
   "file_extension": ".py",
   "mimetype": "text/x-python",
   "name": "python",
   "nbconvert_exporter": "python",
   "pygments_lexer": "ipython3",
   "version": "3.9.12"
  }
 },
 "nbformat": 4,
 "nbformat_minor": 5
}
