{
 "cells": [
  {
   "cell_type": "markdown",
   "id": "5041cb43-4ee5-4a60-9900-0d84b0b56693",
   "metadata": {},
   "source": [
    "1. To what does a relative path refer?"
   ]
  },
  {
   "cell_type": "markdown",
   "id": "d1ad5020-b81e-4cb5-a6cf-aa1516ca5107",
   "metadata": {},
   "source": [
    "A relative path refers to the location of a file or directory in relation to the current working directory. For example, if the current directory is /home/user/, a relative path like documents/file.txt would refer to the file file.txt located in the documents directory within the current working directory."
   ]
  },
  {
   "cell_type": "markdown",
   "id": "fa0ab6f6-4c50-4e7a-9be5-cae34c35dc11",
   "metadata": {},
   "source": [
    "2. What does an absolute path start with your operating system?"
   ]
  },
  {
   "cell_type": "markdown",
   "id": "a251ebda-c2bc-4601-8933-d2e7d3892579",
   "metadata": {},
   "source": [
    " In Linux based systems the absolute path starts with /. Where as in Windows based systems absolute path starts with C:"
   ]
  },
  {
   "cell_type": "markdown",
   "id": "3d033d08-fc34-40b1-ba03-e2486efbcf2e",
   "metadata": {},
   "source": [
    "3. What do the functions os.getcwd() and os.chdir() do?"
   ]
  },
  {
   "cell_type": "markdown",
   "id": "d0f40fda-34d9-4457-b065-6ad04ffa105c",
   "metadata": {},
   "source": [
    "os.getcwd() returns you the current working directory path\n",
    "\n",
    "os.chdir() is used to change the current working directory while running the program"
   ]
  },
  {
   "cell_type": "markdown",
   "id": "afe6ccae-5c84-4615-8f3c-c446b579ffbf",
   "metadata": {},
   "source": [
    "4. What are the . and .. folders?"
   ]
  },
  {
   "cell_type": "markdown",
   "id": "3bf328fd-49ba-4cb6-980f-c8bacf5b1c3f",
   "metadata": {},
   "source": [
    "The \".\" folder represents the current directory. It is used to refer to the directory you are currently in. For example, if you are in the directory /home/user/, the \".\" folder refers to /home/user/.\n",
    "\n",
    "The \"..\" folder represents the parent directory. It is used to refer to the directory one level above the current directory. For example, if you are in the directory /home/user/, the \"..\" folder refers to /home/."
   ]
  },
  {
   "cell_type": "markdown",
   "id": "655b7487-7229-4fd3-bcbb-c6c6598b6fe2",
   "metadata": {},
   "source": [
    "5. In C:\\bacon\\eggs\\spam.txt, which part is the dir name, and which part is the base name?"
   ]
  },
  {
   "cell_type": "markdown",
   "id": "9187fdea-9912-4c33-982f-4bfaafcd1dd3",
   "metadata": {},
   "source": [
    "The directory name (dir name) is \"C:\\bacon\\eggs\". It represents the path to the directory containing the file.\n",
    "\n",
    "The base name is \"spam.txt\". It refers to the actual name of the file itself."
   ]
  },
  {
   "cell_type": "markdown",
   "id": "86e19a16-f9c8-46ba-adde-e0e02039b7ca",
   "metadata": {},
   "source": [
    "6. What are the three “mode” arguments that can be passed to the open() function?"
   ]
  },
  {
   "cell_type": "markdown",
   "id": "f9af35d5-40f0-48cf-a786-4c32f51a4bf7",
   "metadata": {},
   "source": [
    "The three \"mode\" arguments that can be passed to the open() function in Python are:\n",
    "\n",
    "\"r\" (Read Mode): Opens the file for reading (default if no mode is specified). Raises an error if the file doesn't exist.\n",
    "\n",
    "\"w\" (Write Mode): Opens the file for writing. Creates a new file if it doesn't exist or truncates the existing file. The previous contents of the file are deleted.\n",
    "\n",
    "\"a\" (Append Mode): Opens the file for appending. Data is added to the end of the file if it exists, and a new file is created if it doesn't exist."
   ]
  },
  {
   "cell_type": "markdown",
   "id": "de09d2d1-3edf-41ad-8399-8a689c007ad7",
   "metadata": {},
   "source": [
    "7. What happens if an existing file is opened in write mode?"
   ]
  },
  {
   "cell_type": "markdown",
   "id": "1f029942-49c0-403d-8d5c-8a3df7f556cf",
   "metadata": {},
   "source": [
    "Using this mode will overwrite any existing content in a file. If the given file does not exist, a new one will be created."
   ]
  },
  {
   "cell_type": "markdown",
   "id": "491d21fa-21fc-4413-8efb-44931ba11966",
   "metadata": {},
   "source": [
    "8. How do you tell the difference between read() and readlines()?"
   ]
  },
  {
   "cell_type": "markdown",
   "id": "89560f1e-d260-4fd2-a255-2770cbf323f9",
   "metadata": {},
   "source": [
    "The read() method returns the file’s entire contents as a single string value.\n",
    "\n",
    "The readlines() method returns a list of strings, where each string is a line from the file’s contents."
   ]
  },
  {
   "cell_type": "markdown",
   "id": "439445f6-5938-4181-9d42-bd6610925959",
   "metadata": {},
   "source": [
    "9. What data structure does a shelf value resemble?"
   ]
  },
  {
   "cell_type": "markdown",
   "id": "8658b15a-13f2-440b-8dc2-0b6918de85c7",
   "metadata": {},
   "source": [
    "In Python, the shelve module provides a persistent dictionary-like object that can be used to store and retrieve key-value pairs. "
   ]
  },
  {
   "cell_type": "code",
   "execution_count": null,
   "id": "257429b8-fad9-435a-935d-1cb0726ee48e",
   "metadata": {},
   "outputs": [],
   "source": []
  }
 ],
 "metadata": {
  "kernelspec": {
   "display_name": "Python 3 (ipykernel)",
   "language": "python",
   "name": "python3"
  },
  "language_info": {
   "codemirror_mode": {
    "name": "ipython",
    "version": 3
   },
   "file_extension": ".py",
   "mimetype": "text/x-python",
   "name": "python",
   "nbconvert_exporter": "python",
   "pygments_lexer": "ipython3",
   "version": "3.10.6"
  }
 },
 "nbformat": 4,
 "nbformat_minor": 5
}
