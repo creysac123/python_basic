{
 "cells": [
  {
   "cell_type": "markdown",
   "id": "9ff30ea2",
   "metadata": {},
   "source": [
    "### 1. In Python, what is the difference between a built-in function and a user-defined function? Provide an example of each."
   ]
  },
  {
   "cell_type": "markdown",
   "id": "e849e0ee",
   "metadata": {},
   "source": [
    "Difference between a Built-in Function and a User-defined Function:\n",
    "\n",
    "Built-in Function: Pre-defined in Python's standard library, readily available for use, e.g., print(), len(), range(), etc.\n",
    "\n",
    "User-defined Function: Created by the user, encapsulates code for specific tasks, defined using def, e.g., custom calculations, data processing."
   ]
  },
  {
   "cell_type": "code",
   "execution_count": 2,
   "id": "66d2cfc1",
   "metadata": {},
   "outputs": [
    {
     "name": "stdout",
     "output_type": "stream",
     "text": [
      "Hello, world!\n",
      "Rectangle area: 15\n"
     ]
    }
   ],
   "source": [
    "#built in functions\n",
    "print(\"Hello, world!\")\n",
    "\n",
    "\n",
    "#user defined functions\n",
    "def calculate_rectangle_area(length, width):\n",
    "    return length * width\n",
    "\n",
    "rectangle_area = calculate_rectangle_area(5, 3)\n",
    "print(\"Rectangle area:\", rectangle_area)\n"
   ]
  },
  {
   "cell_type": "markdown",
   "id": "37182e57",
   "metadata": {},
   "source": [
    "### How can you pass arguments to a function in Python? Explain the difference between positional arguments and keyword arguments."
   ]
  },
  {
   "cell_type": "markdown",
   "id": "165d53f5",
   "metadata": {},
   "source": [
    "**Passing Arguments to a Function in Python:**\n",
    "\n",
    "- You can pass arguments to a function by providing values when calling it.\n",
    "\n",
    "**Positional Arguments:**\n",
    "\n",
    "- Arguments are passed based on their position in the function's parameter list.\n",
    "- Order matters, and the number of arguments must match the number of parameters.\n",
    "\n",
    "**Example:**\n",
    "```python\n",
    "def greet(name, age):\n",
    "    print(f\"Hello, {name}. You are {age} years old.\")\n",
    "\n",
    "greet(\"Alice\", 30)\n",
    "```\n",
    "\n",
    "**Keyword Arguments:**\n",
    "\n",
    "- Arguments are passed with parameter names, so order doesn't matter.\n",
    "- You can skip parameters and assign values only to specific ones.\n",
    "\n",
    "**Example:**\n",
    "```python\n",
    "def greet(name, age):\n",
    "    print(f\"Hello, {name}. You are {age} years old.\")\n",
    "\n",
    "greet(age=30, name=\"Alice\")\n",
    "```"
   ]
  },
  {
   "cell_type": "markdown",
   "id": "59f642d8",
   "metadata": {},
   "source": [
    "### 3. What is the purpose of the return statement in a function? Can a function have multiple return statements? Explain with an example."
   ]
  },
  {
   "cell_type": "markdown",
   "id": "ad98a829",
   "metadata": {},
   "source": [
    "**Purpose of the Return Statement in a Function:**\n",
    "\n",
    "- The `return` statement specifies the value that a function should send back to the caller.\n",
    "- It allows the function to provide a result or output for further use in the program.\n",
    "\n",
    "**Multiple Return Statements in a Function:**\n",
    "\n",
    "- Yes, a function can have multiple `return` statements.\n",
    "- However, once a `return` statement is encountered, the function exits, and any code after that won't be executed.\n",
    "\n",
    "**Example:**\n",
    "\n",
    "```python\n",
    "def calculate_rectangle_properties(length, width):\n",
    "    area = length * width\n",
    "    perimeter = 2 * (length + width)\n",
    "    return area  # First return statement\n",
    "    return perimeter  # Second return statement (Not executed)\n",
    "\n",
    "rectangle_area = calculate_rectangle_properties(5, 3)\n",
    "print(\"Rectangle Area:\", rectangle_area)  # Output: Rectangle Area: 15\n",
    "```\n",
    "\n",
    "In this example, the function calculates the area and perimeter of a rectangle but only returns the area. The second `return` statement for perimeter is not executed."
   ]
  },
  {
   "cell_type": "markdown",
   "id": "ec2920b5",
   "metadata": {},
   "source": [
    "### 4. What are lambda functions in Python? How are they different from regular functions? Provide an example where a lambda function can be useful."
   ]
  },
  {
   "cell_type": "markdown",
   "id": "24b8ba1d",
   "metadata": {},
   "source": [
    "**Lambda Functions in Python:**\n",
    "\n",
    "Lambda functions, also known as anonymous functions, are short and temporary functions created using the `lambda` keyword. They have a concise syntax and are ideal for simple, one-line operations. Unlike regular functions, lambda functions do not have a name and can only consist of a single expression.\n",
    "\n",
    "**Differences from Regular Functions:**\n",
    "\n",
    "- **Syntax:** Lambda functions are written on a single line, while regular functions use the `def` keyword and require a block of code.\n",
    "- **Name:** Lambda functions are anonymous and used for one-time tasks, while regular functions have names and can be reused.\n",
    "- **Number of Expressions:** Lambda functions can have only one expression, whereas regular functions can have multiple statements and expressions.\n"
   ]
  },
  {
   "cell_type": "code",
   "execution_count": 3,
   "id": "22554cbf",
   "metadata": {},
   "outputs": [
    {
     "name": "stdout",
     "output_type": "stream",
     "text": [
      "Sorted using regular function: [15, 27, 12, 6, 8]\n",
      "Sorted using lambda function: [15, 27, 12, 6, 8]\n"
     ]
    }
   ],
   "source": [
    "numbers = [15, 8, 27, 12, 6]\n",
    "\n",
    "# Using a regular function for sorting\n",
    "def remainder_mod_3(number):\n",
    "    return number % 3\n",
    "\n",
    "sorted_numbers_regular = sorted(numbers, key=remainder_mod_3)\n",
    "print(\"Sorted using regular function:\", sorted_numbers_regular)\n",
    "\n",
    "# Using a lambda function for sorting\n",
    "sorted_numbers_lambda = sorted(numbers, key=lambda x: x % 3)\n",
    "print(\"Sorted using lambda function:\", sorted_numbers_lambda)\n"
   ]
  },
  {
   "cell_type": "markdown",
   "id": "448c94c0",
   "metadata": {},
   "source": [
    "### 5. How does the concept of \"scope\" apply to functions in Python? Explain the difference between local scope and global scope."
   ]
  },
  {
   "cell_type": "markdown",
   "id": "a96527e6",
   "metadata": {},
   "source": [
    "**Scope in Functions in Python:**\n",
    "\n",
    "- **Local Scope:**\n",
    "  - Variables defined inside a function have local scope.\n",
    "  - They are accessible only within that function and are temporary.\n",
    "  - Local variables are destroyed when the function finishes its execution.\n",
    "\n",
    "**Example:**\n",
    "```python\n",
    "def my_function():\n",
    "    x = 10  # Local variable\n",
    "    print(\"Inside the function:\", x)\n",
    "\n",
    "my_function()\n",
    "```\n",
    "\n",
    "- **Global Scope:**\n",
    "  - Variables defined outside any function or at the top level have global scope.\n",
    "  - They are accessible and modifiable throughout the code, including inside functions.\n",
    "  - To modify a global variable inside a function, the `global` keyword is used.\n",
    "\n",
    "**Example:**\n",
    "```python\n",
    "x = 10  # Global variable\n",
    "\n",
    "def modify_global():\n",
    "    global x\n",
    "    x = 20  # Modifying the global variable 'x'\n",
    "\n",
    "modify_global()\n",
    "print(\"Updated global variable:\", x)  # Output: Updated global variable: 20\n",
    "```"
   ]
  },
  {
   "cell_type": "markdown",
   "id": "7fc10f22",
   "metadata": {},
   "source": [
    "### 6. How can you use the \"return\" statement in a Python function to return multiple values?"
   ]
  },
  {
   "cell_type": "markdown",
   "id": "4cba7ebf",
   "metadata": {},
   "source": [
    "\n",
    "\n",
    "**Using \"return\" to Return Multiple Values:**\n",
    "\n",
    "In Python, you can use the return statement to return multiple values from a function as a tuple, list, or any suitable data structure."
   ]
  },
  {
   "cell_type": "code",
   "execution_count": 4,
   "id": "051e4919",
   "metadata": {},
   "outputs": [
    {
     "name": "stdout",
     "output_type": "stream",
     "text": [
      "(10, 20, 30)\n"
     ]
    }
   ],
   "source": [
    "def multiple_values():\n",
    "    x = 10\n",
    "    y = 20\n",
    "    z = 30\n",
    "    return x, y, z  # Multiple values returned as a tuple\n",
    "\n",
    "result = multiple_values()\n",
    "print(result)  # Output: (10, 20, 30)\n"
   ]
  },
  {
   "cell_type": "code",
   "execution_count": 5,
   "id": "89b2cbba",
   "metadata": {},
   "outputs": [
    {
     "name": "stdout",
     "output_type": "stream",
     "text": [
      "a: 10\n",
      "b: 20\n",
      "c: 30\n"
     ]
    }
   ],
   "source": [
    "a, b, c = multiple_values()\n",
    "print(\"a:\", a)  # Output: a: 10\n",
    "print(\"b:\", b)  # Output: b: 20\n",
    "print(\"c:\", c)  # Output: c: 30\n"
   ]
  },
  {
   "cell_type": "markdown",
   "id": "b7b8e714",
   "metadata": {},
   "source": [
    "### 7. What is the difference between the \"pass by value\" and \"pass by reference\" concepts when it comes to function arguments in Python?"
   ]
  },
  {
   "cell_type": "markdown",
   "id": "f6ddf9cf",
   "metadata": {},
   "source": [
    "In Python, the concepts of \"pass by value\" and \"pass by reference\" refer to how function arguments are handled during function calls.\n",
    "\n",
    "**Pass by Value:**\n",
    "- A copy of the actual value of the argument is passed to the function.\n",
    "- Modifications to the parameter inside the function do not affect the original variable outside the function.\n",
    "\n",
    "**Example:**\n",
    "```python\n",
    "def modify_value(num):\n",
    "    num += 10  # Modifying the parameter\n",
    "    return num\n",
    "\n",
    "x = 5\n",
    "modified_x = modify_value(x)\n",
    "print(\"Original x:\", x)  # Output: Original x: 5 (Unaffected by the function call)\n",
    "print(\"Modified x:\", modified_x)  # Output: Modified x: 15\n",
    "```\n",
    "\n",
    "**Pass by Reference:**\n",
    "- A reference to the memory location of the original variable is passed to the function.\n",
    "- Changes made to the parameter inside the function directly affect the original variable outside the function.\n",
    "\n",
    "**Example:**\n",
    "```python\n",
    "def modify_list(lst):\n",
    "    lst.append(4)  # Modifying the parameter\n",
    "    return lst\n",
    "\n",
    "my_list = [1, 2, 3]\n",
    "modified_list = modify_list(my_list)\n",
    "print(\"Original List:\", my_list)  # Output: Original List: [1, 2, 3, 4] (Modified by the function call)\n",
    "print(\"Modified List:\", modified_list)  # Output: Modified List: [1, 2, 3, 4]\n",
    "```\n",
    "\n"
   ]
  },
  {
   "cell_type": "markdown",
   "id": "2b5b3594",
   "metadata": {},
   "source": [
    "### 8. Create a function that can intake integer or decimal value and do following operations:\n",
    "- a. Logarithmic function (log x)\n",
    "- b. Exponential function (exp(x))\n",
    "- c. Power function with base 2 (2^x)\n",
    "- d. Square root"
   ]
  },
  {
   "cell_type": "code",
   "execution_count": 7,
   "id": "57938e6d",
   "metadata": {},
   "outputs": [
    {
     "name": "stdout",
     "output_type": "stream",
     "text": [
      "Results for integer input: (1.0986122886681098, 20.085536923187668, 8, 1.7320508075688772)\n",
      "Results for decimal input: (0.9162907318741551, 12.182493960703473, 5.656854249492381, 1.5811388300841898)\n"
     ]
    }
   ],
   "source": [
    "import math\n",
    "\n",
    "def math_operations(x):\n",
    "    # Logarithmic function (log x)\n",
    "    log_result = math.log(x)\n",
    "\n",
    "    # Exponential function (exp(x))\n",
    "    exp_result = math.exp(x)\n",
    "\n",
    "    # Power function with base 2 (2^x)\n",
    "    power_result = 2 ** x\n",
    "\n",
    "    # Square root\n",
    "    sqrt_result = math.sqrt(x)\n",
    "\n",
    "    return log_result, exp_result, power_result, sqrt_result\n",
    "\n",
    "# Test the function with an integer value\n",
    "result_integer = math_operations(3)\n",
    "print(\"Results for integer input:\", result_integer)\n",
    "\n",
    "# Test the function with a decimal value\n",
    "result_decimal = math_operations(2.5)\n",
    "print(\"Results for decimal input:\", result_decimal)\n"
   ]
  },
  {
   "cell_type": "markdown",
   "id": "7a347989",
   "metadata": {},
   "source": [
    "### 9. Create a function that takes a full name as an argument and returns first name and last name."
   ]
  },
  {
   "cell_type": "code",
   "execution_count": 14,
   "id": "2225b353",
   "metadata": {},
   "outputs": [
    {
     "name": "stdout",
     "output_type": "stream",
     "text": [
      "First Name: Creysac\n",
      "Last Name: Florance\n"
     ]
    }
   ],
   "source": [
    "def name(n):\n",
    "    names=n.split()\n",
    "    name1=names[0]\n",
    "    name2=names[-1]\n",
    "    return name1,name2\n",
    "\n",
    "\n",
    "na='Creysac Florance'\n",
    "firstname,lastname=name(na)\n",
    "print(\"First Name:\", firstname)\n",
    "print(\"Last Name:\", lastname)"
   ]
  },
  {
   "cell_type": "code",
   "execution_count": null,
   "id": "a14e74ca",
   "metadata": {},
   "outputs": [],
   "source": []
  }
 ],
 "metadata": {
  "kernelspec": {
   "display_name": "Python 3 (ipykernel)",
   "language": "python",
   "name": "python3"
  },
  "language_info": {
   "codemirror_mode": {
    "name": "ipython",
    "version": 3
   },
   "file_extension": ".py",
   "mimetype": "text/x-python",
   "name": "python",
   "nbconvert_exporter": "python",
   "pygments_lexer": "ipython3",
   "version": "3.9.12"
  }
 },
 "nbformat": 4,
 "nbformat_minor": 5
}
