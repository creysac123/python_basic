{
 "cells": [
  {
   "cell_type": "markdown",
   "metadata": {},
   "source": [
    "### Q.1. What are keywords in python? Using the keyword library, print all the python keywords."
   ]
  },
  {
   "cell_type": "markdown",
   "metadata": {},
   "source": [
    "In Python, keywords are reserved words that have a specific meaning and are used to define the syntax and structure of the language. These keywords cannot be used as identifiers (variable names, function names, etc.) because they are already reserved for specific purposes within the language."
   ]
  },
  {
   "cell_type": "code",
   "execution_count": 3,
   "metadata": {},
   "outputs": [
    {
     "name": "stdout",
     "output_type": "stream",
     "text": [
      "['False', 'None', 'True', '__peg_parser__', 'and', 'as', 'assert', 'async', 'await', 'break', 'class', 'continue', 'def', 'del', 'elif', 'else', 'except', 'finally', 'for', 'from', 'global', 'if', 'import', 'in', 'is', 'lambda', 'nonlocal', 'not', 'or', 'pass', 'raise', 'return', 'try', 'while', 'with', 'yield']"
     ]
    }
   ],
   "source": [
    "import keyword\n",
    "\n",
    "print(keyword.kwlist,end='')"
   ]
  },
  {
   "cell_type": "markdown",
   "metadata": {},
   "source": [
    "### Q.2. What are the rules to create variables in python?"
   ]
  },
  {
   "cell_type": "markdown",
   "metadata": {},
   "source": [
    "- Start with a letter or underscore (_).\n",
    "- Use only letters, numbers, and underscores (_).\n",
    "- Avoid using reserved keywords.\n",
    "- No spaces or special characters (except underscore).\n",
    "- Choose descriptive names for clarity."
   ]
  },
  {
   "cell_type": "markdown",
   "metadata": {},
   "source": [
    "### Q.3. What are the standards and conventions followed for the nomenclature of variables in\n",
    "python to improve code readability and maintainability?"
   ]
  },
  {
   "cell_type": "markdown",
   "metadata": {},
   "source": [
    "- Use descriptive lowercase names (snake_case).\n",
    "- Avoid single-letter variables except in loops.\n",
    "- Constants in UPPERCASE_WITH_UNDERSCORES.\n",
    "- Be consistent and avoid ambiguous names.\n",
    "- Use verb-noun pairs for functions."
   ]
  },
  {
   "cell_type": "markdown",
   "metadata": {},
   "source": [
    "### Q.4. What will happen if a keyword is used as a variable name?"
   ]
  },
  {
   "cell_type": "markdown",
   "metadata": {},
   "source": [
    "If a keyword is used as a variable name in Python, it will result in a syntax error. Keywords are reserved words in the Python language that have predefined meanings and functionalities. They cannot be used as variable names, function names, or any other identifiers because doing so would lead to ambiguity and conflicts with their intended usage."
   ]
  },
  {
   "cell_type": "markdown",
   "metadata": {},
   "source": [
    "### Q.5. For what purpose def keyword is used?"
   ]
  },
  {
   "cell_type": "markdown",
   "metadata": {},
   "source": [
    "\n",
    "\n",
    "The def keyword in Python is used to define a user-defined function. Functions are blocks of organized, reusable code that perform a specific task. Defining functions using the def keyword allows you to encapsulate a set of instructions and give them a name, making it easier to use and maintain the code."
   ]
  },
  {
   "cell_type": "markdown",
   "metadata": {},
   "source": [
    "### Q.6. What is the operation of this special character ‘\\’?"
   ]
  },
  {
   "cell_type": "markdown",
   "metadata": {},
   "source": [
    "The special character '\\' (backslash) is used as an escape character in Python and many other programming languages. It modifies the interpretation of certain characters and creates escape sequences. Escape sequences are combinations of backslashes followed by a character that represents a special or non-printable character.\n",
    "\n",
    "Here are some common escape sequences used in Python:\n",
    "\n",
    "- \\': Single quote\n",
    "- \\\": Double quote\n",
    "- \\\\: Backslash\n",
    "- \\n: Newline (line break)\n",
    "- \\t: Tab\n",
    "- \\r: Carriage return (used in Windows text files)\n",
    "- \\b: Backspace\n",
    "- \\f: Form feed (used in printing)"
   ]
  },
  {
   "cell_type": "markdown",
   "metadata": {},
   "source": [
    "### Q.7. Give an example of the following conditions:\n",
    "\n",
    "(i) Homogeneous list\n",
    "\n",
    "(ii) Heterogeneous set\n",
    "\n",
    "(iii) Homogeneous tuple"
   ]
  },
  {
   "cell_type": "markdown",
   "metadata": {},
   "source": [
    "Sure! Here are shortened examples for each condition:\n",
    "\n",
    "(i) **Homogeneous list:**\n",
    "\n",
    "A homogeneous list contains elements of the same data type.\n",
    "\n",
    "```python\n",
    "numbers = [1, 2, 3, 4, 5]\n",
    "fruits = ['apple', 'banana', 'orange']\n",
    "flags = [True, False, True]\n",
    "```\n",
    "\n",
    "(ii) **Heterogeneous set:**\n",
    "\n",
    "A heterogeneous set contains elements of different data types.\n",
    "\n",
    "```python\n",
    "mixed_set = {1, 'apple', True, 3.14, (1, 2)}\n",
    "data_set = {1, 2, 'cat', 'dog', (1, 2, 3)}\n",
    "```\n",
    "\n",
    "(iii) **Homogeneous tuple:**\n",
    "\n",
    "A homogeneous tuple contains elements of the same data type.\n",
    "\n",
    "```python\n",
    "int_tuple = (10, 20, 30, 40, 50)\n",
    "str_tuple = ('apple', 'banana', 'orange')\n",
    "bool_tuple = (True, False, True)\n",
    "```\n",
    "\n",
    "In Python, the type of data stored in these data structures determines whether they are homogeneous or heterogeneous."
   ]
  },
  {
   "cell_type": "markdown",
   "metadata": {},
   "source": [
    "### Q.8. Explain the mutable and immutable data types with proper explanation & examples."
   ]
  },
  {
   "cell_type": "markdown",
   "metadata": {},
   "source": [
    "## Immutable Data Types:\n",
    "- **Explanation:** Values of immutable data types cannot be changed after creation.\n",
    "- **Examples:**\n",
    "  1. `int`: `x = 5`\n",
    "  2. `float`: `pi = 3.14`\n",
    "  3. `str`: `message = \"Hello\"`\n",
    "  4. `tuple`: `coordinates = (10, 20)`\n",
    "\n",
    "## Mutable Data Types:\n",
    "- **Explanation:** Values of mutable data types can be changed after creation.\n",
    "- **Examples:**\n",
    "  1. `list`: `numbers = [1, 2, 3]`\n",
    "  2. `dict`: `person = {'name': 'John', 'age': 30}`\n",
    "  3. `set`: `unique_numbers = {1, 2, 3}`\n",
    "  4. `bytearray`: `data = bytearray(b'Hello')`\n",
    "\n",
    "### Example of Immutability:\n",
    "\n",
    "```python\n",
    "x = 10\n",
    "print(x)  # Output: 10\n",
    "\n",
    "x = x + 5\n",
    "print(x)  # Output: 15 (New object is created with updated value)\n",
    "```\n",
    "\n",
    "### Example of Mutability:\n",
    "\n",
    "```python\n",
    "numbers = [1, 2, 3]\n",
    "print(numbers)  # Output: [1, 2, 3]\n",
    "\n",
    "numbers.append(4)\n",
    "print(numbers)  # Output: [1, 2, 3, 4] (List is modified in place)\n",
    "```\n",
    "\n",
    "In immutable data types, assigning a new value creates a new object, while in mutable data types, modifications happen in the same object."
   ]
  },
  {
   "cell_type": "markdown",
   "metadata": {},
   "source": [
    "### Q.9. Write a code to create the given structure using only for loop.\n",
    "``` \n",
    "    *\n",
    "   ***\n",
    "  *****\n",
    " *******\n",
    "*********"
   ]
  },
  {
   "cell_type": "code",
   "execution_count": 5,
   "metadata": {},
   "outputs": [
    {
     "name": "stdout",
     "output_type": "stream",
     "text": [
      "       *\n",
      "      ***\n",
      "     *****\n",
      "    *******\n",
      "   *********\n",
      "  ***********\n",
      " *************\n",
      "***************\n"
     ]
    }
   ],
   "source": [
    "def print_christmas_tree(height):\n",
    "    for i in range(1, height + 1):\n",
    "        spaces = height - i\n",
    "        stars = 2 * i - 1\n",
    "        print(' ' * spaces + '*' * stars)\n",
    "    \n",
    "tree_height = 8  # You can adjust the height of the tree here\n",
    "print_christmas_tree(tree_height)"
   ]
  },
  {
   "cell_type": "markdown",
   "metadata": {},
   "source": [
    "### Q.10. Write a code to create the given structure using while loop.\n",
    "```\n",
    "|||||||||\n",
    " |||||||\n",
    "  |||||\n",
    "   |||\n",
    "    |"
   ]
  },
  {
   "cell_type": "code",
   "execution_count": 11,
   "metadata": {},
   "outputs": [
    {
     "name": "stdout",
     "output_type": "stream",
     "text": [
      "|||||||||\n",
      " |||||||\n",
      "  |||||\n",
      "   |||\n",
      "    |\n"
     ]
    }
   ],
   "source": [
    "def triangle(height):\n",
    "    i = height \n",
    "    while i >= 1:\n",
    "        print(' ' * (height - i) + '|' * (2 * i - 1))\n",
    "        i -= 1\n",
    "        \n",
    "triangle(5)"
   ]
  },
  {
   "cell_type": "code",
   "execution_count": null,
   "metadata": {},
   "outputs": [],
   "source": []
  }
 ],
 "metadata": {
  "kernelspec": {
   "display_name": "base",
   "language": "python",
   "name": "python3"
  },
  "language_info": {
   "codemirror_mode": {
    "name": "ipython",
    "version": 3
   },
   "file_extension": ".py",
   "mimetype": "text/x-python",
   "name": "python",
   "nbconvert_exporter": "python",
   "pygments_lexer": "ipython3",
   "version": "3.9.12"
  },
  "orig_nbformat": 4
 },
 "nbformat": 4,
 "nbformat_minor": 2
}
