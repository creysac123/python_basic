{
 "cells": [
  {
   "cell_type": "markdown",
   "id": "c2fd9382-e1d2-47a9-a775-5c6b656e6c72",
   "metadata": {},
   "source": [
    "1. Is the Python Standard Library included with PyInputPlus?"
   ]
  },
  {
   "cell_type": "markdown",
   "id": "902f20c6-9e2c-4b9f-8f5d-865e872f14ac",
   "metadata": {},
   "source": [
    "No, the Python Standard Library is not included with PyInputPlus. so we need to install it separately using Pip install PyInputPlus."
   ]
  },
  {
   "cell_type": "markdown",
   "id": "048364da-41bc-443d-b7fd-beabaa0b9de0",
   "metadata": {},
   "source": [
    "2. Why is PyInputPlus commonly imported with import pyinputplus as pypi?"
   ]
  },
  {
   "cell_type": "markdown",
   "id": "20190a7e-04fd-411d-9945-7aadd8c1827a",
   "metadata": {},
   "source": [
    "PyInputPlus is commonly imported as \"pypi\" to provide a shorter and more convenient alias for the module, reducing the amount of typing required when accessing its functions and methods."
   ]
  },
  {
   "cell_type": "markdown",
   "id": "0436b293-656e-40dd-9eff-324c9b59b27d",
   "metadata": {},
   "source": [
    "3. How do you distinguish between inputInt() and inputFloat()?"
   ]
  },
  {
   "cell_type": "markdown",
   "id": "f32d3f89-dcad-43cc-8fae-0b1e0432a995",
   "metadata": {},
   "source": [
    "inputInt() : Accepts an integer value, and returns int value\n",
    "\n",
    "inputFloat() : Accepts integer/floating point value and returns float value\n",
    "\n",
    "Both takes additional parameters ‘min’, ‘max’, ‘greaterThan’ and ‘lessThan’ for bounds"
   ]
  },
  {
   "cell_type": "markdown",
   "id": "6e973a5a-4e04-4819-b897-a917cacd62cb",
   "metadata": {},
   "source": [
    "4. Using PyInputPlus, how do you ensure that the user enters a whole number between 0 and 99?"
   ]
  },
  {
   "cell_type": "markdown",
   "id": "791f9aeb-4751-4a09-9b3d-c102773deadb",
   "metadata": {},
   "source": [
    "To ensure that the user enters a whole number between 0 and 99 using PyInputPlus, you can use the `inputInt()` function with additional arguments for minimum and maximum values:\n",
    "\n",
    "\n"
   ]
  },
  {
   "cell_type": "code",
   "execution_count": 1,
   "id": "fe1fa1c3-0c17-4cd8-9fa1-8840228d8ad3",
   "metadata": {},
   "outputs": [
    {
     "name": "stdout",
     "output_type": "stream",
     "text": [
      "Enter a number between 0 and 99: "
     ]
    },
    {
     "name": "stdin",
     "output_type": "stream",
     "text": [
      " 4\n"
     ]
    }
   ],
   "source": [
    "import pyinputplus as pypi\n",
    "\n",
    "number = pypi.inputInt(prompt=\"Enter a number between 0 and 99: \", min=0, max=99)\n"
   ]
  },
  {
   "cell_type": "markdown",
   "id": "484a06ec-93af-4d53-a6f6-cf0cfd7ec9dc",
   "metadata": {},
   "source": [
    "5. What is transferred to the keyword arguments allowRegexes and blockRegexes?"
   ]
  },
  {
   "cell_type": "markdown",
   "id": "7a6cbb8c-fc62-4e0c-943c-f4ea70f940f4",
   "metadata": {},
   "source": [
    "The keyword arguments `allowRegexes` and `blockRegexes` in PyInputPlus are used to transfer regular expressions as patterns. `allowRegexes` allows matching any of the provided regular expressions, while `blockRegexes` blocks matching any of the provided regular expressions."
   ]
  },
  {
   "cell_type": "markdown",
   "id": "4be87edc-4ae3-4087-9ab0-a2b6b2d83a61",
   "metadata": {},
   "source": [
    "6. If a blank input is entered three times, what does inputStr(limit=3) do?"
   ]
  },
  {
   "cell_type": "markdown",
   "id": "3f042fd2-d79e-4b0b-a71d-3b70ac1ddea1",
   "metadata": {},
   "source": [
    "The statement inputStr(limit=3) will throw two exceptions ValidationException and RetryLimitException. The first exception is thrown because blank values are not allowed by inputStr() function by default. it we want to consider blank values as valid input, we have to set blank=True.\n",
    "\n",
    "The second exception is occured because we have reached the max limit we have specified by using limit parameter. inorder to avoid this exception we can use default parameter to return a default value when max limit is reached."
   ]
  },
  {
   "cell_type": "markdown",
   "id": "50c8a810-c70b-4a5a-9924-f1aaba2f5883",
   "metadata": {},
   "source": [
    "7. If blank input is entered three times, what does inputStr(limit=3, default=&#39;hello&#39;) do?"
   ]
  },
  {
   "cell_type": "code",
   "execution_count": null,
   "id": "79706207-e0e3-4a81-8f3c-cb2ba61b2c7c",
   "metadata": {},
   "outputs": [],
   "source": []
  }
 ],
 "metadata": {
  "kernelspec": {
   "display_name": "Python 3 (ipykernel)",
   "language": "python",
   "name": "python3"
  },
  "language_info": {
   "codemirror_mode": {
    "name": "ipython",
    "version": 3
   },
   "file_extension": ".py",
   "mimetype": "text/x-python",
   "name": "python",
   "nbconvert_exporter": "python",
   "pygments_lexer": "ipython3",
   "version": "3.10.6"
  }
 },
 "nbformat": 4,
 "nbformat_minor": 5
}
