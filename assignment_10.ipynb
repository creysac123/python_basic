{
 "cells": [
  {
   "cell_type": "markdown",
   "id": "1eac4f40-68b3-4761-a037-27a411ba0f53",
   "metadata": {},
   "source": [
    "1. How do you distinguish between shutil.copy() and shutil.copytree()?"
   ]
  },
  {
   "cell_type": "markdown",
   "id": "8b52bf28-d926-4a80-9c52-854eae86ec21",
   "metadata": {},
   "source": [
    "shutil.copy() is used for copying individual files, while shutil.copytree() is used for copying entire directory trees."
   ]
  },
  {
   "cell_type": "markdown",
   "id": "6695ca05-e79f-450a-b34d-a78b18a67eeb",
   "metadata": {},
   "source": [
    "2. What function is used to rename files??"
   ]
  },
  {
   "cell_type": "markdown",
   "id": "9238e864-b8d2-475c-a6b1-1a41a9bb39c7",
   "metadata": {},
   "source": [
    "The function used to rename files in Python is os.rename(src, dst) from the os module."
   ]
  },
  {
   "cell_type": "markdown",
   "id": "cb068246-cc6c-4cf6-814e-d11070a5776d",
   "metadata": {},
   "source": [
    "3. What is the difference between the delete functions in the send2trash and shutil modules?"
   ]
  },
  {
   "cell_type": "markdown",
   "id": "d4861358-f0eb-46ef-ba97-8a0a2f5b059e",
   "metadata": {},
   "source": [
    "send2trash: The send2trash module provides a function called send2trash(path) that sends a file or directory to the operating system's trash or recycle bin instead of permanently deleting it. It moves the specified item to the trash, allowing for potential recovery if needed. This function provides a safer alternative to the os.remove() or os.unlink() functions, as it offers a form of \"soft\" deletion.\n",
    "\n",
    "shutil: The shutil module includes functions such as shutil.rmtree(path) and shutil.remove(path) to delete files and directories. Unlike send2trash, these functions perform a permanent deletion by directly removing the specified file or directory from the file system. The deletion is irreversible, and the deleted items cannot be easily restored from the trash or recycle bin."
   ]
  },
  {
   "cell_type": "markdown",
   "id": "7304f7a8-54eb-4777-994d-2174ed1e92fb",
   "metadata": {},
   "source": [
    "4.ZipFile objects have a close() method just like File objects’ close() method. What ZipFile method is\n",
    "equivalent to File objects’ open() method?"
   ]
  },
  {
   "cell_type": "markdown",
   "id": "09e24fb7-4473-4042-8602-b13fbeda0878",
   "metadata": {},
   "source": [
    "ZipFile Module provides a method called as zipfile.ZipFile() to read and write to zipFiles. it takes arugments lile filename and mode etc zipfile.ZipFile('filename', mode = 'r')"
   ]
  },
  {
   "cell_type": "markdown",
   "id": "b52c020b-c5bf-4374-9ddc-4ecb3fb1b58e",
   "metadata": {},
   "source": [
    "5. Create a programme that searches a folder tree for files with a certain file extension (such as .pdf\n",
    "or .jpg). Copy these files from whatever location they are in to a new folder."
   ]
  },
  {
   "cell_type": "code",
   "execution_count": 19,
   "id": "fdb31125-f487-4fec-bafc-6f8713e06414",
   "metadata": {},
   "outputs": [
    {
     "name": "stdout",
     "output_type": "stream",
     "text": [
      "[Errno 2] No such file or directory: 'H:\\\\ds2\\\\ds1 l1 c5'\n"
     ]
    }
   ],
   "source": [
    "import os\n",
    "import shutil\n",
    "\n",
    "def copyFile(src,dst,ext):\n",
    "    try:\n",
    "        for file in os.listdir(src):\n",
    "            if file.endswith(ext):\n",
    "                shutil.copy(os.path.join(src,file),dst)\n",
    "        print(f'Files have been successfully copied from {src} to {dst}')\n",
    "    except Exception as e:\n",
    "        print(e)\n",
    "\n",
    "copyFile(r\"H:\\ds2\\ds1 l1 c5\", r\"H:\\ds2\\ds1 l1 c5\\New Folder\", '.pdf')"
   ]
  },
  {
   "cell_type": "code",
   "execution_count": null,
   "id": "ed8ae7cc-88d3-4753-88de-7800da9c915a",
   "metadata": {},
   "outputs": [],
   "source": []
  }
 ],
 "metadata": {
  "kernelspec": {
   "display_name": "Python 3 (ipykernel)",
   "language": "python",
   "name": "python3"
  },
  "language_info": {
   "codemirror_mode": {
    "name": "ipython",
    "version": 3
   },
   "file_extension": ".py",
   "mimetype": "text/x-python",
   "name": "python",
   "nbconvert_exporter": "python",
   "pygments_lexer": "ipython3",
   "version": "3.10.6"
  }
 },
 "nbformat": 4,
 "nbformat_minor": 5
}
