{
 "cells": [
  {
   "cell_type": "markdown",
   "id": "856e144b-461e-4a22-85dc-e3e298b66ab5",
   "metadata": {},
   "source": [
    "### 1. Make a class called Thing with no contents and print it. Then, create an object called example from this class and also print it. Are the printed values the same or different?"
   ]
  },
  {
   "cell_type": "code",
   "execution_count": 2,
   "id": "5517ee13-637f-43a6-a0b5-6f1fe7d3f26c",
   "metadata": {},
   "outputs": [
    {
     "name": "stdout",
     "output_type": "stream",
     "text": [
      "<class '__main__.thing'>\n",
      "<__main__.thing object at 0x7ff5b1d5ff40>\n"
     ]
    }
   ],
   "source": [
    "class thing():\n",
    "    pass\n",
    "\n",
    "print(thing)\n",
    "\n",
    "example = thing()\n",
    "print(example)"
   ]
  },
  {
   "cell_type": "markdown",
   "id": "99a96918-d193-4da8-af50-3154756aa526",
   "metadata": {},
   "source": [
    "### 2. Create a new class called Thing2 and add the value &#39;abc&#39; to the letters class attribute. Letters should be printed."
   ]
  },
  {
   "cell_type": "code",
   "execution_count": 3,
   "id": "e83d0d49-0dd8-4723-92a1-2e265cf7f8d4",
   "metadata": {},
   "outputs": [
    {
     "name": "stdout",
     "output_type": "stream",
     "text": [
      "abc\n"
     ]
    }
   ],
   "source": [
    "class thing2:\n",
    "    letters = 'abc'\n",
    "    \n",
    "print(thing2.letters)"
   ]
  },
  {
   "cell_type": "markdown",
   "id": "138cd433-88d3-43de-8ae0-6d18efbcff52",
   "metadata": {},
   "source": [
    "### 3. Make yet another class called, of course, Thing3. This time, assign the value 'xyz' to an instance (object) attribute called letters. Print letters. Do you need to make an object from the class to do this?"
   ]
  },
  {
   "cell_type": "code",
   "execution_count": 4,
   "id": "c68b8fb6-8809-4aaa-af32-4b26b859986e",
   "metadata": {},
   "outputs": [
    {
     "name": "stdout",
     "output_type": "stream",
     "text": [
      "xyz\n"
     ]
    }
   ],
   "source": [
    "class thing3:\n",
    "    def __init__(self):\n",
    "        self.letters = 'xyz'\n",
    "        \n",
    "obj = thing3()\n",
    "print(obj.letters)"
   ]
  },
  {
   "cell_type": "markdown",
   "id": "0103ca49-b49e-41dd-acad-3b0f7b1dfc92",
   "metadata": {},
   "source": [
    "### 4. Create an Element class with the instance attributes name, symbol, and number. Create a class object with the values &#39;Hydrogen,&#39; &#39;H,&#39; and 1."
   ]
  },
  {
   "cell_type": "code",
   "execution_count": 5,
   "id": "f06e2bb0-3d69-4b64-b111-80efe21c5777",
   "metadata": {},
   "outputs": [
    {
     "name": "stdout",
     "output_type": "stream",
     "text": [
      "Hydrogen H 1\n"
     ]
    }
   ],
   "source": [
    "class element:\n",
    "    def __init__(self, name, symbol, number):\n",
    "        self.name = name\n",
    "        self.symbol = symbol\n",
    "        self.number = number\n",
    "        \n",
    "obj = element('Hydrogen', 'H', 1)\n",
    "print(obj.name, obj.symbol, obj.number)"
   ]
  },
  {
   "cell_type": "markdown",
   "id": "ab130a5d-c516-4b79-b7e9-ae14fd817146",
   "metadata": {},
   "source": [
    "### 5. Make a dictionary with these keys and values: &#39;name&#39;: &#39;Hydrogen&#39;, &#39;symbol&#39;: &#39;H&#39;, &#39;number&#39;: 1. Then, create an object called hydrogen from class Element using this dictionary."
   ]
  },
  {
   "cell_type": "code",
   "execution_count": 14,
   "id": "144dad42-e448-4eb0-b504-d858bcd72c70",
   "metadata": {},
   "outputs": [
    {
     "name": "stdout",
     "output_type": "stream",
     "text": [
      "Hydrogen H 1\n"
     ]
    }
   ],
   "source": [
    "dictionary = {'name': 'Hydrogen', 'symbol': 'H', 'number': 1}\n",
    "\n",
    "hydrogen = element(**dictionary) # using dictionary unpacking **\n",
    "print(hydrogen.name, hydrogen.symbol, hydrogen.number)"
   ]
  },
  {
   "cell_type": "markdown",
   "id": "08d08e28-85e7-4110-94d8-ba255ed8908b",
   "metadata": {},
   "source": [
    "### 6. For the Element class, define a method called dump() that prints the values of the object’s attributes (name, symbol, and number). Create the hydrogen object from this new definition and use dump() to print its attributes."
   ]
  },
  {
   "cell_type": "code",
   "execution_count": 25,
   "id": "b30c9732-9bb3-4ce8-8270-8fed0bb9c435",
   "metadata": {},
   "outputs": [],
   "source": [
    "class element:\n",
    "    def __init__(self, name, symbol, number):\n",
    "        self.name = name\n",
    "        self.symbol = symbol\n",
    "        self.number = number\n",
    "    \n",
    "    def dump(self):\n",
    "        return f'{self.name} {self.symbol} {self.number}'"
   ]
  },
  {
   "cell_type": "code",
   "execution_count": 26,
   "id": "5719a355-3d5b-4ac0-9b90-e133cf3a64cb",
   "metadata": {},
   "outputs": [
    {
     "name": "stdout",
     "output_type": "stream",
     "text": [
      "Hydrogen H 1\n"
     ]
    }
   ],
   "source": [
    "hydrogen = element('Hydrogen', 'H', 1)\n",
    "print(hydrogen.dump())"
   ]
  },
  {
   "cell_type": "markdown",
   "id": "6e25dac9-7a08-451c-8560-52ddc8ebbfc4",
   "metadata": {},
   "source": [
    "### 7. Call print(hydrogen). In the definition of Element, change the name of method dump to __str__, create a new hydrogen object, and call print(hydrogen) again."
   ]
  },
  {
   "cell_type": "code",
   "execution_count": 27,
   "id": "a6d5b9c0-beb9-4421-b3e5-f537a68b084c",
   "metadata": {},
   "outputs": [
    {
     "name": "stdout",
     "output_type": "stream",
     "text": [
      "<__main__.element object at 0x7ff5b0477490>\n",
      "Hydrogen H 1\n"
     ]
    }
   ],
   "source": [
    "print(hydrogen)\n",
    "\n",
    "class element:\n",
    "    def __init__(self, name, symbol, number):\n",
    "        self.name = name\n",
    "        self.symbol = symbol\n",
    "        self.number = number\n",
    "    \n",
    "    def __str__(self):\n",
    "        return f'{self.name} {self.symbol} {self.number}'\n",
    "    \n",
    "hydrogen = element('Hydrogen', 'H', 1)\n",
    "print(hydrogen)"
   ]
  },
  {
   "cell_type": "markdown",
   "id": "02cacdbf-afc4-40c6-adac-16b9fa4e6765",
   "metadata": {},
   "source": [
    "### 8. Modify Element to make the attributes name, symbol, and number private. Define a getter property for each to return its value."
   ]
  },
  {
   "cell_type": "code",
   "execution_count": 28,
   "id": "ddb10404-cbfd-4ac5-be33-91552a0bbae0",
   "metadata": {},
   "outputs": [
    {
     "name": "stdout",
     "output_type": "stream",
     "text": [
      "Hydrogen\n",
      "H\n",
      "1\n"
     ]
    }
   ],
   "source": [
    "class Element:\n",
    "    def __init__(self, name, symbol, number):\n",
    "        self._name = name\n",
    "        self._symbol = symbol\n",
    "        self._number = number\n",
    "\n",
    "    @property\n",
    "    def name(self):\n",
    "        return self._name\n",
    "\n",
    "    @property\n",
    "    def symbol(self):\n",
    "        return self._symbol\n",
    "\n",
    "    @property\n",
    "    def number(self):\n",
    "        return self._number\n",
    "\n",
    "element = Element(\"Hydrogen\", \"H\", 1)\n",
    "\n",
    "print(element.name)   \n",
    "print(element.symbol) \n",
    "print(element.number) \n"
   ]
  },
  {
   "cell_type": "markdown",
   "id": "4a67249a-5f1f-4383-bc11-be14b02da8c9",
   "metadata": {},
   "source": [
    "### 9. Define three classes: Bear, Rabbit, and Octothorpe. For each, define only one method: eats(). This should return &#39;berries&#39; (Bear), &#39;clover&#39; (Rabbit), or &#39;campers&#39; (Octothorpe). Create one object from each and print what it eats."
   ]
  },
  {
   "cell_type": "code",
   "execution_count": 29,
   "id": "4fb387f8-dfb0-46d8-b473-2c5a33d01906",
   "metadata": {},
   "outputs": [
    {
     "name": "stdout",
     "output_type": "stream",
     "text": [
      "clover\n",
      "berries\n",
      "campers\n"
     ]
    }
   ],
   "source": [
    "class Bear():\n",
    "    def eat(self):\n",
    "        print(\"berries\")\n",
    "        \n",
    "class Rabbit():\n",
    "    def eat(self):\n",
    "        print(\"clover\")\n",
    "        \n",
    "class Octothorpe():\n",
    "    def eat(self):\n",
    "        print(\"campers\")\n",
    "        \n",
    "rabbit = Rabbit()\n",
    "bear = Bear()\n",
    "octothorpe = Octothorpe()\n",
    "\n",
    "rabbit.eat()\n",
    "bear.eat()\n",
    "octothorpe.eat()"
   ]
  },
  {
   "cell_type": "markdown",
   "id": "1f004915-ef0a-43f5-a124-34e63c116bbc",
   "metadata": {},
   "source": [
    "### 10. Define these classes: Laser, Claw, and SmartPhone. Each has only one method: does(). This returns &#39;disintegrate&#39; (Laser), &#39;crush&#39; (Claw), or &#39;ring&#39; (SmartPhone). Then, define the class Robot that has one instance (object) of each of these. Define a does() method for the Robot that prints what its component objects do."
   ]
  },
  {
   "cell_type": "code",
   "execution_count": 34,
   "id": "e6816c65-6ebb-42c9-8329-421d30754416",
   "metadata": {},
   "outputs": [],
   "source": [
    "class Laser:\n",
    "    def does(self):\n",
    "        return \"disintegrate\"\n",
    "        \n",
    "class Claw:\n",
    "    def does(self):\n",
    "        return \"crush\"\n",
    "\n",
    "class Smartphone:\n",
    "    def does(self):\n",
    "        return \"ring\"\n",
    "        \n",
    "class Robot:\n",
    "    def __init__(self):\n",
    "        self.laser = Laser()\n",
    "        self.claw = Claw()\n",
    "        self.smartphone = Smartphone()\n",
    "        \n",
    "    def does(self):\n",
    "        print(\"Robot's components:\")\n",
    "        print(\"Laser:\", self.laser.does())\n",
    "        print(\"Claw:\", self.claw.does())\n",
    "        print(\"SmartPhone:\", self.smartphone.does())"
   ]
  },
  {
   "cell_type": "code",
   "execution_count": 35,
   "id": "9ad1bf77-f417-42cc-b835-98b74250c4db",
   "metadata": {},
   "outputs": [
    {
     "name": "stdout",
     "output_type": "stream",
     "text": [
      "Robot's components:\n",
      "Laser: disintegrate\n",
      "Claw: crush\n",
      "SmartPhone: ring\n"
     ]
    }
   ],
   "source": [
    "robot = Robot()\n",
    "robot.does()\n"
   ]
  },
  {
   "cell_type": "code",
   "execution_count": null,
   "id": "7a5564c3-a234-4082-a1b8-99e87443fa3d",
   "metadata": {},
   "outputs": [],
   "source": []
  }
 ],
 "metadata": {
  "kernelspec": {
   "display_name": "Python 3 (ipykernel)",
   "language": "python",
   "name": "python3"
  },
  "language_info": {
   "codemirror_mode": {
    "name": "ipython",
    "version": 3
   },
   "file_extension": ".py",
   "mimetype": "text/x-python",
   "name": "python",
   "nbconvert_exporter": "python",
   "pygments_lexer": "ipython3",
   "version": "3.10.6"
  }
 },
 "nbformat": 4,
 "nbformat_minor": 5
}
