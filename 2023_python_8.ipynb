{
 "cells": [
  {
   "cell_type": "markdown",
   "id": "05d6d4e7",
   "metadata": {},
   "source": [
    "### 1. In Python, what is the difference between a built-in function and a user-defined function? Provide an example of each."
   ]
  },
  {
   "cell_type": "markdown",
   "id": "147e28a2",
   "metadata": {},
   "source": [
    "Difference between a Built-in Function and a User-defined Function:\n",
    "\n",
    "Built-in Function: Pre-defined in Python's standard library, readily available for use, e.g., print(), len(), range(), etc.\n",
    "\n",
    "User-defined Function: Created by the user, encapsulates code for specific tasks, defined using def, e.g., custom calculations, data processing."
   ]
  },
  {
   "cell_type": "code",
   "execution_count": 2,
   "id": "01cc1c9c",
   "metadata": {},
   "outputs": [
    {
     "name": "stdout",
     "output_type": "stream",
     "text": [
      "Hello, world!\n",
      "Rectangle area: 15\n"
     ]
    }
   ],
   "source": [
    "#built in functions\n",
    "print(\"Hello, world!\")\n",
    "\n",
    "\n",
    "#user defined functions\n",
    "def calculate_rectangle_area(length, width):\n",
    "    return length * width\n",
    "\n",
    "rectangle_area = calculate_rectangle_area(5, 3)\n",
    "print(\"Rectangle area:\", rectangle_area)\n"
   ]
  },
  {
   "cell_type": "markdown",
   "id": "ccc7ab1d",
   "metadata": {},
   "source": [
    "### How can you pass arguments to a function in Python? Explain the difference between positional arguments and keyword arguments."
   ]
  },
  {
   "cell_type": "markdown",
   "id": "5b2d3d05",
   "metadata": {},
   "source": [
    "**Passing Arguments to a Function in Python:**\n",
    "\n",
    "- You can pass arguments to a function by providing values when calling it.\n",
    "\n",
    "**Positional Arguments:**\n",
    "\n",
    "- Arguments are passed based on their position in the function's parameter list.\n",
    "- Order matters, and the number of arguments must match the number of parameters.\n",
    "\n",
    "**Example:**\n",
    "```python\n",
    "def greet(name, age):\n",
    "    print(f\"Hello, {name}. You are {age} years old.\")\n",
    "\n",
    "greet(\"Alice\", 30)\n",
    "```\n",
    "\n",
    "**Keyword Arguments:**\n",
    "\n",
    "- Arguments are passed with parameter names, so order doesn't matter.\n",
    "- You can skip parameters and assign values only to specific ones.\n",
    "\n",
    "**Example:**\n",
    "```python\n",
    "def greet(name, age):\n",
    "    print(f\"Hello, {name}. You are {age} years old.\")\n",
    "\n",
    "greet(age=30, name=\"Alice\")\n",
    "```"
   ]
  },
  {
   "cell_type": "markdown",
   "id": "a65fc21c",
   "metadata": {},
   "source": [
    "### 3. What is the purpose of the return statement in a function? Can a function have multiple return statements? Explain with an example."
   ]
  },
  {
   "cell_type": "markdown",
   "id": "5426fef9",
   "metadata": {},
   "source": [
    "**Purpose of the Return Statement in a Function:**\n",
    "\n",
    "- The `return` statement specifies the value that a function should send back to the caller.\n",
    "- It allows the function to provide a result or output for further use in the program.\n",
    "\n",
    "**Multiple Return Statements in a Function:**\n",
    "\n",
    "- Yes, a function can have multiple `return` statements.\n",
    "- However, once a `return` statement is encountered, the function exits, and any code after that won't be executed.\n",
    "\n",
    "**Example:**\n",
    "\n",
    "```python\n",
    "def calculate_rectangle_properties(length, width):\n",
    "    area = length * width\n",
    "    perimeter = 2 * (length + width)\n",
    "    return area  # First return statement\n",
    "    return perimeter  # Second return statement (Not executed)\n",
    "\n",
    "rectangle_area = calculate_rectangle_properties(5, 3)\n",
    "print(\"Rectangle Area:\", rectangle_area)  # Output: Rectangle Area: 15\n",
    "```\n",
    "\n",
    "In this example, the function calculates the area and perimeter of a rectangle but only returns the area. The second `return` statement for perimeter is not executed."
   ]
  },
  {
   "cell_type": "markdown",
   "id": "8c35cf25",
   "metadata": {},
   "source": [
    "### 4. What are lambda functions in Python? How are they different from regular functions? Provide an example where a lambda function can be useful."
   ]
  },
  {
   "cell_type": "markdown",
   "id": "4b7edd4b",
   "metadata": {},
   "source": [
    "**Lambda Functions in Python:**\n",
    "\n",
    "Lambda functions, also known as anonymous functions, are short and temporary functions created using the `lambda` keyword. They have a concise syntax and are ideal for simple, one-line operations. Unlike regular functions, lambda functions do not have a name and can only consist of a single expression.\n",
    "\n",
    "**Differences from Regular Functions:**\n",
    "\n",
    "- **Syntax:** Lambda functions are written on a single line, while regular functions use the `def` keyword and require a block of code.\n",
    "- **Name:** Lambda functions are anonymous and used for one-time tasks, while regular functions have names and can be reused.\n",
    "- **Number of Expressions:** Lambda functions can have only one expression, whereas regular functions can have multiple statements and expressions.\n"
   ]
  },
  {
   "cell_type": "code",
   "execution_count": 3,
   "id": "3f49decd",
   "metadata": {},
   "outputs": [
    {
     "name": "stdout",
     "output_type": "stream",
     "text": [
      "Sorted using regular function: [15, 27, 12, 6, 8]\n",
      "Sorted using lambda function: [15, 27, 12, 6, 8]\n"
     ]
    }
   ],
   "source": [
    "numbers = [15, 8, 27, 12, 6]\n",
    "\n",
    "# Using a regular function for sorting\n",
    "def remainder_mod_3(number):\n",
    "    return number % 3\n",
    "\n",
    "sorted_numbers_regular = sorted(numbers, key=remainder_mod_3)\n",
    "print(\"Sorted using regular function:\", sorted_numbers_regular)\n",
    "\n",
    "# Using a lambda function for sorting\n",
    "sorted_numbers_lambda = sorted(numbers, key=lambda x: x % 3)\n",
    "print(\"Sorted using lambda function:\", sorted_numbers_lambda)\n"
   ]
  },
  {
   "cell_type": "code",
   "execution_count": null,
   "id": "a2cbd799",
   "metadata": {},
   "outputs": [],
   "source": []
  }
 ],
 "metadata": {
  "kernelspec": {
   "display_name": "Python 3 (ipykernel)",
   "language": "python",
   "name": "python3"
  },
  "language_info": {
   "codemirror_mode": {
    "name": "ipython",
    "version": 3
   },
   "file_extension": ".py",
   "mimetype": "text/x-python",
   "name": "python",
   "nbconvert_exporter": "python",
   "pygments_lexer": "ipython3",
   "version": "3.9.12"
  }
 },
 "nbformat": 4,
 "nbformat_minor": 5
}
