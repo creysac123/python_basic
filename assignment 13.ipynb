{
 "cells": [
  {
   "cell_type": "markdown",
   "id": "482e1472-a811-4ad3-b6bd-94ae545716af",
   "metadata": {},
   "source": [
    "### 1. What advantages do Excel spreadsheets have over CSV spreadsheets?"
   ]
  },
  {
   "cell_type": "markdown",
   "id": "0ec5727c-f466-4224-918c-d8fd46654d28",
   "metadata": {},
   "source": [
    "Excel spreadsheets have advantages over CSV spreadsheets, including cell formatting, support for multiple sheets and workbooks, formulas and functions, charts and graphs, data validation, and macro support, providing richer features and flexibility for data management and analysis."
   ]
  },
  {
   "cell_type": "markdown",
   "id": "60396887-6491-4253-8e7f-f27f4fcb6042",
   "metadata": {},
   "source": [
    "### 2.What do you pass to csv.reader() and csv.writer() to create reader and writer objects?"
   ]
  },
  {
   "cell_type": "code",
   "execution_count": null,
   "id": "32be16ee-dda9-4d18-8a6f-52bf398eac1b",
   "metadata": {},
   "outputs": [],
   "source": [
    "import csv\n",
    "\n",
    "# Creating a reader object\n",
    "with open('data.csv', 'r') as file:\n",
    "    reader = csv.reader(file)\n",
    "\n",
    "# Creating a writer object\n",
    "with open('output.csv', 'w', newline='') as file:\n",
    "    writer = csv.writer(file)\n"
   ]
  },
  {
   "cell_type": "markdown",
   "id": "fe82e5a0-5225-4fab-ae94-248ce680f280",
   "metadata": {},
   "source": [
    "In the above code, we use the open() function to open the CSV file in the appropriate mode (read or write). Then, we pass the file object (file) to csv.reader() to create a reader object (reader), or csv.writer() to create a writer object (writer)."
   ]
  },
  {
   "cell_type": "markdown",
   "id": "c583dea9-c9f1-4b71-999a-0ae9fdd1d776",
   "metadata": {},
   "source": [
    "### 3. What modes do File objects for reader and writer objects need to be opened in?"
   ]
  },
  {
   "cell_type": "markdown",
   "id": "888bb027-4fb2-4b4f-9763-1b4cd34e70b5",
   "metadata": {},
   "source": [
    "Reader objects in the csv module require File objects to be opened in 'r' mode for reading data from a CSV file. Writer objects, on the other hand, need File objects to be opened in 'w' mode for writing data to a CSV file, along with the newline='' argument to handle line endings correctly."
   ]
  },
  {
   "cell_type": "markdown",
   "id": "1540495e-943b-41ad-9167-df0cd4b607aa",
   "metadata": {},
   "source": [
    "### 4. What method takes a list argument and writes it to a CSV file?"
   ]
  },
  {
   "cell_type": "code",
   "execution_count": 3,
   "id": "53a3e475-122d-4919-8fee-5d8e73bb80a1",
   "metadata": {},
   "outputs": [],
   "source": [
    "import csv\n",
    "\n",
    "data = [\n",
    "    ['First Name', 'Last Name', 'Email'],\n",
    "    ['John', 'Doe', 'john.doe@example.com'],\n",
    "    ['Jane', 'Smith', 'jane.smith@example.com'],\n",
    "    ['Bob', 'Johnson', 'bob.johnson@example.com']\n",
    "]\n",
    "\n",
    "with open('output.csv', 'w', newline='') as file:\n",
    "    writer = csv.writer(file)\n",
    "    writer.writerows(data)\n"
   ]
  },
  {
   "cell_type": "markdown",
   "id": "affcd071-ad6b-473d-826a-2531af82b592",
   "metadata": {},
   "source": [
    "When writing the data to the CSV file using writerows(), the first row will be treated as the column names, and the remaining rows will be written as data rows."
   ]
  },
  {
   "cell_type": "markdown",
   "id": "1e697501-6952-4d5e-b760-c8e955726ee4",
   "metadata": {},
   "source": [
    "### 5. What do the keyword arguments delimiter and line terminator do?"
   ]
  },
  {
   "cell_type": "code",
   "execution_count": 4,
   "id": "a6b0dc0f-6f5f-4d82-90e6-82adc656657b",
   "metadata": {},
   "outputs": [],
   "source": [
    "import csv\n",
    "\n",
    "data = [\n",
    "    ['John', 'Doe', 'john.doe@example.com'],\n",
    "    ['Jane', 'Smith', 'jane.smith@example.com'],\n",
    "    ['Bob', 'Johnson', 'bob.johnson@example.com']\n",
    "]\n",
    "\n",
    "with open('output.csv', 'w', newline='') as file:\n",
    "    writer = csv.writer(file, delimiter=';', lineterminator='\\r')\n",
    "    writer.writerows(data)\n"
   ]
  },
  {
   "cell_type": "markdown",
   "id": "e3880f1b-3678-45c7-86eb-cb2d6efa0b42",
   "metadata": {},
   "source": [
    "### 6. What function takes a string of JSON data and returns a Python data structure?"
   ]
  },
  {
   "cell_type": "markdown",
   "id": "622ae590-060c-4c65-90c8-985883c39065",
   "metadata": {},
   "source": [
    "The json.loads() function in Python is used to deserialize a string of JSON data and convert it into a Python data structure."
   ]
  },
  {
   "cell_type": "code",
   "execution_count": 8,
   "id": "494579e1-88ce-4ce2-83dc-4dc2c6d7ef16",
   "metadata": {},
   "outputs": [
    {
     "data": {
      "text/plain": [
       "{'name': 'John', 'age': 30, 'city': 'New York'}"
      ]
     },
     "execution_count": 8,
     "metadata": {},
     "output_type": "execute_result"
    }
   ],
   "source": [
    "import json\n",
    "\n",
    "json_data = '{\"name\": \"John\", \"age\": 30, \"city\": \"New York\"}'\n",
    "\n",
    "python_data = json.loads(json_data)\n",
    "python_data"
   ]
  },
  {
   "cell_type": "markdown",
   "id": "59687fe2-42e1-465f-bd56-e18eaf3d427e",
   "metadata": {},
   "source": [
    "### 7. What function takes a Python data structure and returns a string of JSON data?"
   ]
  },
  {
   "cell_type": "markdown",
   "id": "8cbd7ad6-7470-4512-ac76-d3a5b704a102",
   "metadata": {},
   "source": [
    "The json.dumps() function in Python is used to serialize a Python data structure into a string of JSON data."
   ]
  },
  {
   "cell_type": "code",
   "execution_count": 9,
   "id": "0e75843d-ec83-46a5-9eab-47cc9010c654",
   "metadata": {},
   "outputs": [
    {
     "data": {
      "text/plain": [
       "'{\"name\": \"John\", \"age\": 30, \"city\": \"New York\"}'"
      ]
     },
     "execution_count": 9,
     "metadata": {},
     "output_type": "execute_result"
    }
   ],
   "source": [
    "import json\n",
    "\n",
    "python_data = {\n",
    "    \"name\": \"John\",\n",
    "    \"age\": 30,\n",
    "    \"city\": \"New York\"\n",
    "}\n",
    "\n",
    "json_data = json.dumps(python_data)\n",
    "json_data"
   ]
  },
  {
   "cell_type": "code",
   "execution_count": null,
   "id": "566944ea-9706-43db-96d8-d50faf686097",
   "metadata": {},
   "outputs": [],
   "source": []
  }
 ],
 "metadata": {
  "kernelspec": {
   "display_name": "Python 3 (ipykernel)",
   "language": "python",
   "name": "python3"
  },
  "language_info": {
   "codemirror_mode": {
    "name": "ipython",
    "version": 3
   },
   "file_extension": ".py",
   "mimetype": "text/x-python",
   "name": "python",
   "nbconvert_exporter": "python",
   "pygments_lexer": "ipython3",
   "version": "3.10.6"
  }
 },
 "nbformat": 4,
 "nbformat_minor": 5
}
